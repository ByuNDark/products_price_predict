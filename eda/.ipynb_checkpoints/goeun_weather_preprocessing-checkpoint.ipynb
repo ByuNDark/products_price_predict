{
 "cells": [
  {
   "cell_type": "markdown",
   "id": "8931dad8",
   "metadata": {},
   "source": [
    "[AT_TSALET_ALL 파일 전처리 코드](https://dacon.io/competitions/official/235801/codeshare/3233?page=1&dtype=recent)\n",
    "\n",
    "## Overview\n",
    "\n",
    "# 품목 : 토마토,  포도(캠벨얼리, 샤인마스캇)\n",
    "컬리 : 토마토, 감귤, 사과, 포도, 배, 자두\n",
    "\n",
    "데이터 수집 기간 : 2016년 1/1 ~ 2020년 9/28\n",
    "\n",
    "## 주제:  농산물 품목별로 가격 변동 예측 모델 구현\n",
    "\n",
    "### 과제 선정 배경\n",
    "코로나 사태가 지속되면서 온라인 시장이 급증하여 가격 변동 예측을 통해 필요한 상품을 필요한 주기에 적정가에 구매하여 구매 비용 및 폐기율 낮춰 생산량 조절\n",
    "\n",
    "\n",
    "### 과제 주요 내용\n",
    "- 농산물 가격은 추측이 어려운 경향이 있음. 기격에 영향을 미치는 요인으로 거래량, 기상, 가격,사회적인 이슈, 물가 상승률, 거래량, 유가, 생산량, 해외 수입량, 재배 면적 등 다양하지만, 그중 기상, 유가, 가격, 거래량 데이터를 이용. 해당 데이터들을 수집하여 전처리, 이상치 탐지, 정규화 등의 과정을 거친 뒤, 회귀 기법의 머신러닝 모델 및 딥러닝(LSTM)을 이용하여 모델을 학습하고 예측한다.\n",
    "- 주기는 1, 2, 4주로 예측\n",
    "- 이번 프로젝트에서는 배추, 무, 양파, 건고추, 마늘, 대파, 얼갈이배추, 양배추, 깻잎, 시금치, 미나리, 당근, 파프리카, 새송이, 팽이버섯, 토마토, 청상추, 백다다기, 애호박, 캠벨얼리, 샤인마스캇 총 21개의 작물에 대하여 가격 예측을 진행한다.\n",
    "- 수요예측 -> 계획 생산 -> 좋은 품질을 연간 균일, 합리적인 가격\n",
    "\n",
    "### 과제 목표\n",
    "- 마켓컬리 '폐기율 0.1%' 도전, 고객의 성향이나 맥락, 상품 특성을 고려해 적절한 시기에 상품을 추천함으로써 고객이 원하는 상품을 빠르고 쉽게 찾아서 주문할 수 있도록 지원하기위해 가격 예측이 필요함\n",
    "- 입력받은 일자의 1주 뒤, 2주 뒤, 4주 뒤의 가격을 예측하는 것을 목표로 한다. 예를 들어, 2022년 10월 24일의 데이터를 입력으로 한다면, 10월 31일, 11월 1일, 11월 14일의 가격을 수치형으로 예측한다. 모델의 성능 평가 지표는 농산물마다 가격 범위 차이가 큰 점을 반영하여 NMAE(Normalized Mean Absolute Error)를 사용하며, 해당 값이 0.2가 넘지 않게 하는 것을 목표로 한다.\n",
    "\n",
    "### 평가지표 \n",
    "**RMSE(Root Mean Squared Error)**\n",
    "RMSE의 경우 MSE는 제곱을 하기 때문에 MAE와는 다르게 모델의 예측값과 실제값 차이의 면적의 합이다. 이런 차이로 특이값이 존재하면 수치가 많이 늘어나며 특이치에 민감하다는 단점을 보완한 RMSE를 사용하면 오류 지표를 실제 값과 유사한 단위로 다시 변환하여 해석에 용이함.\n",
    "\n",
    "[X] RMSE(평가지표) 예측 주기 정하기\n",
    "\n",
    "\n",
    "# 라이브러리 불러오기"
   ]
  },
  {
   "cell_type": "code",
   "execution_count": 211,
   "id": "41e85cce",
   "metadata": {
    "ExecuteTime": {
     "end_time": "2022-09-29T00:28:16.551882Z",
     "start_time": "2022-09-29T00:28:16.543435Z"
    }
   },
   "outputs": [],
   "source": [
    "import matplotlib.pyplot as plt\n",
    "plt.rcParams['font.family'] = 'AppleGothic'\n",
    "import tensorflow as tf\n",
    "import keras\n",
    "from numpy import array\n",
    "import pandas as pd\n",
    "import matplotlib.pyplot as plt\n",
    "import numpy as np\n",
    "import math\n",
    "import matplotlib as mpl\n",
    "from IPython.core.display import display, HTML\n",
    "from datetime import datetime\n",
    "from datetime import timedelta\n",
    "from dateutil.relativedelta import relativedelta\n",
    "from sklearn.preprocessing import MinMaxScaler, RobustScaler\n",
    "# from sklearn.model_selection import train_test_split, RandomizedSearchCV\n",
    "from sklearn.metrics import mean_squared_error, r2_score, mean_absolute_error\n",
    "from tensorflow.keras import Sequential\n",
    "from tensorflow.keras import layers\n",
    "from tensorflow.keras.layers import Dense, LSTM, Dropout\n",
    "from keras.callbacks import ModelCheckpoint, EarlyStopping\n",
    "from statsmodels.tsa.seasonal import seasonal_decompose, STL\n",
    "import urllib.request\n",
    "import requests\n",
    "import json\n",
    "import datetime\n",
    "import os\n",
    "from datetime import datetime\n",
    "from sklearn.ensemble import RandomForestRegressor\n",
    "import seaborn as sns\n",
    "from tqdm import tqdm\n",
    "\n",
    "import warnings\n",
    "warnings.filterwarnings('ignore')"
   ]
  },
  {
   "cell_type": "markdown",
   "id": "5f4952d8",
   "metadata": {},
   "source": [
    "# Dataset\n",
    "\n",
    "### 데이터 수집\n",
    "이번 프로젝트에서는 2019년 1월 1일부터 2022년 6월 30일까지의 데이터를 학습용 데이터셋으로 수집하며, 2022년 7월 1일 + 1week부터 2022년 9월 30일 + 4week 까지를 테스트 데이터셋으로 수집한다.\n",
    "\n",
    "#### 농산물 거래량 및 가격 데이터(train)\n",
    "- 농넷에서 API Key를 발급받아 전국도매시장 거래정보 데이터를 수집한다.\n",
    "- 농넷 | 농산물유통종합정보시스템: https://nongnet.or.kr\n",
    "- 데이콘\n",
    "\n",
    "#### 날씨 데이터(weather) \n",
    "- 공공데이터 포털에서 API Key를 발급받아 데이터 수집을 진행한다.\n",
    "- 농촌진흥청 국립농업과학원 농업기상 데이터: https://www.data.go.kr/data/15078057/openapi.do\n",
    "\n",
    "#### 유가 데이터(oil)\n",
    "- 일간 휘발유, 경유의 거래 가격\n",
    "- 오프넷 | https://www.opinet.co.kr/user/dopecomm/dopEcommSelect.do\n",
    "\n",
    "#### 소비자 물가 지수 데이터(price_index)\n",
    "- 가구에서 일상생활을 영위하기 위해 구입하는 상품과 서비스의 가격변동을 측정하기 위하여 작성되는 지수 일별 가격\n",
    "- KOSIS| https://kosis.kr/statHtml/statHtml.do?orgId=101&tblId=DT_2KAA601_02&conn_path=I2"
   ]
  },
  {
   "cell_type": "markdown",
   "id": "1ba35ee3",
   "metadata": {},
   "source": [
    "## 농산물, 유가, 소비자 물가지수 데이터 가져오기"
   ]
  },
  {
   "cell_type": "code",
   "execution_count": 2,
   "id": "49d128d7",
   "metadata": {
    "ExecuteTime": {
     "end_time": "2022-09-28T05:07:27.310784Z",
     "start_time": "2022-09-28T05:07:27.305006Z"
    }
   },
   "outputs": [
    {
     "name": "stdout",
     "output_type": "stream",
     "text": [
      "['AT_TSALET_ALL_201807.csv', 'AT_TSALET_ALL_201608.csv', 'AT_TSALET_ALL_201609.csv', 'AT_TSALET_ALL_201806.csv', 'AT_TSALET_ALL_201812.csv', 'AT_TSALET_ALL_201804.csv', 'AT_TSALET_ALL_201810.csv', 'AT_TSALET_ALL_201811.csv', 'AT_TSALET_ALL_201805.csv', 'AT_TSALET_ALL_201801.csv', 'AT_TSALET_ALL_201802.csv', 'AT_TSALET_ALL_201803.csv', 'AT_TSALET_ALL_201904.csv', 'AT_TSALET_ALL_201910.csv', 'AT_TSALET_ALL_202001.csv', 'AT_TSALET_ALL_201911.csv', 'AT_TSALET_ALL_201905.csv', 'AT_TSALET_ALL_201907.csv', 'AT_TSALET_ALL_201708.csv', 'AT_TSALET_ALL_202003.csv', 'AT_TSALET_ALL_202002.csv', 'AT_TSALET_ALL_201709.csv', 'AT_TSALET_ALL_201906.csv', 'AT_TSALET_ALL_201912.csv', 'AT_TSALET_ALL_201902.csv', 'AT_TSALET_ALL_202006.csv', 'AT_TSALET_ALL_202007.csv', 'AT_TSALET_ALL_201903.csv', 'AT_TSALET_ALL_201901.csv', 'AT_TSALET_ALL_202005.csv', 'AT_TSALET_ALL_202004.csv', 'AT_TSALET_ALL_201702.csv', 'AT_TSALET_ALL_202009.csv', 'AT_TSALET_ALL_202008.csv', 'AT_TSALET_ALL_201703.csv', 'AT_TSALET_ALL_201701.csv', 'AT_TSALET_ALL_201710.csv', 'AT_TSALET_ALL_201704.csv', 'AT_TSALET_ALL_201705.csv', 'AT_TSALET_ALL_201711.csv', 'AT_TSALET_ALL_201908.csv', 'AT_TSALET_ALL_201707.csv', 'AT_TSALET_ALL_201712.csv', 'AT_TSALET_ALL_201706.csv', 'AT_TSALET_ALL_201909.csv', 'AT_TSALET_ALL_201601.csv', 'AT_TSALET_ALL_201602.csv', 'AT_TSALET_ALL_201603.csv', 'AT_TSALET_ALL_201808.csv', 'AT_TSALET_ALL_201607.csv', 'AT_TSALET_ALL_201612.csv', 'AT_TSALET_ALL_201606.csv', 'AT_TSALET_ALL_201809.csv', 'AT_TSALET_ALL_201610.csv', 'AT_TSALET_ALL_201604.csv', 'AT_TSALET_ALL_201605.csv', 'AT_TSALET_ALL_201611.csv']\n"
     ]
    }
   ],
   "source": [
    "# tain data 2016.01.01 ~ 2021.08.31\n",
    "base = '/Users/cge/Documents/yeardream/프로젝트/기업프로젝트'\n",
    "\n",
    "public_data =  base+'/data/public_data/'\n",
    "private_data = base+'/data/private_data/'\n",
    "sample_submission = pd.read_csv(base+'/data/sample_submission.csv')\n",
    "submission = base+'./data/submission/'\n",
    "\n",
    "private = pd.read_csv(private_data + 'private_data.csv')\n",
    "# private.info()\n",
    "\n",
    "import os\n",
    "arr = os.listdir(base+'/data/public_data/train_AT_TSALET_ALL/')\n",
    "print(arr)"
   ]
  },
  {
   "cell_type": "code",
   "execution_count": 3,
   "id": "4bacd237",
   "metadata": {
    "ExecuteTime": {
     "end_time": "2022-09-28T05:07:27.386960Z",
     "start_time": "2022-09-28T05:07:27.366703Z"
    },
    "scrolled": true
   },
   "outputs": [
    {
     "data": {
      "text/plain": [
       "(1733, 44)"
      ]
     },
     "metadata": {},
     "output_type": "display_data"
    },
    {
     "data": {
      "text/plain": [
       "(1733, 1)"
      ]
     },
     "metadata": {},
     "output_type": "display_data"
    },
    {
     "data": {
      "text/plain": [
       "(1733, 5)"
      ]
     },
     "metadata": {},
     "output_type": "display_data"
    }
   ],
   "source": [
    "base_path = '/Users/cge/Documents/yeardream/프로젝트/기업프로젝트/products_price_predict/data/raw/'\n",
    "\n",
    "train = pd.read_csv(base_path+'train.csv')\n",
    "price_index = pd.read_csv(base_path+'/물가지수.csv', index_col=0)\n",
    "oil = pd.read_csv(base_path+'/주유소_평균판매가격.csv', encoding='cp949')\n",
    "\n",
    "display(train.shape)\n",
    "display(price_index.shape)\n",
    "display(oil.shape)"
   ]
  },
  {
   "cell_type": "code",
   "execution_count": 4,
   "id": "b98a688f",
   "metadata": {
    "ExecuteTime": {
     "end_time": "2022-09-28T05:07:28.194736Z",
     "start_time": "2022-09-28T05:07:28.170503Z"
    }
   },
   "outputs": [
    {
     "data": {
      "text/html": [
       "<div>\n",
       "<style scoped>\n",
       "    .dataframe tbody tr th:only-of-type {\n",
       "        vertical-align: middle;\n",
       "    }\n",
       "\n",
       "    .dataframe tbody tr th {\n",
       "        vertical-align: top;\n",
       "    }\n",
       "\n",
       "    .dataframe thead th {\n",
       "        text-align: right;\n",
       "    }\n",
       "</style>\n",
       "<table border=\"1\" class=\"dataframe\">\n",
       "  <thead>\n",
       "    <tr style=\"text-align: right;\">\n",
       "      <th></th>\n",
       "      <th>date</th>\n",
       "      <th>요일</th>\n",
       "      <th>토마토_거래량(kg)</th>\n",
       "      <th>토마토_가격(원/kg)</th>\n",
       "      <th>캠벨얼리_거래량(kg)</th>\n",
       "      <th>캠벨얼리_가격(원/kg)</th>\n",
       "      <th>샤인마스캇_거래량(kg)</th>\n",
       "      <th>샤인마스캇_가격(원/kg)</th>\n",
       "    </tr>\n",
       "  </thead>\n",
       "  <tbody>\n",
       "    <tr>\n",
       "      <th>0</th>\n",
       "      <td>2016-01-01</td>\n",
       "      <td>금요일</td>\n",
       "      <td>0.0</td>\n",
       "      <td>0.0</td>\n",
       "      <td>0.0</td>\n",
       "      <td>0.0</td>\n",
       "      <td>0.0</td>\n",
       "      <td>0.0</td>\n",
       "    </tr>\n",
       "    <tr>\n",
       "      <th>1</th>\n",
       "      <td>2016-01-02</td>\n",
       "      <td>토요일</td>\n",
       "      <td>30950.0</td>\n",
       "      <td>1621.0</td>\n",
       "      <td>880.0</td>\n",
       "      <td>2014.0</td>\n",
       "      <td>0.0</td>\n",
       "      <td>0.0</td>\n",
       "    </tr>\n",
       "    <tr>\n",
       "      <th>2</th>\n",
       "      <td>2016-01-03</td>\n",
       "      <td>일요일</td>\n",
       "      <td>0.0</td>\n",
       "      <td>0.0</td>\n",
       "      <td>0.0</td>\n",
       "      <td>0.0</td>\n",
       "      <td>0.0</td>\n",
       "      <td>0.0</td>\n",
       "    </tr>\n",
       "    <tr>\n",
       "      <th>3</th>\n",
       "      <td>2016-01-04</td>\n",
       "      <td>월요일</td>\n",
       "      <td>291057.0</td>\n",
       "      <td>1834.0</td>\n",
       "      <td>2703.8</td>\n",
       "      <td>3885.0</td>\n",
       "      <td>0.0</td>\n",
       "      <td>0.0</td>\n",
       "    </tr>\n",
       "    <tr>\n",
       "      <th>4</th>\n",
       "      <td>2016-01-05</td>\n",
       "      <td>화요일</td>\n",
       "      <td>194626.5</td>\n",
       "      <td>1833.0</td>\n",
       "      <td>8810.0</td>\n",
       "      <td>2853.0</td>\n",
       "      <td>0.0</td>\n",
       "      <td>0.0</td>\n",
       "    </tr>\n",
       "    <tr>\n",
       "      <th>...</th>\n",
       "      <td>...</td>\n",
       "      <td>...</td>\n",
       "      <td>...</td>\n",
       "      <td>...</td>\n",
       "      <td>...</td>\n",
       "      <td>...</td>\n",
       "      <td>...</td>\n",
       "      <td>...</td>\n",
       "    </tr>\n",
       "    <tr>\n",
       "      <th>1728</th>\n",
       "      <td>2020-09-24</td>\n",
       "      <td>목요일</td>\n",
       "      <td>142487.0</td>\n",
       "      <td>5587.0</td>\n",
       "      <td>504242.6</td>\n",
       "      <td>3620.0</td>\n",
       "      <td>283196.9</td>\n",
       "      <td>10940.0</td>\n",
       "    </tr>\n",
       "    <tr>\n",
       "      <th>1729</th>\n",
       "      <td>2020-09-25</td>\n",
       "      <td>금요일</td>\n",
       "      <td>152575.5</td>\n",
       "      <td>5596.0</td>\n",
       "      <td>479683.1</td>\n",
       "      <td>3618.0</td>\n",
       "      <td>303779.6</td>\n",
       "      <td>10844.0</td>\n",
       "    </tr>\n",
       "    <tr>\n",
       "      <th>1730</th>\n",
       "      <td>2020-09-26</td>\n",
       "      <td>토요일</td>\n",
       "      <td>176807.0</td>\n",
       "      <td>5262.0</td>\n",
       "      <td>521493.8</td>\n",
       "      <td>3691.0</td>\n",
       "      <td>313295.7</td>\n",
       "      <td>10636.0</td>\n",
       "    </tr>\n",
       "    <tr>\n",
       "      <th>1731</th>\n",
       "      <td>2020-09-27</td>\n",
       "      <td>일요일</td>\n",
       "      <td>910.0</td>\n",
       "      <td>3781.0</td>\n",
       "      <td>21717.0</td>\n",
       "      <td>3567.0</td>\n",
       "      <td>9734.0</td>\n",
       "      <td>10699.0</td>\n",
       "    </tr>\n",
       "    <tr>\n",
       "      <th>1732</th>\n",
       "      <td>2020-09-28</td>\n",
       "      <td>월요일</td>\n",
       "      <td>285116.5</td>\n",
       "      <td>5024.0</td>\n",
       "      <td>601841.0</td>\n",
       "      <td>3761.0</td>\n",
       "      <td>382263.4</td>\n",
       "      <td>10998.0</td>\n",
       "    </tr>\n",
       "  </tbody>\n",
       "</table>\n",
       "<p>1733 rows × 8 columns</p>\n",
       "</div>"
      ],
      "text/plain": [
       "            date   요일  토마토_거래량(kg)  토마토_가격(원/kg)  캠벨얼리_거래량(kg)  캠벨얼리_가격(원/kg)  \\\n",
       "0     2016-01-01  금요일          0.0           0.0           0.0            0.0   \n",
       "1     2016-01-02  토요일      30950.0        1621.0         880.0         2014.0   \n",
       "2     2016-01-03  일요일          0.0           0.0           0.0            0.0   \n",
       "3     2016-01-04  월요일     291057.0        1834.0        2703.8         3885.0   \n",
       "4     2016-01-05  화요일     194626.5        1833.0        8810.0         2853.0   \n",
       "...          ...  ...          ...           ...           ...            ...   \n",
       "1728  2020-09-24  목요일     142487.0        5587.0      504242.6         3620.0   \n",
       "1729  2020-09-25  금요일     152575.5        5596.0      479683.1         3618.0   \n",
       "1730  2020-09-26  토요일     176807.0        5262.0      521493.8         3691.0   \n",
       "1731  2020-09-27  일요일        910.0        3781.0       21717.0         3567.0   \n",
       "1732  2020-09-28  월요일     285116.5        5024.0      601841.0         3761.0   \n",
       "\n",
       "      샤인마스캇_거래량(kg)  샤인마스캇_가격(원/kg)  \n",
       "0               0.0             0.0  \n",
       "1               0.0             0.0  \n",
       "2               0.0             0.0  \n",
       "3               0.0             0.0  \n",
       "4               0.0             0.0  \n",
       "...             ...             ...  \n",
       "1728       283196.9         10940.0  \n",
       "1729       303779.6         10844.0  \n",
       "1730       313295.7         10636.0  \n",
       "1731         9734.0         10699.0  \n",
       "1732       382263.4         10998.0  \n",
       "\n",
       "[1733 rows x 8 columns]"
      ]
     },
     "execution_count": 4,
     "metadata": {},
     "output_type": "execute_result"
    }
   ],
   "source": [
    "train = train[['date', '요일','토마토_거래량(kg)','토마토_가격(원/kg)', '캠벨얼리_거래량(kg)', '캠벨얼리_가격(원/kg)','샤인마스캇_거래량(kg)','샤인마스캇_가격(원/kg)']]\n",
    "train"
   ]
  },
  {
   "cell_type": "markdown",
   "id": "fe19b4a1",
   "metadata": {},
   "source": [
    "## 날씨 데이터 가져오기\n",
    "api 이용"
   ]
  },
  {
   "cell_type": "code",
   "execution_count": 5,
   "id": "09e2e74e",
   "metadata": {
    "ExecuteTime": {
     "end_time": "2022-09-28T05:07:32.917007Z",
     "start_time": "2022-09-28T05:07:32.913628Z"
    }
   },
   "outputs": [
    {
     "name": "stdout",
     "output_type": "stream",
     "text": [
      "['AT_TSALET_ALL_201807.csv', 'AT_TSALET_ALL_201608.csv', 'AT_TSALET_ALL_201609.csv', 'AT_TSALET_ALL_201806.csv', 'AT_TSALET_ALL_201812.csv', 'AT_TSALET_ALL_201804.csv', 'AT_TSALET_ALL_201810.csv', 'AT_TSALET_ALL_201811.csv', 'AT_TSALET_ALL_201805.csv', 'AT_TSALET_ALL_201801.csv', 'AT_TSALET_ALL_201802.csv', 'AT_TSALET_ALL_201803.csv', 'AT_TSALET_ALL_201904.csv', 'AT_TSALET_ALL_201910.csv', 'AT_TSALET_ALL_202001.csv', 'AT_TSALET_ALL_201911.csv', 'AT_TSALET_ALL_201905.csv', 'AT_TSALET_ALL_201907.csv', 'AT_TSALET_ALL_201708.csv', 'AT_TSALET_ALL_202003.csv', 'AT_TSALET_ALL_202002.csv', 'AT_TSALET_ALL_201709.csv', 'AT_TSALET_ALL_201906.csv', 'AT_TSALET_ALL_201912.csv', 'AT_TSALET_ALL_201902.csv', 'AT_TSALET_ALL_202006.csv', 'AT_TSALET_ALL_202007.csv', 'AT_TSALET_ALL_201903.csv', 'AT_TSALET_ALL_201901.csv', 'AT_TSALET_ALL_202005.csv', 'AT_TSALET_ALL_202004.csv', 'AT_TSALET_ALL_201702.csv', 'AT_TSALET_ALL_202009.csv', 'AT_TSALET_ALL_202008.csv', 'AT_TSALET_ALL_201703.csv', 'AT_TSALET_ALL_201701.csv', 'AT_TSALET_ALL_201710.csv', 'AT_TSALET_ALL_201704.csv', 'AT_TSALET_ALL_201705.csv', 'AT_TSALET_ALL_201711.csv', 'AT_TSALET_ALL_201908.csv', 'AT_TSALET_ALL_201707.csv', 'AT_TSALET_ALL_201712.csv', 'AT_TSALET_ALL_201706.csv', 'AT_TSALET_ALL_201909.csv', 'AT_TSALET_ALL_201601.csv', 'AT_TSALET_ALL_201602.csv', 'AT_TSALET_ALL_201603.csv', 'AT_TSALET_ALL_201808.csv', 'AT_TSALET_ALL_201607.csv', 'AT_TSALET_ALL_201612.csv', 'AT_TSALET_ALL_201606.csv', 'AT_TSALET_ALL_201809.csv', 'AT_TSALET_ALL_201610.csv', 'AT_TSALET_ALL_201604.csv', 'AT_TSALET_ALL_201605.csv', 'AT_TSALET_ALL_201611.csv']\n"
     ]
    }
   ],
   "source": [
    "print(arr)"
   ]
  },
  {
   "cell_type": "code",
   "execution_count": 6,
   "id": "ebe96cf0",
   "metadata": {
    "ExecuteTime": {
     "end_time": "2022-09-28T05:08:13.476742Z",
     "start_time": "2022-09-28T05:07:33.997530Z"
    }
   },
   "outputs": [
    {
     "name": "stderr",
     "output_type": "stream",
     "text": [
      "100%|███████████████████████████████████████████████████████| 9/9 [00:27<00:00,  3.02s/it]\n"
     ]
    }
   ],
   "source": [
    "filename_list = arr\n",
    "filename_list_2020 = []\n",
    "for filename in filename_list:\n",
    "    if '2020' in filename:\n",
    "        filename_list_2020.append(filename)\n",
    "        \n",
    "path = '/Users/cge/Documents/yeardream/프로젝트/기업프로젝트/data/public_data/train_AT_TSALET_ALL/'\n",
    "df_list = []\n",
    "for filename in tqdm(filename_list_2020):\n",
    "    df = pd.read_csv(path+filename)\n",
    "    df_list.append(df)\n",
    "    \n",
    "data= pd.concat(df_list, sort= False).reset_index(drop=True)"
   ]
  },
  {
   "cell_type": "code",
   "execution_count": 7,
   "id": "60014261",
   "metadata": {
    "ExecuteTime": {
     "end_time": "2022-09-28T05:08:26.286649Z",
     "start_time": "2022-09-28T05:08:24.915475Z"
    }
   },
   "outputs": [
    {
     "data": {
      "text/plain": [
       "부산 강서구      180982\n",
       "부산광역시        54934\n",
       "강원도 철원군      40510\n",
       "부산 중구        39503\n",
       "경북 경주시       31134\n",
       "             ...  \n",
       "서울 도봉구           1\n",
       "중국               1\n",
       "충청북도 진천군         1\n",
       "전라남도 나주시         1\n",
       "태국               1\n",
       "Name: SAN_NM, Length: 344, dtype: int64"
      ]
     },
     "execution_count": 7,
     "metadata": {},
     "output_type": "execute_result"
    }
   ],
   "source": [
    "# 토마토\n",
    "tomato = data[(data.PUM_NM == '토마토')]\n",
    "tomato.SAN_NM.value_counts()"
   ]
  },
  {
   "cell_type": "code",
   "execution_count": 8,
   "id": "c944646f",
   "metadata": {
    "ExecuteTime": {
     "end_time": "2022-09-28T05:08:27.249892Z",
     "start_time": "2022-09-28T05:08:26.287858Z"
    }
   },
   "outputs": [
    {
     "data": {
      "text/plain": [
       "전북 남원시        41350\n",
       "경상북도 상주시      22274\n",
       "경기도 화성시       15445\n",
       "경북 상주시        11344\n",
       "충청북도 영동군      10552\n",
       "              ...  \n",
       "충청남도 예산군          1\n",
       "경북 고령군            1\n",
       "충청북도 청원군          1\n",
       "경기 고양시 덕양구        1\n",
       "인천 동구             1\n",
       "Name: SAN_NM, Length: 237, dtype: int64"
      ]
     },
     "execution_count": 8,
     "metadata": {},
     "output_type": "execute_result"
    }
   ],
   "source": [
    "# 캠벨얼리\n",
    "grapes = data[(data.KIND_NM == '캠벨얼리') ]\n",
    "grapes.SAN_NM.value_counts()"
   ]
  },
  {
   "cell_type": "code",
   "execution_count": 9,
   "id": "b8b7114e",
   "metadata": {
    "ExecuteTime": {
     "end_time": "2022-09-28T05:08:27.354784Z",
     "start_time": "2022-09-28T05:08:27.250846Z"
    }
   },
   "outputs": [
    {
     "name": "stdout",
     "output_type": "stream",
     "text": [
      "45823\n",
      "34749\n"
     ]
    }
   ],
   "source": [
    "print(len(grapes[grapes.SAN_NM.str.contains('남원',na=True)]))\n",
    "print(len(grapes[grapes.SAN_NM.str.contains('상주',na=True)]))"
   ]
  },
  {
   "cell_type": "code",
   "execution_count": 10,
   "id": "eb41e09f",
   "metadata": {
    "ExecuteTime": {
     "end_time": "2022-09-28T05:08:28.237976Z",
     "start_time": "2022-09-28T05:08:27.356250Z"
    }
   },
   "outputs": [
    {
     "data": {
      "text/plain": [
       "경북 김천시       22881\n",
       "경상북도 김천시     21484\n",
       "경북 영천시        7734\n",
       "경상북도 상주시      4707\n",
       "경상북도 영천시      3503\n",
       "             ...  \n",
       "경기 이천시           1\n",
       "전라북도 완주군         1\n",
       "경기 포천시           1\n",
       "대구광역시 수성구        1\n",
       "충남 연기군           1\n",
       "Name: SAN_NM, Length: 153, dtype: int64"
      ]
     },
     "execution_count": 10,
     "metadata": {},
     "output_type": "execute_result"
    }
   ],
   "source": [
    "# 샤인머스캇\n",
    "shine = data[(data.KIND_NM == '샤인마스캇') ]\n",
    "shine.SAN_NM.value_counts()"
   ]
  },
  {
   "cell_type": "markdown",
   "id": "69aa0846",
   "metadata": {
    "ExecuteTime": {
     "end_time": "2022-09-28T01:56:38.330855Z",
     "start_time": "2022-09-28T01:56:38.320916Z"
    }
   },
   "source": [
    "**주요 재배지 기상데이터 가져오기**\n",
    "> '토마토': '부산시 강서구', <BR> \n",
    "'캠벨얼리': '전라북도 남원시',<BR>\n",
    "'샤인마스캇': '경상북도 김천시'  <BR>\n",
    "    => 김천시 날씨데이터 X -> 옆지역 '구미' 날씨데이터로 대체\n",
    "   "
   ]
  },
  {
   "cell_type": "code",
   "execution_count": 306,
   "id": "2d0813f2",
   "metadata": {
    "ExecuteTime": {
     "end_time": "2022-09-29T01:32:33.875901Z",
     "start_time": "2022-09-29T01:32:33.842662Z"
    }
   },
   "outputs": [
    {
     "data": {
      "text/plain": [
       "(5199, 62)"
      ]
     },
     "execution_count": 306,
     "metadata": {},
     "output_type": "execute_result"
    }
   ],
   "source": [
    "weather = pd.read_csv(base_path+'weather.csv', encoding='cp949')\n",
    "weather.shape"
   ]
  },
  {
   "cell_type": "markdown",
   "id": "ffc6b321",
   "metadata": {},
   "source": [
    "### 날씨 데이터 전처리\n",
    "1. 결측비율이 80% 이상인 컬럼 drop\n",
    "2. 부산에만 측정되는 항목 drop\n",
    "3. 상관계수 0.8이상 칼럼 -> 비슷한 카테고리로 분류 \n",
    "4. 날씨의 특성상 앞뒤 날씨의 영향을 받거나 혹은 비슷한 시기의 날씨의 특성과 비슷할 것으로 예상<br>\n",
    "   따라서 결측치를 앞날의 데이터를 가져오는 것으로 결정"
   ]
  },
  {
   "cell_type": "code",
   "execution_count": 307,
   "id": "7aaced90",
   "metadata": {
    "ExecuteTime": {
     "end_time": "2022-09-29T01:32:34.177579Z",
     "start_time": "2022-09-29T01:32:34.171889Z"
    }
   },
   "outputs": [],
   "source": [
    "weather.drop(columns=['지점'], inplace=True)"
   ]
  },
  {
   "cell_type": "code",
   "execution_count": 308,
   "id": "ad59962b",
   "metadata": {
    "ExecuteTime": {
     "end_time": "2022-09-29T01:32:34.310912Z",
     "start_time": "2022-09-29T01:32:34.294500Z"
    }
   },
   "outputs": [],
   "source": [
    "# 1. 결측비율이 80% 이상인 컬럼 drop\n",
    "weather.columns[np.sum(weather.isna()/len(weather))  > 0.8]\n",
    "weather.drop(columns=['강수 계속시간(hr)', '10분 최다강수량 시각(hhmi)', '1시간 최다 강수량 시각(hhmi)',\n",
    "       '일 최심신적설(cm)', '일 최심신적설 시각(hhmi)', '일 최심적설(cm)', '일 최심적설 시각(hhmi)',\n",
    "       '합계 3시간 신적설(cm)', '9-9강수(mm)', '기사', '안개 계속시간(hr)'], inplace=True)"
   ]
  },
  {
   "cell_type": "code",
   "execution_count": 309,
   "id": "69cea1e9",
   "metadata": {
    "ExecuteTime": {
     "end_time": "2022-09-29T01:32:34.426810Z",
     "start_time": "2022-09-29T01:32:34.421130Z"
    }
   },
   "outputs": [],
   "source": [
    "# 2. 부산시만 측정되는 항목 제외\n",
    "weather.drop(columns=['평균 5cm 지중온도(°C)', '평균 10cm 지중온도(°C)',\n",
    "       '평균 20cm 지중온도(°C)', '평균 30cm 지중온도(°C)', '0.5m 지중온도(°C)',\n",
    "       '1.0m 지중온도(°C)', '1.5m 지중온도(°C)', '3.0m 지중온도(°C)', '5.0m 지중온도(°C)'], inplace=True)"
   ]
  },
  {
   "cell_type": "code",
   "execution_count": 310,
   "id": "bf0b769e",
   "metadata": {
    "ExecuteTime": {
     "end_time": "2022-09-29T01:32:34.614984Z",
     "start_time": "2022-09-29T01:32:34.610964Z"
    }
   },
   "outputs": [
    {
     "data": {
      "text/plain": [
       "(5199, 41)"
      ]
     },
     "execution_count": 310,
     "metadata": {},
     "output_type": "execute_result"
    }
   ],
   "source": [
    "weather.shape"
   ]
  },
  {
   "cell_type": "code",
   "execution_count": 311,
   "id": "fea08731",
   "metadata": {
    "ExecuteTime": {
     "end_time": "2022-09-29T01:32:34.757686Z",
     "start_time": "2022-09-29T01:32:34.745131Z"
    }
   },
   "outputs": [
    {
     "data": {
      "text/plain": [
       "Index(['평균기온(°C)', '최저기온(°C)', '10분 최다 강수량(mm)', '1시간 최다강수량(mm)', '일강수량(mm)',\n",
       "       '평균 풍속(m/s)', '풍정합(100m)', '최다풍향(16방위)', '평균 이슬점온도(°C)', '평균 상대습도(%)',\n",
       "       '평균 증기압(hPa)', '평균 현지기압(hPa)', '최고 해면기압(hPa)', '최저 해면기압(hPa)',\n",
       "       '평균 해면기압(hPa)', '합계 일조시간(hr)', '1시간 최다일사 시각(hhmi)', '1시간 최다일사량(MJ/m2)',\n",
       "       '합계 일사량(MJ/m2)', '평균 전운량(1/10)', '평균 중하층운량(1/10)', '합계 대형증발량(mm)',\n",
       "       '합계 소형증발량(mm)'],\n",
       "      dtype='object')"
      ]
     },
     "execution_count": 311,
     "metadata": {},
     "output_type": "execute_result"
    }
   ],
   "source": [
    "# 결측치 있는 컬럼 23개\n",
    "weather.columns[weather.isnull().sum() > 0]"
   ]
  },
  {
   "cell_type": "code",
   "execution_count": 312,
   "id": "2e18b549",
   "metadata": {
    "ExecuteTime": {
     "end_time": "2022-09-29T01:32:35.229831Z",
     "start_time": "2022-09-29T01:32:34.894884Z"
    }
   },
   "outputs": [
    {
     "data": {
      "image/png": "[encoded data removed]",
      "text/plain": [
       "<Figure size 1300x800 with 2 Axes>"
      ]
     },
     "metadata": {},
     "output_type": "display_data"
    }
   ],
   "source": [
    "import matplotlib.pyplot as plt\n",
    "plt.rcParams['font.family'] = 'AppleGothic'\n",
    "plt.rcParams['figure.figsize'] = (13, 8)\n",
    "\n",
    "weather_corr = weather.corr()\n",
    "ax = sns.heatmap(weather_corr)\n",
    "plt.title('Heatmap of Flight by seaborn', fontsize=20)\n",
    "plt.show()"
   ]
  },
  {
   "cell_type": "code",
   "execution_count": 313,
   "id": "d4d42ef3",
   "metadata": {
    "ExecuteTime": {
     "end_time": "2022-09-29T01:32:35.233587Z",
     "start_time": "2022-09-29T01:32:35.230942Z"
    }
   },
   "outputs": [
    {
     "data": {
      "text/plain": [
       "Index(['지점명', '일시', '평균기온(°C)', '최저기온(°C)', '최저기온 시각(hhmi)', '최고기온(°C)',\n",
       "       '최고기온 시각(hhmi)', '10분 최다 강수량(mm)', '1시간 최다강수량(mm)', '일강수량(mm)',\n",
       "       '최대 순간 풍속(m/s)', '최대 순간 풍속 풍향(16방위)', '최대 순간풍속 시각(hhmi)', '최대 풍속(m/s)',\n",
       "       '최대 풍속 풍향(16방위)', '최대 풍속 시각(hhmi)', '평균 풍속(m/s)', '풍정합(100m)',\n",
       "       '최다풍향(16방위)', '평균 이슬점온도(°C)', '최소 상대습도(%)', '최소 상대습도 시각(hhmi)',\n",
       "       '평균 상대습도(%)', '평균 증기압(hPa)', '평균 현지기압(hPa)', '최고 해면기압(hPa)',\n",
       "       '최고 해면기압 시각(hhmi)', '최저 해면기압(hPa)', '최저 해면기압 시각(hhmi)', '평균 해면기압(hPa)',\n",
       "       '가조시간(hr)', '합계 일조시간(hr)', '1시간 최다일사 시각(hhmi)', '1시간 최다일사량(MJ/m2)',\n",
       "       '합계 일사량(MJ/m2)', '평균 전운량(1/10)', '평균 중하층운량(1/10)', '평균 지면온도(°C)',\n",
       "       '최저 초상온도(°C)', '합계 대형증발량(mm)', '합계 소형증발량(mm)'],\n",
       "      dtype='object')"
      ]
     },
     "execution_count": 313,
     "metadata": {},
     "output_type": "execute_result"
    }
   ],
   "source": [
    "weather.columns"
   ]
  },
  {
   "cell_type": "code",
   "execution_count": 314,
   "id": "4027e71a",
   "metadata": {
    "ExecuteTime": {
     "end_time": "2022-09-29T01:32:35.237194Z",
     "start_time": "2022-09-29T01:32:35.234520Z"
    }
   },
   "outputs": [],
   "source": [
    "# 3. 상관계수 0.8이상 칼럼 제거 또는 비슷한 카테고리로 분류\n",
    "weather.drop(columns=['최저기온(°C)', '최고기온(°C)', '평균 이슬점온도(°C)' ,'평균 증기압(hPa)','가조시간(hr)','평균 지면온도(°C)','최대 순간 풍속 풍향(16방위)','최다풍향(16방위)',\n",
    "       '최저 초상온도(°C)','10분 최다 강수량(mm)', '1시간 최다강수량(mm)','풍정합(100m)','평균 증기압(hPa)', '최고 해면기압(hPa)', '1시간 최다일사 시각(hhmi)', '1시간 최다일사량(MJ/m2)',\n",
    "       '최고 해면기압 시각(hhmi)', '최저 해면기압 시각(hhmi)', '평균 해면기압(hPa)','최저 초상온도(°C)','합계 대형증발량(mm)', '합계 소형증발량(mm)'], inplace=True)"
   ]
  },
  {
   "cell_type": "code",
   "execution_count": 315,
   "id": "50e50bc6",
   "metadata": {
    "ExecuteTime": {
     "end_time": "2022-09-29T01:32:35.405105Z",
     "start_time": "2022-09-29T01:32:35.396085Z"
    }
   },
   "outputs": [
    {
     "data": {
      "text/plain": [
       "1734    남원\n",
       "1735    남원\n",
       "1736    남원\n",
       "1737    남원\n",
       "1738    남원\n",
       "        ..\n",
       "3461    남원\n",
       "3462    남원\n",
       "3463    남원\n",
       "3464    남원\n",
       "3465    남원\n",
       "Name: 지점명, Length: 1539, dtype: object"
      ]
     },
     "execution_count": 315,
     "metadata": {},
     "output_type": "execute_result"
    }
   ],
   "source": [
    "weather.loc[(weather['평균기온(°C)'] > 0 )&( weather['지점명'].str.contains('남원', na=True)), '지점명']"
   ]
  },
  {
   "cell_type": "code",
   "execution_count": 316,
   "id": "957e43e0",
   "metadata": {
    "ExecuteTime": {
     "end_time": "2022-09-29T01:32:35.545293Z",
     "start_time": "2022-09-29T01:32:35.537166Z"
    }
   },
   "outputs": [],
   "source": [
    "# null 앞 또는 뒤 데이터로 대체\n",
    "\n",
    "weather = weather.fillna(method='ffill')"
   ]
  },
  {
   "cell_type": "code",
   "execution_count": 319,
   "id": "3b09a8d0",
   "metadata": {
    "ExecuteTime": {
     "end_time": "2022-09-29T01:33:21.483548Z",
     "start_time": "2022-09-29T01:33:21.472073Z"
    }
   },
   "outputs": [
    {
     "data": {
      "text/plain": [
       "지점명                 0\n",
       "일시                  0\n",
       "평균기온(°C)            0\n",
       "최저기온 시각(hhmi)       0\n",
       "최고기온 시각(hhmi)       0\n",
       "일강수량(mm)            4\n",
       "최대 순간 풍속(m/s)       0\n",
       "최대 순간풍속 시각(hhmi)    0\n",
       "최대 풍속(m/s)          0\n",
       "최대 풍속 풍향(16방위)      0\n",
       "최대 풍속 시각(hhmi)      0\n",
       "평균 풍속(m/s)          0\n",
       "최소 상대습도(%)          0\n",
       "최소 상대습도 시각(hhmi)    0\n",
       "평균 상대습도(%)          0\n",
       "평균 현지기압(hPa)        0\n",
       "최저 해면기압(hPa)        0\n",
       "합계 일조시간(hr)         0\n",
       "합계 일사량(MJ/m2)       0\n",
       "평균 전운량(1/10)        0\n",
       "평균 중하층운량(1/10)      0\n",
       "dtype: int64"
      ]
     },
     "execution_count": 319,
     "metadata": {},
     "output_type": "execute_result"
    }
   ],
   "source": [
    "weather.isna().sum()"
   ]
  },
  {
   "cell_type": "code",
   "execution_count": 349,
   "id": "84f7d3d7",
   "metadata": {
    "ExecuteTime": {
     "end_time": "2022-09-29T01:56:51.188780Z",
     "start_time": "2022-09-29T01:56:51.171174Z"
    }
   },
   "outputs": [
    {
     "data": {
      "text/plain": [
       "0    0.0\n",
       "1    0.0\n",
       "2    0.0\n",
       "3    0.0\n",
       "4    0.2\n",
       "5    0.2\n",
       "6    0.2\n",
       "7    0.2\n",
       "8    0.2\n",
       "Name: 일강수량(mm), dtype: float64"
      ]
     },
     "execution_count": 349,
     "metadata": {},
     "output_type": "execute_result"
    }
   ],
   "source": [
    "weather.loc[weather['일시'].str.contains('2016-01-0', na = False)&(weather['지점명'].str.contains('부산', na = False)),'일강수량(mm)']"
   ]
  },
  {
   "cell_type": "code",
   "execution_count": 347,
   "id": "8c9d1a9b",
   "metadata": {
    "ExecuteTime": {
     "end_time": "2022-09-29T01:55:47.907733Z",
     "start_time": "2022-09-29T01:55:47.902144Z"
    }
   },
   "outputs": [],
   "source": [
    "# 2016-01-01 날씨 뉴스를 기준으로 강수량 없음 확인\n",
    "weather.loc[weather['일강수량(mm)'].isna(), '일강수량(mm)'] = 0.0"
   ]
  },
  {
   "cell_type": "markdown",
   "id": "972d89fb",
   "metadata": {},
   "source": [
    "### 최종 날씨 데이터 결측치 확인"
   ]
  },
  {
   "cell_type": "code",
   "execution_count": 350,
   "id": "617157da",
   "metadata": {
    "ExecuteTime": {
     "end_time": "2022-09-29T01:58:02.121863Z",
     "start_time": "2022-09-29T01:58:02.112760Z"
    }
   },
   "outputs": [
    {
     "data": {
      "text/plain": [
       "지점명                 0\n",
       "일시                  0\n",
       "평균기온(°C)            0\n",
       "최저기온 시각(hhmi)       0\n",
       "최고기온 시각(hhmi)       0\n",
       "일강수량(mm)            0\n",
       "최대 순간 풍속(m/s)       0\n",
       "최대 순간풍속 시각(hhmi)    0\n",
       "최대 풍속(m/s)          0\n",
       "최대 풍속 풍향(16방위)      0\n",
       "최대 풍속 시각(hhmi)      0\n",
       "평균 풍속(m/s)          0\n",
       "최소 상대습도(%)          0\n",
       "최소 상대습도 시각(hhmi)    0\n",
       "평균 상대습도(%)          0\n",
       "평균 현지기압(hPa)        0\n",
       "최저 해면기압(hPa)        0\n",
       "합계 일조시간(hr)         0\n",
       "합계 일사량(MJ/m2)       0\n",
       "평균 전운량(1/10)        0\n",
       "평균 중하층운량(1/10)      0\n",
       "dtype: int64"
      ]
     },
     "execution_count": 350,
     "metadata": {},
     "output_type": "execute_result"
    }
   ],
   "source": [
    "weather.isna().sum()"
   ]
  },
  {
   "cell_type": "markdown",
   "id": "8930500f",
   "metadata": {},
   "source": [
    "### 농산지에 맞게 날씨 데이터 분리 (부산/구미/남원 분리해서 저장)"
   ]
  },
  {
   "cell_type": "code",
   "execution_count": 351,
   "id": "60f62fdc",
   "metadata": {
    "ExecuteTime": {
     "end_time": "2022-09-29T01:58:06.276030Z",
     "start_time": "2022-09-29T01:58:06.268017Z"
    }
   },
   "outputs": [],
   "source": [
    "busan = weather[weather.지점명 == '부산'] \n",
    "gumi = weather[weather.지점명 == '구미']\n",
    "namwon = weather[weather.지점명 == '남원']"
   ]
  },
  {
   "cell_type": "code",
   "execution_count": 352,
   "id": "3244e589",
   "metadata": {
    "ExecuteTime": {
     "end_time": "2022-09-29T01:58:06.626755Z",
     "start_time": "2022-09-29T01:58:06.621540Z"
    },
    "scrolled": true
   },
   "outputs": [
    {
     "name": "stdout",
     "output_type": "stream",
     "text": [
      "(1733, 21)\n",
      "(1733, 21)\n",
      "(1733, 21)\n"
     ]
    }
   ],
   "source": [
    "print(busan.shape)\n",
    "print(gumi.shape)\n",
    "print(namwon.shape)"
   ]
  },
  {
   "cell_type": "code",
   "execution_count": 353,
   "id": "dced38d6",
   "metadata": {
    "ExecuteTime": {
     "end_time": "2022-09-29T01:58:08.548088Z",
     "start_time": "2022-09-29T01:58:08.473287Z"
    }
   },
   "outputs": [],
   "source": [
    "processed_path = '/Users/cge/Documents/yeardream/프로젝트/기업프로젝트/products_price_predict/data/processed/'\n",
    "\n",
    "busan.to_csv(processed_path+'busan_weather.csv', index=False)\n",
    "gumi.to_csv(processed_path+'gumi_weather.csv', index=False)\n",
    "namwon.to_csv(processed_path+'namwon_weather.csv', index=False)"
   ]
  },
  {
   "cell_type": "code",
   "execution_count": 401,
   "id": "5ca05690",
   "metadata": {
    "ExecuteTime": {
     "end_time": "2022-09-29T02:26:58.073019Z",
     "start_time": "2022-09-29T02:26:58.007382Z"
    }
   },
   "outputs": [],
   "source": [
    "weather.to_csv(processed_path+'weather.csv', index = False)"
   ]
  },
  {
   "cell_type": "markdown",
   "id": "919b0794",
   "metadata": {},
   "source": [
    "# 데이터 합치기\n",
    "\n",
    "> 요일을 기준으로 train(농산물) + price_index(소비자물가지수) + oil(가솔린) + weather(날씨)  : 3개,.csv에 저장 (토마토, (캠벨얼리, 샤인마스캇))"
   ]
  },
  {
   "cell_type": "code",
   "execution_count": 376,
   "id": "44f0a821",
   "metadata": {
    "ExecuteTime": {
     "end_time": "2022-09-29T02:15:14.157934Z",
     "start_time": "2022-09-29T02:15:14.153594Z"
    }
   },
   "outputs": [
    {
     "data": {
      "text/plain": [
       "(1733, 9)"
      ]
     },
     "execution_count": 376,
     "metadata": {},
     "output_type": "execute_result"
    }
   ],
   "source": [
    "# 소비자 물가 지수 농산물 데이터와 합치기\n",
    "train_df = pd.concat([train, price_index['지수']],axis=1)\n",
    "train_df.shape"
   ]
  },
  {
   "cell_type": "code",
   "execution_count": 383,
   "id": "383a57c2",
   "metadata": {
    "ExecuteTime": {
     "end_time": "2022-09-29T02:17:48.001358Z",
     "start_time": "2022-09-29T02:17:47.998691Z"
    }
   },
   "outputs": [],
   "source": [
    "train_df.rename(columns={'지수':'소비자물가지수'})"
   ]
  },
  {
   "cell_type": "code",
   "execution_count": 381,
   "id": "b8111368",
   "metadata": {
    "ExecuteTime": {
     "end_time": "2022-09-29T02:17:14.880126Z",
     "start_time": "2022-09-29T02:17:14.875653Z"
    }
   },
   "outputs": [
    {
     "data": {
      "text/plain": [
       "(1733, 13)"
      ]
     },
     "execution_count": 381,
     "metadata": {},
     "output_type": "execute_result"
    }
   ],
   "source": [
    "# 유가 데이터 합치기\n",
    "oil.drop(columns=['구분'], inplace=True)\n",
    "train_df = pd.concat([train_df, oil],axis=1)\n",
    "train_df.shape"
   ]
  },
  {
   "cell_type": "code",
   "execution_count": 386,
   "id": "5fdbac49",
   "metadata": {
    "ExecuteTime": {
     "end_time": "2022-09-29T02:18:25.644989Z",
     "start_time": "2022-09-29T02:18:25.638987Z"
    }
   },
   "outputs": [],
   "source": [
    "# 일시를 기준으로 합치기위해 컬럼 이름 변경\n",
    "\n",
    "busan = busan.rename(columns={'일시' : 'date'})\n",
    "gumi = gumi.rename(columns={'일시' : 'date'})\n",
    "namwon = namwon.rename(columns={'일시' : 'date'})"
   ]
  },
  {
   "cell_type": "code",
   "execution_count": 388,
   "id": "d05e2b33",
   "metadata": {
    "ExecuteTime": {
     "end_time": "2022-09-29T02:20:25.772198Z",
     "start_time": "2022-09-29T02:20:25.752219Z"
    }
   },
   "outputs": [],
   "source": [
    "# 토마토 (부산)\n",
    "tomato_df = train_df.merge(busan, on='date', how='left')\n",
    "\n",
    "# 캠벨얼리 (남원)\n",
    "grape_df = train_df.merge(namwon, on='date', how='left')\n",
    "\n",
    "# 샤인머스캇(구미)\n",
    "shinemuscat_df = train_df.merge(gumi, on='date', how='left')"
   ]
  },
  {
   "cell_type": "code",
   "execution_count": 394,
   "id": "811def80",
   "metadata": {
    "ExecuteTime": {
     "end_time": "2022-09-29T02:24:34.379486Z",
     "start_time": "2022-09-29T02:24:34.368059Z"
    }
   },
   "outputs": [
    {
     "data": {
      "text/plain": [
       "(1733, 29)"
      ]
     },
     "metadata": {},
     "output_type": "display_data"
    },
    {
     "name": "stdout",
     "output_type": "stream",
     "text": [
      "\n"
     ]
    },
    {
     "data": {
      "text/plain": [
       "(1733, 29)"
      ]
     },
     "metadata": {},
     "output_type": "display_data"
    },
    {
     "name": "stdout",
     "output_type": "stream",
     "text": [
      "\n"
     ]
    },
    {
     "data": {
      "text/plain": [
       "(1733, 29)"
      ]
     },
     "metadata": {},
     "output_type": "display_data"
    }
   ],
   "source": [
    "display(tomato_df.shape)\n",
    "print()\n",
    "display(grape_df.shape)\n",
    "print()\n",
    "display(shinemuscat_df.shape)"
   ]
  },
  {
   "cell_type": "code",
   "execution_count": 393,
   "id": "f40778f8",
   "metadata": {
    "ExecuteTime": {
     "end_time": "2022-09-29T02:24:13.940784Z",
     "start_time": "2022-09-29T02:24:13.928714Z"
    }
   },
   "outputs": [],
   "source": [
    "# 토마토 (부산) 데이터에서 캠벨얼리, 샤인머스캇 항목 제거\n",
    "tomato_df.drop(columns=['캠벨얼리_거래량(kg)','캠벨얼리_가격(원/kg)', '샤인마스캇_거래량(kg)', '샤인마스캇_가격(원/kg)'], inplace=True)\n",
    "\n",
    "# 캠벨얼리 (남원)데이터에서 토마토, 샤인머스캇 항목 제거\n",
    "grape_df.drop(columns=['토마토_거래량(kg)', '토마토_가격(원/kg)', '샤인마스캇_거래량(kg)', '샤인마스캇_가격(원/kg)'], inplace=True)\n",
    "\n",
    "# 샤인머스캇(구미)데이터에서 캠벨얼리, 토마토 항목 제거\n",
    "shinemuscat_df.drop(columns=['캠벨얼리_거래량(kg)','캠벨얼리_가격(원/kg)','토마토_거래량(kg)', '토마토_가격(원/kg)'], inplace=True)"
   ]
  },
  {
   "cell_type": "code",
   "execution_count": 395,
   "id": "21fbf786",
   "metadata": {
    "ExecuteTime": {
     "end_time": "2022-09-29T02:24:37.514693Z",
     "start_time": "2022-09-29T02:24:37.477826Z"
    }
   },
   "outputs": [
    {
     "data": {
      "text/html": [
       "<div>\n",
       "<style scoped>\n",
       "    .dataframe tbody tr th:only-of-type {\n",
       "        vertical-align: middle;\n",
       "    }\n",
       "\n",
       "    .dataframe tbody tr th {\n",
       "        vertical-align: top;\n",
       "    }\n",
       "\n",
       "    .dataframe thead th {\n",
       "        text-align: right;\n",
       "    }\n",
       "</style>\n",
       "<table border=\"1\" class=\"dataframe\">\n",
       "  <thead>\n",
       "    <tr style=\"text-align: right;\">\n",
       "      <th></th>\n",
       "      <th>date</th>\n",
       "      <th>요일</th>\n",
       "      <th>토마토_거래량(kg)</th>\n",
       "      <th>토마토_가격(원/kg)</th>\n",
       "      <th>지수</th>\n",
       "      <th>고급휘발유</th>\n",
       "      <th>보통휘발유</th>\n",
       "      <th>자동차용경유</th>\n",
       "      <th>실내등유</th>\n",
       "      <th>지점명</th>\n",
       "      <th>...</th>\n",
       "      <th>평균 풍속(m/s)</th>\n",
       "      <th>최소 상대습도(%)</th>\n",
       "      <th>최소 상대습도 시각(hhmi)</th>\n",
       "      <th>평균 상대습도(%)</th>\n",
       "      <th>평균 현지기압(hPa)</th>\n",
       "      <th>최저 해면기압(hPa)</th>\n",
       "      <th>합계 일조시간(hr)</th>\n",
       "      <th>합계 일사량(MJ/m2)</th>\n",
       "      <th>평균 전운량(1/10)</th>\n",
       "      <th>평균 중하층운량(1/10)</th>\n",
       "    </tr>\n",
       "  </thead>\n",
       "  <tbody>\n",
       "    <tr>\n",
       "      <th>0</th>\n",
       "      <td>2016-01-01</td>\n",
       "      <td>금요일</td>\n",
       "      <td>0.0</td>\n",
       "      <td>0.0</td>\n",
       "      <td>95.232</td>\n",
       "      <td>1780.99</td>\n",
       "      <td>1407.15</td>\n",
       "      <td>1188.71</td>\n",
       "      <td>835.38</td>\n",
       "      <td>부산</td>\n",
       "      <td>...</td>\n",
       "      <td>4.3</td>\n",
       "      <td>33.0</td>\n",
       "      <td>1229</td>\n",
       "      <td>52.1</td>\n",
       "      <td>1021.3</td>\n",
       "      <td>1027.5</td>\n",
       "      <td>9.3</td>\n",
       "      <td>11.44</td>\n",
       "      <td>1.4</td>\n",
       "      <td>0.0</td>\n",
       "    </tr>\n",
       "    <tr>\n",
       "      <th>1</th>\n",
       "      <td>2016-01-02</td>\n",
       "      <td>토요일</td>\n",
       "      <td>30950.0</td>\n",
       "      <td>1621.0</td>\n",
       "      <td>95.232</td>\n",
       "      <td>1781.69</td>\n",
       "      <td>1405.98</td>\n",
       "      <td>1187.91</td>\n",
       "      <td>834.11</td>\n",
       "      <td>부산</td>\n",
       "      <td>...</td>\n",
       "      <td>4.0</td>\n",
       "      <td>52.0</td>\n",
       "      <td>1046</td>\n",
       "      <td>62.9</td>\n",
       "      <td>1015.1</td>\n",
       "      <td>1020.6</td>\n",
       "      <td>5.1</td>\n",
       "      <td>6.86</td>\n",
       "      <td>4.6</td>\n",
       "      <td>2.3</td>\n",
       "    </tr>\n",
       "  </tbody>\n",
       "</table>\n",
       "<p>2 rows × 29 columns</p>\n",
       "</div>"
      ],
      "text/plain": [
       "         date   요일  토마토_거래량(kg)  토마토_가격(원/kg)      지수    고급휘발유    보통휘발유  \\\n",
       "0  2016-01-01  금요일          0.0           0.0  95.232  1780.99  1407.15   \n",
       "1  2016-01-02  토요일      30950.0        1621.0  95.232  1781.69  1405.98   \n",
       "\n",
       "    자동차용경유    실내등유 지점명  ...  평균 풍속(m/s)  최소 상대습도(%)  최소 상대습도 시각(hhmi)  \\\n",
       "0  1188.71  835.38  부산  ...         4.3        33.0              1229   \n",
       "1  1187.91  834.11  부산  ...         4.0        52.0              1046   \n",
       "\n",
       "   평균 상대습도(%)  평균 현지기압(hPa)  최저 해면기압(hPa)  합계 일조시간(hr)  합계 일사량(MJ/m2)  \\\n",
       "0        52.1        1021.3        1027.5          9.3          11.44   \n",
       "1        62.9        1015.1        1020.6          5.1           6.86   \n",
       "\n",
       "   평균 전운량(1/10)  평균 중하층운량(1/10)  \n",
       "0           1.4             0.0  \n",
       "1           4.6             2.3  \n",
       "\n",
       "[2 rows x 29 columns]"
      ]
     },
     "metadata": {},
     "output_type": "display_data"
    },
    {
     "data": {
      "text/plain": [
       "(1733, 29)"
      ]
     },
     "metadata": {},
     "output_type": "display_data"
    },
    {
     "name": "stdout",
     "output_type": "stream",
     "text": [
      "\n"
     ]
    },
    {
     "data": {
      "text/html": [
       "<div>\n",
       "<style scoped>\n",
       "    .dataframe tbody tr th:only-of-type {\n",
       "        vertical-align: middle;\n",
       "    }\n",
       "\n",
       "    .dataframe tbody tr th {\n",
       "        vertical-align: top;\n",
       "    }\n",
       "\n",
       "    .dataframe thead th {\n",
       "        text-align: right;\n",
       "    }\n",
       "</style>\n",
       "<table border=\"1\" class=\"dataframe\">\n",
       "  <thead>\n",
       "    <tr style=\"text-align: right;\">\n",
       "      <th></th>\n",
       "      <th>date</th>\n",
       "      <th>요일</th>\n",
       "      <th>캠벨얼리_거래량(kg)</th>\n",
       "      <th>캠벨얼리_가격(원/kg)</th>\n",
       "      <th>지수</th>\n",
       "      <th>고급휘발유</th>\n",
       "      <th>보통휘발유</th>\n",
       "      <th>자동차용경유</th>\n",
       "      <th>실내등유</th>\n",
       "      <th>지점명</th>\n",
       "      <th>...</th>\n",
       "      <th>평균 풍속(m/s)</th>\n",
       "      <th>최소 상대습도(%)</th>\n",
       "      <th>최소 상대습도 시각(hhmi)</th>\n",
       "      <th>평균 상대습도(%)</th>\n",
       "      <th>평균 현지기압(hPa)</th>\n",
       "      <th>최저 해면기압(hPa)</th>\n",
       "      <th>합계 일조시간(hr)</th>\n",
       "      <th>합계 일사량(MJ/m2)</th>\n",
       "      <th>평균 전운량(1/10)</th>\n",
       "      <th>평균 중하층운량(1/10)</th>\n",
       "    </tr>\n",
       "  </thead>\n",
       "  <tbody>\n",
       "    <tr>\n",
       "      <th>0</th>\n",
       "      <td>2016-01-01</td>\n",
       "      <td>금요일</td>\n",
       "      <td>0.0</td>\n",
       "      <td>0.0</td>\n",
       "      <td>95.232</td>\n",
       "      <td>1780.99</td>\n",
       "      <td>1407.15</td>\n",
       "      <td>1188.71</td>\n",
       "      <td>835.38</td>\n",
       "      <td>남원</td>\n",
       "      <td>...</td>\n",
       "      <td>1.3</td>\n",
       "      <td>45.0</td>\n",
       "      <td>1417</td>\n",
       "      <td>73.3</td>\n",
       "      <td>1015.3</td>\n",
       "      <td>1029.2</td>\n",
       "      <td>7.9</td>\n",
       "      <td>21.33</td>\n",
       "      <td>2.3</td>\n",
       "      <td>0.6</td>\n",
       "    </tr>\n",
       "    <tr>\n",
       "      <th>1</th>\n",
       "      <td>2016-01-02</td>\n",
       "      <td>토요일</td>\n",
       "      <td>880.0</td>\n",
       "      <td>2014.0</td>\n",
       "      <td>95.232</td>\n",
       "      <td>1781.69</td>\n",
       "      <td>1405.98</td>\n",
       "      <td>1187.91</td>\n",
       "      <td>834.11</td>\n",
       "      <td>남원</td>\n",
       "      <td>...</td>\n",
       "      <td>0.9</td>\n",
       "      <td>52.0</td>\n",
       "      <td>1440</td>\n",
       "      <td>77.8</td>\n",
       "      <td>1008.1</td>\n",
       "      <td>1021.3</td>\n",
       "      <td>2.4</td>\n",
       "      <td>21.33</td>\n",
       "      <td>2.3</td>\n",
       "      <td>0.6</td>\n",
       "    </tr>\n",
       "  </tbody>\n",
       "</table>\n",
       "<p>2 rows × 29 columns</p>\n",
       "</div>"
      ],
      "text/plain": [
       "         date   요일  캠벨얼리_거래량(kg)  캠벨얼리_가격(원/kg)      지수    고급휘발유    보통휘발유  \\\n",
       "0  2016-01-01  금요일           0.0            0.0  95.232  1780.99  1407.15   \n",
       "1  2016-01-02  토요일         880.0         2014.0  95.232  1781.69  1405.98   \n",
       "\n",
       "    자동차용경유    실내등유 지점명  ...  평균 풍속(m/s)  최소 상대습도(%)  최소 상대습도 시각(hhmi)  \\\n",
       "0  1188.71  835.38  남원  ...         1.3        45.0              1417   \n",
       "1  1187.91  834.11  남원  ...         0.9        52.0              1440   \n",
       "\n",
       "   평균 상대습도(%)  평균 현지기압(hPa)  최저 해면기압(hPa)  합계 일조시간(hr)  합계 일사량(MJ/m2)  \\\n",
       "0        73.3        1015.3        1029.2          7.9          21.33   \n",
       "1        77.8        1008.1        1021.3          2.4          21.33   \n",
       "\n",
       "   평균 전운량(1/10)  평균 중하층운량(1/10)  \n",
       "0           2.3             0.6  \n",
       "1           2.3             0.6  \n",
       "\n",
       "[2 rows x 29 columns]"
      ]
     },
     "metadata": {},
     "output_type": "display_data"
    },
    {
     "data": {
      "text/plain": [
       "(1733, 29)"
      ]
     },
     "metadata": {},
     "output_type": "display_data"
    },
    {
     "name": "stdout",
     "output_type": "stream",
     "text": [
      "\n"
     ]
    },
    {
     "data": {
      "text/html": [
       "<div>\n",
       "<style scoped>\n",
       "    .dataframe tbody tr th:only-of-type {\n",
       "        vertical-align: middle;\n",
       "    }\n",
       "\n",
       "    .dataframe tbody tr th {\n",
       "        vertical-align: top;\n",
       "    }\n",
       "\n",
       "    .dataframe thead th {\n",
       "        text-align: right;\n",
       "    }\n",
       "</style>\n",
       "<table border=\"1\" class=\"dataframe\">\n",
       "  <thead>\n",
       "    <tr style=\"text-align: right;\">\n",
       "      <th></th>\n",
       "      <th>date</th>\n",
       "      <th>요일</th>\n",
       "      <th>샤인마스캇_거래량(kg)</th>\n",
       "      <th>샤인마스캇_가격(원/kg)</th>\n",
       "      <th>지수</th>\n",
       "      <th>고급휘발유</th>\n",
       "      <th>보통휘발유</th>\n",
       "      <th>자동차용경유</th>\n",
       "      <th>실내등유</th>\n",
       "      <th>지점명</th>\n",
       "      <th>...</th>\n",
       "      <th>평균 풍속(m/s)</th>\n",
       "      <th>최소 상대습도(%)</th>\n",
       "      <th>최소 상대습도 시각(hhmi)</th>\n",
       "      <th>평균 상대습도(%)</th>\n",
       "      <th>평균 현지기압(hPa)</th>\n",
       "      <th>최저 해면기압(hPa)</th>\n",
       "      <th>합계 일조시간(hr)</th>\n",
       "      <th>합계 일사량(MJ/m2)</th>\n",
       "      <th>평균 전운량(1/10)</th>\n",
       "      <th>평균 중하층운량(1/10)</th>\n",
       "    </tr>\n",
       "  </thead>\n",
       "  <tbody>\n",
       "    <tr>\n",
       "      <th>0</th>\n",
       "      <td>2016-01-01</td>\n",
       "      <td>금요일</td>\n",
       "      <td>0.0</td>\n",
       "      <td>0.0</td>\n",
       "      <td>95.232</td>\n",
       "      <td>1780.99</td>\n",
       "      <td>1407.15</td>\n",
       "      <td>1188.71</td>\n",
       "      <td>835.38</td>\n",
       "      <td>구미</td>\n",
       "      <td>...</td>\n",
       "      <td>0.8</td>\n",
       "      <td>45.0</td>\n",
       "      <td>1326</td>\n",
       "      <td>79.3</td>\n",
       "      <td>1024.9</td>\n",
       "      <td>1028.3</td>\n",
       "      <td>7.1</td>\n",
       "      <td>21.33</td>\n",
       "      <td>2.1</td>\n",
       "      <td>0.0</td>\n",
       "    </tr>\n",
       "    <tr>\n",
       "      <th>1</th>\n",
       "      <td>2016-01-02</td>\n",
       "      <td>토요일</td>\n",
       "      <td>0.0</td>\n",
       "      <td>0.0</td>\n",
       "      <td>95.232</td>\n",
       "      <td>1781.69</td>\n",
       "      <td>1405.98</td>\n",
       "      <td>1187.91</td>\n",
       "      <td>834.11</td>\n",
       "      <td>구미</td>\n",
       "      <td>...</td>\n",
       "      <td>0.6</td>\n",
       "      <td>48.0</td>\n",
       "      <td>1505</td>\n",
       "      <td>83.9</td>\n",
       "      <td>1017.9</td>\n",
       "      <td>1021.3</td>\n",
       "      <td>4.2</td>\n",
       "      <td>21.33</td>\n",
       "      <td>2.1</td>\n",
       "      <td>0.0</td>\n",
       "    </tr>\n",
       "  </tbody>\n",
       "</table>\n",
       "<p>2 rows × 29 columns</p>\n",
       "</div>"
      ],
      "text/plain": [
       "         date   요일  샤인마스캇_거래량(kg)  샤인마스캇_가격(원/kg)      지수    고급휘발유    보통휘발유  \\\n",
       "0  2016-01-01  금요일            0.0             0.0  95.232  1780.99  1407.15   \n",
       "1  2016-01-02  토요일            0.0             0.0  95.232  1781.69  1405.98   \n",
       "\n",
       "    자동차용경유    실내등유 지점명  ...  평균 풍속(m/s)  최소 상대습도(%)  최소 상대습도 시각(hhmi)  \\\n",
       "0  1188.71  835.38  구미  ...         0.8        45.0              1326   \n",
       "1  1187.91  834.11  구미  ...         0.6        48.0              1505   \n",
       "\n",
       "   평균 상대습도(%)  평균 현지기압(hPa)  최저 해면기압(hPa)  합계 일조시간(hr)  합계 일사량(MJ/m2)  \\\n",
       "0        79.3        1024.9        1028.3          7.1          21.33   \n",
       "1        83.9        1017.9        1021.3          4.2          21.33   \n",
       "\n",
       "   평균 전운량(1/10)  평균 중하층운량(1/10)  \n",
       "0           2.1             0.0  \n",
       "1           2.1             0.0  \n",
       "\n",
       "[2 rows x 29 columns]"
      ]
     },
     "metadata": {},
     "output_type": "display_data"
    },
    {
     "data": {
      "text/plain": [
       "(1733, 29)"
      ]
     },
     "metadata": {},
     "output_type": "display_data"
    }
   ],
   "source": [
    "display(tomato_df.head(2))\n",
    "display(tomato_df.shape)\n",
    "print()\n",
    "display(grape_df.head(2))\n",
    "display(grape_df.shape)\n",
    "print()\n",
    "display(shinemuscat_df.head(2))\n",
    "display(shinemuscat_df.shape)"
   ]
  },
  {
   "cell_type": "code",
   "execution_count": 397,
   "id": "cde5d76f",
   "metadata": {
    "ExecuteTime": {
     "end_time": "2022-09-29T02:25:26.304777Z",
     "start_time": "2022-09-29T02:25:26.217566Z"
    }
   },
   "outputs": [],
   "source": [
    "# 토마토 (부산) 저장\n",
    "tomato_df.to_csv(processed_path+'tomato.csv', index = False)\n",
    "\n",
    "# 캠벨얼리 (남원) 저장\n",
    "grape_df.to_csv(processed_path+'grape.csv', index = False)\n",
    "\n",
    "# 샤인머스캇(구미) 저장\n",
    "shinemuscat_df.to_csv(processed_path+'shinemuscat.csv', index = False)"
   ]
  }
 ],
 "metadata": {
  "kernelspec": {
   "display_name": "Python 3 (ipykernel)",
   "language": "python",
   "name": "python3"
  },
  "language_info": {
   "codemirror_mode": {
    "name": "ipython",
    "version": 3
   },
   "file_extension": ".py",
   "mimetype": "text/x-python",
   "name": "python",
   "nbconvert_exporter": "python",
   "pygments_lexer": "ipython3",
   "version": "3.8.13"
  }
 },
 "nbformat": 4,
 "nbformat_minor": 5
}
