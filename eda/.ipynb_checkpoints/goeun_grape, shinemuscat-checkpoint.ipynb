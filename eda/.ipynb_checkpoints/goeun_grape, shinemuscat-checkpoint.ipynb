{
 "cells": [
  {
   "cell_type": "markdown",
   "id": "e3ce7c7c",
   "metadata": {},
   "source": [
    "\n",
    "| EDA dataframe      | Description |due|\n",
    "| ----------- | ----------- |----------- |\n",
    "| tomato   |토마토 가격/거래량 + 부산 날씨   +  소비자 물가지수 + 유가     |20190101 ~ 20200928|\n",
    "| grape   | 캠벨얼리 가격/거래량 + 남원 날씨   +  소비자 물가지수 + 유가    |20190101 ~ 20200928|\n",
    "| shinemuscat   |샤인마스캇  가격/거래량 + 구미 날씨   +  소비자 물가지수 + 유가          |20190101 ~ 20200928|\n",
    "| train   |   tomato +  grape +  shinemuscat   | 20190101 ~ 20200928|\n",
    "| test   |   tomato +  grape +  shinemuscat   | 20200929 ~ 20200928|\n",
    "| df      | train + test       | 20190101 ~ 20201105|"
   ]
  },
  {
   "cell_type": "markdown",
   "id": "4f3c353d",
   "metadata": {},
   "source": [
    "# 외부데이터 수집"
   ]
  },
  {
   "cell_type": "code",
   "execution_count": 3,
   "id": "362e6be0",
   "metadata": {
    "ExecuteTime": {
     "end_time": "2022-10-11T06:53:43.106807Z",
     "start_time": "2022-10-11T06:53:42.067886Z"
    }
   },
   "outputs": [
    {
     "name": "stderr",
     "output_type": "stream",
     "text": [
      "/var/folders/lm/z4n_2b8s6rj3_vv57sg789kc0000gn/T/ipykernel_15640/238796418.py:11: DeprecationWarning: Importing display from IPython.core.display is deprecated since IPython 7.14, please import from IPython display\n",
      "  from IPython.core.display import display, HTML\n"
     ]
    }
   ],
   "source": [
    "import matplotlib.pyplot as plt\n",
    "plt.rcParams['font.family'] = 'AppleGothic'\n",
    "# import tensorflow as tf\n",
    "# import keras\n",
    "from numpy import array\n",
    "import pandas as pd\n",
    "import matplotlib.pyplot as plt\n",
    "import numpy as np\n",
    "import math\n",
    "import matplotlib as mpl\n",
    "from IPython.core.display import display, HTML\n",
    "from datetime import datetime\n",
    "from datetime import timedelta\n",
    "from dateutil.relativedelta import relativedelta\n",
    "from sklearn.preprocessing import MinMaxScaler, RobustScaler\n",
    "# from sklearn.model_selection import train_test_split, RandomizedSearchCV\n",
    "from sklearn.metrics import mean_squared_error, r2_score, mean_absolute_error\n",
    "# from tensorflow.keras import Sequential\n",
    "# from tensorflow.keras import layers\n",
    "# from tensorflow.keras.layers import Dense, LSTM, Dropout\n",
    "# from keras.callbacks import ModelCheckpoint, EarlyStopping\n",
    "# from statsmodels.tsa.seasonal import seasonal_decompose, STL\n",
    "import urllib.request\n",
    "import requests\n",
    "import json\n",
    "import datetime\n",
    "import os\n",
    "from datetime import datetime\n",
    "from sklearn.ensemble import RandomForestRegressor\n",
    "import seaborn as sns\n",
    "from tqdm import tqdm\n",
    "\n",
    "import warnings\n",
    "warnings.filterwarnings('ignore')"
   ]
  },
  {
   "cell_type": "markdown",
   "id": "de28ab3a",
   "metadata": {},
   "source": [
    "# 데이터셋(dataset)\n",
    "\n",
    "**train** 20160101 ~ 20200928 <br> \n",
    "**test** 20200929 ~ 20201105\n",
    "\n",
    "EDA와 기본 모델을 만들때 사용 <br>\n",
    "train + test 합친 프레임(토마토, 포도) = df"
   ]
  },
  {
   "cell_type": "code",
   "execution_count": 4,
   "id": "576bb4aa",
   "metadata": {
    "ExecuteTime": {
     "end_time": "2022-10-11T06:53:43.109945Z",
     "start_time": "2022-10-11T06:53:43.107809Z"
    }
   },
   "outputs": [],
   "source": [
    "raw_path = '/Users/cge/Documents/yeardream/프로젝트/기업프로젝트/products_price_predict/data/raw/'\n",
    "processed_path = '/Users/cge/Documents/yeardream/프로젝트/기업프로젝트/products_price_predict/data/processed/'\n",
    "\n",
    "grape_path = '/Users/cge/Documents/yeardream/프로젝트/기업프로젝트/products_price_predict/data/raw/grape/'\n",
    "shinemuscat_path = '/Users/cge/Documents/yeardream/프로젝트/기업프로젝트/products_price_predict/data/raw/shinemuscat/'"
   ]
  },
  {
   "cell_type": "code",
   "execution_count": 5,
   "id": "6afde925",
   "metadata": {
    "ExecuteTime": {
     "end_time": "2022-10-11T06:53:43.172875Z",
     "start_time": "2022-10-11T06:53:43.111216Z"
    },
    "scrolled": false
   },
   "outputs": [
    {
     "name": "stdout",
     "output_type": "stream",
     "text": [
      "['test_2020-10-12.csv', 'test_2020-10-06.csv', 'test_2020-10-07.csv', 'test_2020-10-13.csv', 'test_2020-09-30.csv', 'test_2020-10-05.csv', 'test_2020-10-11.csv', 'test_2020-10-10.csv', 'test_2020-10-04.csv', 'test_2020-10-14.csv', 'test_2020-10-28.csv', 'test_2020-10-29.csv', 'test_2020-10-15.csv', 'test_2020-10-01.csv', 'test_2020-10-17.csv', 'test_2020-10-03.csv', 'test_2020-10-02.csv', 'test_2020-10-16.csv', 'test_2020-10-27.csv', 'test_2020-10-26.csv', 'test_2020-10-18.csv', 'test_2020-10-24.csv', 'test_2020-10-30.csv', 'test_2020-10-31.csv', 'test_2020-10-25.csv', 'test_2020-10-19.csv', 'test_2020-10-21.csv', 'test_2020-10-09.csv', 'test_2020-10-08.csv', 'test_2020-10-20.csv', 'test_2020-09-29.csv', 'test_2020-10-22.csv', 'test_2020-10-23.csv', '.ipynb_checkpoints', 'test_2020-11-04.csv', 'test_2020-11-05.csv', 'test_2020-11-02.csv', 'test_2020-11-03.csv', 'test_2020-11-01.csv']\n",
      "\n"
     ]
    },
    {
     "name": "stderr",
     "output_type": "stream",
     "text": [
      "100%|████████████████████████████████████████████████████| 38/38 [00:00<00:00, 777.44it/s]\n"
     ]
    }
   ],
   "source": [
    "# test 데이터 합치기\n",
    "arr = os.listdir('/Users/cge/Documents/yeardream/프로젝트/기업프로젝트/data/public_data/test_files')\n",
    "print(arr)\n",
    "print()\n",
    "\n",
    "filename_list = arr\n",
    "filename_list_2020 = []    \n",
    "for filename in filename_list :\n",
    "    if '2020' in filename :\n",
    "        filename_list_2020.append(filename)\n",
    "        \n",
    "path = '/Users/cge/Documents/yeardream/프로젝트/기업프로젝트/data/public_data/test_files/'\n",
    "df_list = []\n",
    "for filename in tqdm(filename_list_2020) :\n",
    "    df = pd.read_csv(path + filename)\n",
    "    df_list.append(df)\n",
    "test = pd.concat(df_list, sort=False).reset_index(drop=True)"
   ]
  },
  {
   "cell_type": "code",
   "execution_count": 459,
   "id": "bfb075e7",
   "metadata": {
    "ExecuteTime": {
     "end_time": "2022-10-12T06:43:56.923189Z",
     "start_time": "2022-10-12T06:43:56.897060Z"
    }
   },
   "outputs": [
    {
     "name": "stdout",
     "output_type": "stream",
     "text": [
      "(1733, 44)\n",
      "(37, 44)\n",
      "(1770, 44)\n"
     ]
    }
   ],
   "source": [
    "# grape = pd.read_csv(processed_path+'grape.csv')\n",
    "# shinemuscat = pd.read_csv(processed_path+'shinemuscat.csv')\n",
    "\n",
    "train = pd.read_csv(raw_path+'train.csv')\n",
    "test = pd.read_csv(raw_path+'test.csv')\n",
    "df = pd.concat([train, test], axis = 0)\n",
    "df = df.reset_index(drop=True)\n",
    "\n",
    "print(train.shape)\n",
    "print(test.shape)\n",
    "print(df.shape)"
   ]
  },
  {
   "cell_type": "code",
   "execution_count": 752,
   "id": "3d37bf1a",
   "metadata": {
    "ExecuteTime": {
     "end_time": "2022-10-12T10:16:19.677249Z",
     "start_time": "2022-10-12T10:16:19.671769Z"
    }
   },
   "outputs": [
    {
     "name": "stdout",
     "output_type": "stream",
     "text": [
      "(1770, 4)\n",
      "(1770, 4)\n"
     ]
    }
   ],
   "source": [
    "grape = df[['date', '요일', '캠벨얼리_거래량(kg)', '캠벨얼리_가격(원/kg)']]\n",
    "shinemuscat = df[['date', '요일','샤인마스캇_거래량(kg)', '샤인마스캇_가격(원/kg)']]\n",
    "\n",
    "print(grape.shape)\n",
    "print(shinemuscat.shape)"
   ]
  },
  {
   "cell_type": "code",
   "execution_count": 602,
   "id": "e3b73459",
   "metadata": {
    "ExecuteTime": {
     "end_time": "2022-10-12T07:57:39.237219Z",
     "start_time": "2022-10-12T07:57:39.227883Z"
    }
   },
   "outputs": [
    {
     "name": "stdout",
     "output_type": "stream",
     "text": [
      "['private_data.csv', '.DS_Store', 'test.csv', 'README.md', '최저시급.csv', 'shinemuscat', '물가지수.csv', '주유소_평균판매가격(201105).csv', 'train.csv', 'grape', '실업률_경제활동인구.csv', 'sample_submission.csv']\n",
      "\n",
      "['금산_날씨.csv', '.DS_Store', '남원_날씨.csv', '수원_날씨.csv', '포도_수출입_201601020201130.csv', '거창_날씨.csv', '재배면적_생산량.csv', '구미_날씨.csv']\n",
      "\n",
      "['금산_날씨.csv', '.DS_Store', '영천_날씨.csv', '포도_수출입_201601020201130.csv', '샤인머스켓_블루베리.csv', '재배면적_생산량.csv', '구미_날씨.csv']\n"
     ]
    }
   ],
   "source": [
    "arr = os.listdir('/Users/cge/Documents/yeardream/프로젝트/기업프로젝트/products_price_predict/data/raw/')\n",
    "print(arr)\n",
    "print()\n",
    "grape_arr2 = os.listdir('/Users/cge/Documents/yeardream/프로젝트/기업프로젝트/products_price_predict/data/raw/grape/')\n",
    "print(grape_arr2)\n",
    "print()\n",
    "shinemuscat_arr2 = os.listdir('/Users/cge/Documents/yeardream/프로젝트/기업프로젝트/products_price_predict/data/raw/shinemuscat//')\n",
    "print(shinemuscat_arr2)"
   ]
  },
  {
   "cell_type": "markdown",
   "id": "edd31b76",
   "metadata": {},
   "source": [
    "# 캠벨얼리 외부데이터 불러오기 및 전처리\n",
    "\n",
    "**날씨 데이터 지역 비율 >>> <br>\n",
    "구미_날씨(김천) = 31.7%, 남원_날씨 = 28%, 수원_날씨(화성) = 20.5%, 금산_날씨(영동) = 14.7%, 거창_날씨 = 5.1%**\n",
    "\n",
    "거래량, 가격, 자동차용경유, 소비자 물가 지수, 날씨(4개-평균기온, 평균온량, 일강수량, 일교차), 수출입(4개), 재배면적, 샤인머스켓(빅카인즈) 거래량(워드클라우드)   , 실업률_경제활동인구, 최저시급"
   ]
  },
  {
   "cell_type": "markdown",
   "id": "ff00b54d",
   "metadata": {},
   "source": [
    "### 날씨(weather, weather2)"
   ]
  },
  {
   "cell_type": "code",
   "execution_count": 718,
   "id": "ccbe2e67",
   "metadata": {
    "ExecuteTime": {
     "end_time": "2022-10-12T10:07:21.173156Z",
     "start_time": "2022-10-12T10:07:21.144135Z"
    }
   },
   "outputs": [],
   "source": [
    "### 날씨 데이터 가져오기 및 전처리  => 남원_날씨, 영천_날씨, 수원_날씨, 거창_날씨, 구미_날씨\n",
    "gumi = pd.read_csv(grape_path+'구미_날씨.csv', index_col=0)\n",
    "namwon = pd.read_csv(grape_path+'남원_날씨.csv', index_col=0)\n",
    "suwon = pd.read_csv(grape_path+'수원_날씨.csv', index_col=0)\n",
    "geumsan = pd.read_csv(grape_path+'금산_날씨.csv', index_col=0)\n",
    "geochang = pd.read_csv(grape_path+'거창_날씨.csv', index_col=0)"
   ]
  },
  {
   "cell_type": "code",
   "execution_count": 719,
   "id": "1a363d3a",
   "metadata": {
    "ExecuteTime": {
     "end_time": "2022-10-12T10:07:21.332949Z",
     "start_time": "2022-10-12T10:07:21.320110Z"
    }
   },
   "outputs": [],
   "source": [
    "# 상관계수가 높아서 drop -> 평균기온 & 일교차 대체 사용\n",
    "\n",
    "gumi.drop(columns=['최고기온', '최저기온'],inplace=True)\n",
    "namwon.drop(columns=['최고기온', '최저기온'],inplace=True)\n",
    "suwon.drop(columns=['최고기온', '최저기온'],inplace=True)\n",
    "geumsan.drop(columns=['최고기온', '최저기온'],inplace=True)\n",
    "geochang.drop(columns=['최고기온', '최저기온'],inplace=True)"
   ]
  },
  {
   "cell_type": "code",
   "execution_count": 720,
   "id": "e94e29e3",
   "metadata": {
    "ExecuteTime": {
     "end_time": "2022-10-12T10:07:21.492244Z",
     "start_time": "2022-10-12T10:07:21.481632Z"
    }
   },
   "outputs": [],
   "source": [
    "# 컬럼 이름 바꿈\n",
    "\n",
    "gumi.rename(columns={'평균기온':'구미_평균기온','평균운량':'구미_평균운량','일강수량':'구미_일강수량','일교차':'구미_일교차'}, inplace=True)\n",
    "namwon.rename(columns={'평균기온':'남원_평균기온','평균운량':'남원_평균운량','일강수량':'남원_일강수량','일교차':'남원_일교차'}, inplace=True)\n",
    "suwon.rename(columns={'평균기온':'수원_평균기온','평균운량':'수원_평균운량','일강수량':'수원_일강수량','일교차':'수원_일교차'}, inplace=True)\n",
    "geumsan.rename(columns={'평균기온':'금산_평균기온','평균운량':'금산_평균운량','일강수량':'금산_일강수량','일교차':'금산_일교차'}, inplace=True)\n",
    "geochang.rename(columns={'평균기온':'거창_평균기온','평균운량':'거창_평균운량','일강수량':'거창_일강수량','일교차':'거창_일교차'}, inplace=True)"
   ]
  },
  {
   "cell_type": "code",
   "execution_count": 721,
   "id": "697d8fa5",
   "metadata": {
    "ExecuteTime": {
     "end_time": "2022-10-12T10:07:21.648378Z",
     "start_time": "2022-10-12T10:07:21.615180Z"
    }
   },
   "outputs": [
    {
     "name": "stdout",
     "output_type": "stream",
     "text": [
      "(1771, 21)\n"
     ]
    },
    {
     "data": {
      "text/html": [
       "<div>\n",
       "<style scoped>\n",
       "    .dataframe tbody tr th:only-of-type {\n",
       "        vertical-align: middle;\n",
       "    }\n",
       "\n",
       "    .dataframe tbody tr th {\n",
       "        vertical-align: top;\n",
       "    }\n",
       "\n",
       "    .dataframe thead th {\n",
       "        text-align: right;\n",
       "    }\n",
       "</style>\n",
       "<table border=\"1\" class=\"dataframe\">\n",
       "  <thead>\n",
       "    <tr style=\"text-align: right;\">\n",
       "      <th></th>\n",
       "      <th>날짜</th>\n",
       "      <th>구미_평균기온</th>\n",
       "      <th>구미_평균운량</th>\n",
       "      <th>구미_일강수량</th>\n",
       "      <th>구미_일교차</th>\n",
       "      <th>남원_평균기온</th>\n",
       "      <th>남원_평균운량</th>\n",
       "      <th>남원_일강수량</th>\n",
       "      <th>남원_일교차</th>\n",
       "      <th>수원_평균기온</th>\n",
       "      <th>...</th>\n",
       "      <th>수원_일강수량</th>\n",
       "      <th>수원_일교차</th>\n",
       "      <th>금산_평균기온</th>\n",
       "      <th>금산_평균운량</th>\n",
       "      <th>금산_일강수량</th>\n",
       "      <th>금산_일교차</th>\n",
       "      <th>거창_평균기온</th>\n",
       "      <th>거창_평균운량</th>\n",
       "      <th>거창_일강수량</th>\n",
       "      <th>거창_일교차</th>\n",
       "    </tr>\n",
       "  </thead>\n",
       "  <tbody>\n",
       "    <tr>\n",
       "      <th>0</th>\n",
       "      <td>2016년 1월 1일</td>\n",
       "      <td>0.4</td>\n",
       "      <td>0.0</td>\n",
       "      <td>0.0</td>\n",
       "      <td>13.0</td>\n",
       "      <td>0.0</td>\n",
       "      <td>0.0</td>\n",
       "      <td>0.0</td>\n",
       "      <td>11.8</td>\n",
       "      <td>1.6</td>\n",
       "      <td>...</td>\n",
       "      <td>0.0</td>\n",
       "      <td>9.9</td>\n",
       "      <td>-0.7</td>\n",
       "      <td>0.0</td>\n",
       "      <td>0.0</td>\n",
       "      <td>11.9</td>\n",
       "      <td>-1.1</td>\n",
       "      <td>0.0</td>\n",
       "      <td>0.0</td>\n",
       "      <td>16.5</td>\n",
       "    </tr>\n",
       "    <tr>\n",
       "      <th>1</th>\n",
       "      <td>2016년 1월 2일</td>\n",
       "      <td>2.1</td>\n",
       "      <td>0.0</td>\n",
       "      <td>0.0</td>\n",
       "      <td>13.6</td>\n",
       "      <td>3.5</td>\n",
       "      <td>0.0</td>\n",
       "      <td>0.0</td>\n",
       "      <td>14.2</td>\n",
       "      <td>5.8</td>\n",
       "      <td>...</td>\n",
       "      <td>0.0</td>\n",
       "      <td>9.1</td>\n",
       "      <td>4.8</td>\n",
       "      <td>0.0</td>\n",
       "      <td>0.0</td>\n",
       "      <td>13.8</td>\n",
       "      <td>1.4</td>\n",
       "      <td>0.0</td>\n",
       "      <td>0.0</td>\n",
       "      <td>18.3</td>\n",
       "    </tr>\n",
       "  </tbody>\n",
       "</table>\n",
       "<p>2 rows × 21 columns</p>\n",
       "</div>"
      ],
      "text/plain": [
       "            날짜  구미_평균기온  구미_평균운량  구미_일강수량  구미_일교차  남원_평균기온  남원_평균운량  남원_일강수량  \\\n",
       "0  2016년 1월 1일      0.4      0.0      0.0    13.0      0.0      0.0      0.0   \n",
       "1  2016년 1월 2일      2.1      0.0      0.0    13.6      3.5      0.0      0.0   \n",
       "\n",
       "   남원_일교차  수원_평균기온  ...  수원_일강수량  수원_일교차  금산_평균기온  금산_평균운량  금산_일강수량  금산_일교차  \\\n",
       "0    11.8      1.6  ...      0.0     9.9     -0.7      0.0      0.0    11.9   \n",
       "1    14.2      5.8  ...      0.0     9.1      4.8      0.0      0.0    13.8   \n",
       "\n",
       "   거창_평균기온  거창_평균운량  거창_일강수량  거창_일교차  \n",
       "0     -1.1      0.0      0.0    16.5  \n",
       "1      1.4      0.0      0.0    18.3  \n",
       "\n",
       "[2 rows x 21 columns]"
      ]
     },
     "execution_count": 721,
     "metadata": {},
     "output_type": "execute_result"
    }
   ],
   "source": [
    "weather = pd.merge(gumi, namwon)\n",
    "weather = pd.merge(weather, suwon)\n",
    "weather = pd.merge(weather, geumsan)\n",
    "weather = pd.merge(weather, geochang)\n",
    "\n",
    "print(weather.shape)\n",
    "weather.head(2)"
   ]
  },
  {
   "cell_type": "code",
   "execution_count": 722,
   "id": "91e86093",
   "metadata": {
    "ExecuteTime": {
     "end_time": "2022-10-12T10:07:21.779784Z",
     "start_time": "2022-10-12T10:07:21.772757Z"
    }
   },
   "outputs": [
    {
     "data": {
      "text/plain": [
       "Index(['날짜', '구미_평균기온', '구미_평균운량', '구미_일강수량', '구미_일교차', '남원_평균기온', '남원_평균운량',\n",
       "       '남원_일강수량', '남원_일교차', '수원_평균기온', '수원_평균운량', '수원_일강수량', '수원_일교차',\n",
       "       '금산_평균기온', '금산_평균운량', '금산_일강수량', '금산_일교차', '거창_평균기온', '거창_평균운량',\n",
       "       '거창_일강수량', '거창_일교차'],\n",
       "      dtype='object')"
      ]
     },
     "execution_count": 722,
     "metadata": {},
     "output_type": "execute_result"
    }
   ],
   "source": [
    "weather.columns"
   ]
  },
  {
   "cell_type": "code",
   "execution_count": 723,
   "id": "c30087b7",
   "metadata": {
    "ExecuteTime": {
     "end_time": "2022-10-12T10:07:22.378162Z",
     "start_time": "2022-10-12T10:07:22.343822Z"
    }
   },
   "outputs": [
    {
     "data": {
      "text/html": [
       "<div>\n",
       "<style scoped>\n",
       "    .dataframe tbody tr th:only-of-type {\n",
       "        vertical-align: middle;\n",
       "    }\n",
       "\n",
       "    .dataframe tbody tr th {\n",
       "        vertical-align: top;\n",
       "    }\n",
       "\n",
       "    .dataframe thead th {\n",
       "        text-align: right;\n",
       "    }\n",
       "</style>\n",
       "<table border=\"1\" class=\"dataframe\">\n",
       "  <thead>\n",
       "    <tr style=\"text-align: right;\">\n",
       "      <th></th>\n",
       "      <th>날짜</th>\n",
       "      <th>구미_평균기온</th>\n",
       "      <th>구미_평균운량</th>\n",
       "      <th>구미_일강수량</th>\n",
       "      <th>구미_일교차</th>\n",
       "      <th>남원_평균기온</th>\n",
       "      <th>남원_평균운량</th>\n",
       "      <th>남원_일강수량</th>\n",
       "      <th>남원_일교차</th>\n",
       "      <th>수원_평균기온</th>\n",
       "      <th>...</th>\n",
       "      <th>금산_일강수량</th>\n",
       "      <th>금산_일교차</th>\n",
       "      <th>거창_평균기온</th>\n",
       "      <th>거창_평균운량</th>\n",
       "      <th>거창_일강수량</th>\n",
       "      <th>거창_일교차</th>\n",
       "      <th>재배지역_평균기온</th>\n",
       "      <th>재배지역_평균운량</th>\n",
       "      <th>재배지역_일강수량</th>\n",
       "      <th>재배지역_일교차</th>\n",
       "    </tr>\n",
       "  </thead>\n",
       "  <tbody>\n",
       "    <tr>\n",
       "      <th>0</th>\n",
       "      <td>2016년 1월 1일</td>\n",
       "      <td>0.4</td>\n",
       "      <td>0.0</td>\n",
       "      <td>0.0</td>\n",
       "      <td>13.0</td>\n",
       "      <td>0.0</td>\n",
       "      <td>0.0</td>\n",
       "      <td>0.0</td>\n",
       "      <td>11.8</td>\n",
       "      <td>1.6</td>\n",
       "      <td>...</td>\n",
       "      <td>0.0</td>\n",
       "      <td>11.9</td>\n",
       "      <td>-1.1</td>\n",
       "      <td>0.0</td>\n",
       "      <td>0.0</td>\n",
       "      <td>16.5</td>\n",
       "      <td>0.2958</td>\n",
       "      <td>1.107</td>\n",
       "      <td>0.0</td>\n",
       "      <td>12.0453</td>\n",
       "    </tr>\n",
       "    <tr>\n",
       "      <th>1</th>\n",
       "      <td>2016년 1월 2일</td>\n",
       "      <td>2.1</td>\n",
       "      <td>0.0</td>\n",
       "      <td>0.0</td>\n",
       "      <td>13.6</td>\n",
       "      <td>3.5</td>\n",
       "      <td>0.0</td>\n",
       "      <td>0.0</td>\n",
       "      <td>14.2</td>\n",
       "      <td>5.8</td>\n",
       "      <td>...</td>\n",
       "      <td>0.0</td>\n",
       "      <td>13.8</td>\n",
       "      <td>1.4</td>\n",
       "      <td>0.0</td>\n",
       "      <td>0.0</td>\n",
       "      <td>18.3</td>\n",
       "      <td>3.6117</td>\n",
       "      <td>1.312</td>\n",
       "      <td>0.0</td>\n",
       "      <td>13.1146</td>\n",
       "    </tr>\n",
       "  </tbody>\n",
       "</table>\n",
       "<p>2 rows × 25 columns</p>\n",
       "</div>"
      ],
      "text/plain": [
       "            날짜  구미_평균기온  구미_평균운량  구미_일강수량  구미_일교차  남원_평균기온  남원_평균운량  남원_일강수량  \\\n",
       "0  2016년 1월 1일      0.4      0.0      0.0    13.0      0.0      0.0      0.0   \n",
       "1  2016년 1월 2일      2.1      0.0      0.0    13.6      3.5      0.0      0.0   \n",
       "\n",
       "   남원_일교차  수원_평균기온  ...  금산_일강수량  금산_일교차  거창_평균기온  거창_평균운량  거창_일강수량  거창_일교차  \\\n",
       "0    11.8      1.6  ...      0.0    11.9     -1.1      0.0      0.0    16.5   \n",
       "1    14.2      5.8  ...      0.0    13.8      1.4      0.0      0.0    18.3   \n",
       "\n",
       "   재배지역_평균기온  재배지역_평균운량  재배지역_일강수량  재배지역_일교차  \n",
       "0     0.2958      1.107        0.0   12.0453  \n",
       "1     3.6117      1.312        0.0   13.1146  \n",
       "\n",
       "[2 rows x 25 columns]"
      ]
     },
     "execution_count": 723,
     "metadata": {},
     "output_type": "execute_result"
    }
   ],
   "source": [
    "# 구미_날씨(김천) = 31.7%, 남원_날씨 = 28%, 수원_날씨(화성) = 20.5%, 금산_날씨(영동) = 14.7%, 거창_날씨 = 5.1%\n",
    "\n",
    "weather2 = weather.copy()\n",
    "\n",
    "weather2['재배지역_평균기온'] = weather2['구미_평균기온'] * (31.7/100) + weather2['남원_평균기온'] * (28/100) + weather2['수원_평균기온'] * (20.5/100)+ weather2['금산_평균기온'] * (14.7/100)+ weather2['거창_평균기온'] * (5.1/100)\n",
    "weather2['재배지역_평균운량'] = weather2['구미_평균운량'] * (31.7/100) + weather2['남원_평균운량'] * (28/100) + weather2['수원_평균운량'] * (20.5/100)+ weather2['금산_평균운량'] * (14.7/100)+ weather2['거창_평균운량'] * (5.1/100)\n",
    "weather2['재배지역_일강수량'] = weather2['구미_일강수량'] * (31.7/100) + weather2['남원_일강수량'] * (28/100) + weather2['수원_일강수량'] * (20.5/100)+ weather2['금산_일강수량'] * (14.7/100)+ weather2['거창_일강수량'] * (5.1/100)\n",
    "weather2['재배지역_일교차'] = weather2['구미_일교차'] * (31.7/100) + weather2['남원_일교차'] * (28/100) + weather2['수원_일교차'] * (20.5/100)+ weather2['금산_일교차'] * (14.7/100)+ weather2['거창_일교차'] * (5.1/100)\n",
    "\n",
    "weather2.head(2)"
   ]
  },
  {
   "cell_type": "code",
   "execution_count": 724,
   "id": "33962287",
   "metadata": {
    "ExecuteTime": {
     "end_time": "2022-10-12T10:07:22.860158Z",
     "start_time": "2022-10-12T10:07:22.853069Z"
    }
   },
   "outputs": [],
   "source": [
    "# 날짜 칼럼 추가\n",
    "date = df['date']\n",
    "date.loc[1770] = '2020-11-05'"
   ]
  },
  {
   "cell_type": "code",
   "execution_count": 725,
   "id": "2f5132fb",
   "metadata": {
    "ExecuteTime": {
     "end_time": "2022-10-12T10:07:23.508445Z",
     "start_time": "2022-10-12T10:07:23.486239Z"
    },
    "scrolled": false
   },
   "outputs": [
    {
     "data": {
      "text/html": [
       "<div>\n",
       "<style scoped>\n",
       "    .dataframe tbody tr th:only-of-type {\n",
       "        vertical-align: middle;\n",
       "    }\n",
       "\n",
       "    .dataframe tbody tr th {\n",
       "        vertical-align: top;\n",
       "    }\n",
       "\n",
       "    .dataframe thead th {\n",
       "        text-align: right;\n",
       "    }\n",
       "</style>\n",
       "<table border=\"1\" class=\"dataframe\">\n",
       "  <thead>\n",
       "    <tr style=\"text-align: right;\">\n",
       "      <th></th>\n",
       "      <th>날짜</th>\n",
       "      <th>구미_평균기온</th>\n",
       "      <th>구미_평균운량</th>\n",
       "      <th>구미_일강수량</th>\n",
       "      <th>구미_일교차</th>\n",
       "      <th>남원_평균기온</th>\n",
       "      <th>남원_평균운량</th>\n",
       "      <th>남원_일강수량</th>\n",
       "      <th>남원_일교차</th>\n",
       "      <th>수원_평균기온</th>\n",
       "      <th>...</th>\n",
       "      <th>금산_일교차</th>\n",
       "      <th>거창_평균기온</th>\n",
       "      <th>거창_평균운량</th>\n",
       "      <th>거창_일강수량</th>\n",
       "      <th>거창_일교차</th>\n",
       "      <th>재배지역_평균기온</th>\n",
       "      <th>재배지역_평균운량</th>\n",
       "      <th>재배지역_일강수량</th>\n",
       "      <th>재배지역_일교차</th>\n",
       "      <th>date</th>\n",
       "    </tr>\n",
       "  </thead>\n",
       "  <tbody>\n",
       "    <tr>\n",
       "      <th>0</th>\n",
       "      <td>2016년 1월 1일</td>\n",
       "      <td>0.4</td>\n",
       "      <td>0.0</td>\n",
       "      <td>0.0</td>\n",
       "      <td>13.0</td>\n",
       "      <td>0.0</td>\n",
       "      <td>0.0</td>\n",
       "      <td>0.0</td>\n",
       "      <td>11.8</td>\n",
       "      <td>1.6</td>\n",
       "      <td>...</td>\n",
       "      <td>11.9</td>\n",
       "      <td>-1.1</td>\n",
       "      <td>0.0</td>\n",
       "      <td>0.0</td>\n",
       "      <td>16.5</td>\n",
       "      <td>0.2958</td>\n",
       "      <td>1.107</td>\n",
       "      <td>0.0</td>\n",
       "      <td>12.0453</td>\n",
       "      <td>2016-01-01</td>\n",
       "    </tr>\n",
       "    <tr>\n",
       "      <th>1</th>\n",
       "      <td>2016년 1월 2일</td>\n",
       "      <td>2.1</td>\n",
       "      <td>0.0</td>\n",
       "      <td>0.0</td>\n",
       "      <td>13.6</td>\n",
       "      <td>3.5</td>\n",
       "      <td>0.0</td>\n",
       "      <td>0.0</td>\n",
       "      <td>14.2</td>\n",
       "      <td>5.8</td>\n",
       "      <td>...</td>\n",
       "      <td>13.8</td>\n",
       "      <td>1.4</td>\n",
       "      <td>0.0</td>\n",
       "      <td>0.0</td>\n",
       "      <td>18.3</td>\n",
       "      <td>3.6117</td>\n",
       "      <td>1.312</td>\n",
       "      <td>0.0</td>\n",
       "      <td>13.1146</td>\n",
       "      <td>2016-01-02</td>\n",
       "    </tr>\n",
       "  </tbody>\n",
       "</table>\n",
       "<p>2 rows × 26 columns</p>\n",
       "</div>"
      ],
      "text/plain": [
       "            날짜  구미_평균기온  구미_평균운량  구미_일강수량  구미_일교차  남원_평균기온  남원_평균운량  남원_일강수량  \\\n",
       "0  2016년 1월 1일      0.4      0.0      0.0    13.0      0.0      0.0      0.0   \n",
       "1  2016년 1월 2일      2.1      0.0      0.0    13.6      3.5      0.0      0.0   \n",
       "\n",
       "   남원_일교차  수원_평균기온  ...  금산_일교차  거창_평균기온  거창_평균운량  거창_일강수량  거창_일교차  재배지역_평균기온  \\\n",
       "0    11.8      1.6  ...    11.9     -1.1      0.0      0.0    16.5     0.2958   \n",
       "1    14.2      5.8  ...    13.8      1.4      0.0      0.0    18.3     3.6117   \n",
       "\n",
       "   재배지역_평균운량  재배지역_일강수량  재배지역_일교차       date  \n",
       "0      1.107        0.0   12.0453 2016-01-01  \n",
       "1      1.312        0.0   13.1146 2016-01-02  \n",
       "\n",
       "[2 rows x 26 columns]"
      ]
     },
     "execution_count": 725,
     "metadata": {},
     "output_type": "execute_result"
    }
   ],
   "source": [
    "weather2['date'] = date\n",
    "weather2.head(2)"
   ]
  },
  {
   "cell_type": "code",
   "execution_count": 726,
   "id": "abab6515",
   "metadata": {
    "ExecuteTime": {
     "end_time": "2022-10-12T10:07:24.441399Z",
     "start_time": "2022-10-12T10:07:24.414234Z"
    },
    "scrolled": true
   },
   "outputs": [
    {
     "name": "stdout",
     "output_type": "stream",
     "text": [
      "(1771, 5)\n"
     ]
    },
    {
     "data": {
      "text/html": [
       "<div>\n",
       "<style scoped>\n",
       "    .dataframe tbody tr th:only-of-type {\n",
       "        vertical-align: middle;\n",
       "    }\n",
       "\n",
       "    .dataframe tbody tr th {\n",
       "        vertical-align: top;\n",
       "    }\n",
       "\n",
       "    .dataframe thead th {\n",
       "        text-align: right;\n",
       "    }\n",
       "</style>\n",
       "<table border=\"1\" class=\"dataframe\">\n",
       "  <thead>\n",
       "    <tr style=\"text-align: right;\">\n",
       "      <th></th>\n",
       "      <th>date</th>\n",
       "      <th>재배지역_평균기온</th>\n",
       "      <th>재배지역_평균운량</th>\n",
       "      <th>재배지역_일강수량</th>\n",
       "      <th>재배지역_일교차</th>\n",
       "    </tr>\n",
       "  </thead>\n",
       "  <tbody>\n",
       "    <tr>\n",
       "      <th>0</th>\n",
       "      <td>2016-01-01</td>\n",
       "      <td>0.30</td>\n",
       "      <td>1.11</td>\n",
       "      <td>0.0</td>\n",
       "      <td>12.05</td>\n",
       "    </tr>\n",
       "    <tr>\n",
       "      <th>1</th>\n",
       "      <td>2016-01-02</td>\n",
       "      <td>3.61</td>\n",
       "      <td>1.31</td>\n",
       "      <td>0.0</td>\n",
       "      <td>13.11</td>\n",
       "    </tr>\n",
       "  </tbody>\n",
       "</table>\n",
       "</div>"
      ],
      "text/plain": [
       "        date  재배지역_평균기온  재배지역_평균운량  재배지역_일강수량  재배지역_일교차\n",
       "0 2016-01-01       0.30       1.11        0.0     12.05\n",
       "1 2016-01-02       3.61       1.31        0.0     13.11"
      ]
     },
     "metadata": {},
     "output_type": "display_data"
    },
    {
     "data": {
      "text/html": [
       "<div>\n",
       "<style scoped>\n",
       "    .dataframe tbody tr th:only-of-type {\n",
       "        vertical-align: middle;\n",
       "    }\n",
       "\n",
       "    .dataframe tbody tr th {\n",
       "        vertical-align: top;\n",
       "    }\n",
       "\n",
       "    .dataframe thead th {\n",
       "        text-align: right;\n",
       "    }\n",
       "</style>\n",
       "<table border=\"1\" class=\"dataframe\">\n",
       "  <thead>\n",
       "    <tr style=\"text-align: right;\">\n",
       "      <th></th>\n",
       "      <th>date</th>\n",
       "      <th>재배지역_평균기온</th>\n",
       "      <th>재배지역_평균운량</th>\n",
       "      <th>재배지역_일강수량</th>\n",
       "      <th>재배지역_일교차</th>\n",
       "    </tr>\n",
       "  </thead>\n",
       "  <tbody>\n",
       "    <tr>\n",
       "      <th>1769</th>\n",
       "      <td>2020-11-04</td>\n",
       "      <td>4.65</td>\n",
       "      <td>0.22</td>\n",
       "      <td>0.0</td>\n",
       "      <td>12.64</td>\n",
       "    </tr>\n",
       "    <tr>\n",
       "      <th>1770</th>\n",
       "      <td>2020-11-05</td>\n",
       "      <td>7.47</td>\n",
       "      <td>4.71</td>\n",
       "      <td>0.0</td>\n",
       "      <td>18.14</td>\n",
       "    </tr>\n",
       "  </tbody>\n",
       "</table>\n",
       "</div>"
      ],
      "text/plain": [
       "           date  재배지역_평균기온  재배지역_평균운량  재배지역_일강수량  재배지역_일교차\n",
       "1769 2020-11-04       4.65       0.22        0.0     12.64\n",
       "1770 2020-11-05       7.47       4.71        0.0     18.14"
      ]
     },
     "metadata": {},
     "output_type": "display_data"
    }
   ],
   "source": [
    "weather2 = weather2[['date','재배지역_평균기온', '재배지역_평균운량', '재배지역_일강수량', '재배지역_일교차']]\n",
    "weather2 = weather2.round(2)\n",
    "\n",
    "print(weather2.shape)\n",
    "display(weather2.head(2))\n",
    "display(weather2.tail(2))"
   ]
  },
  {
   "cell_type": "markdown",
   "id": "5b37a9ca",
   "metadata": {},
   "source": [
    "### 소비자물가지수 & 오일(공통-포도)"
   ]
  },
  {
   "cell_type": "code",
   "execution_count": 80,
   "id": "0f91d2dd",
   "metadata": {
    "ExecuteTime": {
     "end_time": "2022-10-11T07:01:27.995900Z",
     "start_time": "2022-10-11T07:01:27.988227Z"
    }
   },
   "outputs": [
    {
     "name": "stdout",
     "output_type": "stream",
     "text": [
      "(1771, 1)\n"
     ]
    }
   ],
   "source": [
    "product = pd.read_csv(raw_path+'물가지수.csv', index_col=0)\n",
    "product.reset_index(drop=True, inplace=True)\n",
    "product.rename(columns={'지수' : '소비자물가지수'}, inplace=True)\n",
    "\n",
    "print(product.shape)"
   ]
  },
  {
   "cell_type": "code",
   "execution_count": 81,
   "id": "e08051fb",
   "metadata": {
    "ExecuteTime": {
     "end_time": "2022-10-11T07:01:28.318510Z",
     "start_time": "2022-10-11T07:01:28.301119Z"
    }
   },
   "outputs": [
    {
     "name": "stdout",
     "output_type": "stream",
     "text": [
      "(1771, 5)\n"
     ]
    }
   ],
   "source": [
    "oil = pd.read_csv(raw_path+'주유소_평균판매가격(201105).csv',encoding='cp949')\n",
    "oil.drop([1771, 1772, 1773, 1774, 1775, 1776, 1777, 1778, 1779, 1780], inplace=True)\n",
    "\n",
    "print(oil.shape)"
   ]
  },
  {
   "cell_type": "markdown",
   "id": "9d904799",
   "metadata": {},
   "source": [
    "### 수출입 데이터 전처리(월단위, 평균) (공통-포도)"
   ]
  },
  {
   "cell_type": "code",
   "execution_count": 121,
   "id": "ab05757b",
   "metadata": {
    "ExecuteTime": {
     "end_time": "2022-10-11T07:41:57.786030Z",
     "start_time": "2022-10-11T07:41:57.778372Z"
    }
   },
   "outputs": [
    {
     "data": {
      "text/plain": [
       "(63, 6)"
      ]
     },
     "execution_count": 121,
     "metadata": {},
     "output_type": "execute_result"
    }
   ],
   "source": [
    "grape_export = pd.read_csv(grape_path+'포도_수출입_201601020201130.csv', encoding='cp949')\n",
    "grape_export.shape"
   ]
  },
  {
   "cell_type": "code",
   "execution_count": 122,
   "id": "a687e6e1",
   "metadata": {
    "ExecuteTime": {
     "end_time": "2022-10-11T07:41:57.980835Z",
     "start_time": "2022-10-11T07:41:57.963640Z"
    }
   },
   "outputs": [
    {
     "data": {
      "text/html": [
       "<div>\n",
       "<style scoped>\n",
       "    .dataframe tbody tr th:only-of-type {\n",
       "        vertical-align: middle;\n",
       "    }\n",
       "\n",
       "    .dataframe tbody tr th {\n",
       "        vertical-align: top;\n",
       "    }\n",
       "\n",
       "    .dataframe thead th {\n",
       "        text-align: right;\n",
       "    }\n",
       "</style>\n",
       "<table border=\"1\" class=\"dataframe\">\n",
       "  <thead>\n",
       "    <tr style=\"text-align: right;\">\n",
       "      <th></th>\n",
       "      <th>년</th>\n",
       "      <th>월</th>\n",
       "      <th>수출(중량)</th>\n",
       "      <th>수출(금액)</th>\n",
       "      <th>수입(중량)</th>\n",
       "      <th>수입(금액)</th>\n",
       "    </tr>\n",
       "  </thead>\n",
       "  <tbody>\n",
       "    <tr>\n",
       "      <th>0</th>\n",
       "      <td>2016</td>\n",
       "      <td>01</td>\n",
       "      <td>8,205.1</td>\n",
       "      <td>22,573.0</td>\n",
       "      <td>3,656,023.0</td>\n",
       "      <td>10,540,076.0</td>\n",
       "    </tr>\n",
       "    <tr>\n",
       "      <th>1</th>\n",
       "      <td>2016</td>\n",
       "      <td>02</td>\n",
       "      <td>1,137.4</td>\n",
       "      <td>3,914.0</td>\n",
       "      <td>4,606,327.0</td>\n",
       "      <td>15,021,662.0</td>\n",
       "    </tr>\n",
       "  </tbody>\n",
       "</table>\n",
       "</div>"
      ],
      "text/plain": [
       "      년   월   수출(중량)    수출(금액)       수입(중량)        수입(금액)\n",
       "0  2016  01  8,205.1  22,573.0  3,656,023.0  10,540,076.0\n",
       "1  2016  02  1,137.4   3,914.0  4,606,327.0  15,021,662.0"
      ]
     },
     "execution_count": 122,
     "metadata": {},
     "output_type": "execute_result"
    }
   ],
   "source": [
    "grape_export.rename(columns={'2016':'년','합':'월','1,103,238.9': '수출(중량)','5,387,753.0': '수출(금액)','64,664,166.5': '수입(중량)','175,454,117.0': '수입(금액)'}, inplace=True)\n",
    "grape_export.head(2)"
   ]
  },
  {
   "cell_type": "code",
   "execution_count": 123,
   "id": "11b90956",
   "metadata": {
    "ExecuteTime": {
     "end_time": "2022-10-11T07:41:58.129876Z",
     "start_time": "2022-10-11T07:41:58.123863Z"
    }
   },
   "outputs": [
    {
     "data": {
      "text/plain": [
       "Int64Index([12, 25, 38, 51], dtype='int64')"
      ]
     },
     "execution_count": 123,
     "metadata": {},
     "output_type": "execute_result"
    }
   ],
   "source": [
    "# 년 평균 데이터 drop(결측치)\n",
    "\n",
    "grape_export[grape_export['월'] == '합'].index"
   ]
  },
  {
   "cell_type": "code",
   "execution_count": 124,
   "id": "663e01b3",
   "metadata": {
    "ExecuteTime": {
     "end_time": "2022-10-11T07:41:58.322161Z",
     "start_time": "2022-10-11T07:41:58.307890Z"
    },
    "scrolled": true
   },
   "outputs": [
    {
     "data": {
      "text/html": [
       "<div>\n",
       "<style scoped>\n",
       "    .dataframe tbody tr th:only-of-type {\n",
       "        vertical-align: middle;\n",
       "    }\n",
       "\n",
       "    .dataframe tbody tr th {\n",
       "        vertical-align: top;\n",
       "    }\n",
       "\n",
       "    .dataframe thead th {\n",
       "        text-align: right;\n",
       "    }\n",
       "</style>\n",
       "<table border=\"1\" class=\"dataframe\">\n",
       "  <thead>\n",
       "    <tr style=\"text-align: right;\">\n",
       "      <th></th>\n",
       "      <th>년</th>\n",
       "      <th>월</th>\n",
       "      <th>수출(중량)</th>\n",
       "      <th>수출(금액)</th>\n",
       "      <th>수입(중량)</th>\n",
       "      <th>수입(금액)</th>\n",
       "    </tr>\n",
       "  </thead>\n",
       "  <tbody>\n",
       "    <tr>\n",
       "      <th>0</th>\n",
       "      <td>2016</td>\n",
       "      <td>01</td>\n",
       "      <td>8,205.1</td>\n",
       "      <td>22,573.0</td>\n",
       "      <td>3,656,023.0</td>\n",
       "      <td>10,540,076.0</td>\n",
       "    </tr>\n",
       "    <tr>\n",
       "      <th>1</th>\n",
       "      <td>2016</td>\n",
       "      <td>02</td>\n",
       "      <td>1,137.4</td>\n",
       "      <td>3,914.0</td>\n",
       "      <td>4,606,327.0</td>\n",
       "      <td>15,021,662.0</td>\n",
       "    </tr>\n",
       "  </tbody>\n",
       "</table>\n",
       "</div>"
      ],
      "text/plain": [
       "      년   월   수출(중량)    수출(금액)       수입(중량)        수입(금액)\n",
       "0  2016  01  8,205.1  22,573.0  3,656,023.0  10,540,076.0\n",
       "1  2016  02  1,137.4   3,914.0  4,606,327.0  15,021,662.0"
      ]
     },
     "execution_count": 124,
     "metadata": {},
     "output_type": "execute_result"
    }
   ],
   "source": [
    "grape_export.drop([12, 25, 38, 51], inplace=True)\n",
    "grape_export.reset_index(drop=True, inplace=True)\n",
    "\n",
    "grape_export.head(2)"
   ]
  },
  {
   "cell_type": "code",
   "execution_count": 127,
   "id": "8d66ffdc",
   "metadata": {
    "ExecuteTime": {
     "end_time": "2022-10-11T07:42:01.661681Z",
     "start_time": "2022-10-11T07:42:01.653384Z"
    }
   },
   "outputs": [],
   "source": [
    "grape_export.replace('(.*),(.*)', r'\\1\\2', regex=True, inplace = True)"
   ]
  },
  {
   "cell_type": "code",
   "execution_count": 129,
   "id": "e03f167a",
   "metadata": {
    "ExecuteTime": {
     "end_time": "2022-10-11T07:42:09.449368Z",
     "start_time": "2022-10-11T07:42:09.437405Z"
    }
   },
   "outputs": [
    {
     "data": {
      "text/plain": [
       "년           int64\n",
       "월           int64\n",
       "수출(중량)    float64\n",
       "수출(금액)    float64\n",
       "수입(중량)    float64\n",
       "수입(금액)    float64\n",
       "dtype: object"
      ]
     },
     "execution_count": 129,
     "metadata": {},
     "output_type": "execute_result"
    }
   ],
   "source": [
    "grape_export = grape_export.astype({'년':'int64','월':'int64', '수출(중량)':'float','수출(금액)':'float', '수입(중량)':'float','수입(금액)':'float'})\n",
    "grape_export.dtypes "
   ]
  },
  {
   "cell_type": "code",
   "execution_count": 130,
   "id": "5bbe4c51",
   "metadata": {
    "ExecuteTime": {
     "end_time": "2022-10-11T07:42:11.247022Z",
     "start_time": "2022-10-11T07:42:11.238042Z"
    }
   },
   "outputs": [
    {
     "data": {
      "text/plain": [
       "[array([  51186.38666667,  862239.46666667,  682659.37333333,\n",
       "        2028986.26666667])]"
      ]
     },
     "execution_count": 130,
     "metadata": {},
     "output_type": "execute_result"
    }
   ],
   "source": [
    "# 2020년 11월 데이터 4일까지만 존재하여 값 수정\n",
    "\n",
    "export_202011 = grape_export.iloc[58:,2:].values\n",
    "export202011 = []\n",
    "for i in export_202011:\n",
    "    export202011.append((i/30)*4)\n",
    "export202011"
   ]
  },
  {
   "cell_type": "code",
   "execution_count": 131,
   "id": "f9e3cd2a",
   "metadata": {
    "ExecuteTime": {
     "end_time": "2022-10-11T07:42:12.236662Z",
     "start_time": "2022-10-11T07:42:12.226485Z"
    },
    "scrolled": true
   },
   "outputs": [],
   "source": [
    "grape_export.loc[59] = [2020, 11, 51186.38,  862239.46, 682659.37, 2028986.26]\n",
    "grape_export.drop([58],inplace=True)\n",
    "grape_export.reset_index(drop=True, inplace=True)"
   ]
  },
  {
   "cell_type": "code",
   "execution_count": 641,
   "id": "34f0be05",
   "metadata": {
    "ExecuteTime": {
     "end_time": "2022-10-12T08:51:09.131843Z",
     "start_time": "2022-10-12T08:51:09.128266Z"
    },
    "scrolled": false
   },
   "outputs": [
    {
     "data": {
      "text/plain": [
       "(59, 6)"
      ]
     },
     "execution_count": 641,
     "metadata": {},
     "output_type": "execute_result"
    }
   ],
   "source": [
    "grape_export = grape_export.astype({'년':'int64','월':'int64'})\n",
    "grape_export.shape "
   ]
  },
  {
   "cell_type": "code",
   "execution_count": 289,
   "id": "f5c2e9dc",
   "metadata": {
    "ExecuteTime": {
     "end_time": "2022-10-11T08:58:44.443936Z",
     "start_time": "2022-10-11T08:58:44.433100Z"
    },
    "scrolled": false
   },
   "outputs": [
    {
     "data": {
      "text/plain": [
       "(1770, 3)"
      ]
     },
     "execution_count": 289,
     "metadata": {},
     "output_type": "execute_result"
    }
   ],
   "source": [
    "date = grape2[['date','년','월']]\n",
    "date = date.astype({'년':'int64', '월':'int64'})\n",
    "date.shape"
   ]
  },
  {
   "cell_type": "code",
   "execution_count": 308,
   "id": "13d2ff1c",
   "metadata": {
    "ExecuteTime": {
     "end_time": "2022-10-11T09:10:17.496987Z",
     "start_time": "2022-10-11T09:10:17.493594Z"
    }
   },
   "outputs": [],
   "source": [
    "grape_export2 = grape_export.copy()"
   ]
  },
  {
   "cell_type": "code",
   "execution_count": 309,
   "id": "c07fe45c",
   "metadata": {
    "ExecuteTime": {
     "end_time": "2022-10-11T09:11:03.261355Z",
     "start_time": "2022-10-11T09:11:03.192702Z"
    }
   },
   "outputs": [],
   "source": [
    "A = [];B = [];C = [];D = []\n",
    "for x in range(59):\n",
    "    if (x == 1) | (x == 49):\n",
    "        for i in range(29):\n",
    "            A.append(grape_export2['수출(중량)'].iloc[x] / 29)\n",
    "            B.append(grape_export2['수출(금액)'].iloc[x] / 29)\n",
    "            C.append(grape_export2['수입(중량)'].iloc[x] / 29)\n",
    "            D.append(grape_export2['수입(금액)'].iloc[x] / 29)\n",
    "    elif x in [13, 25, 37]:\n",
    "        for i in range(28):\n",
    "            A.append(grape_export2['수출(중량)'].iloc[x] / 28)\n",
    "            B.append(grape_export2['수출(금액)'].iloc[x] / 28)\n",
    "            C.append(grape_export2['수입(중량)'].iloc[x] / 28)\n",
    "            D.append(grape_export2['수입(금액)'].iloc[x] / 28)\n",
    "    elif x in [3,5,8,10, 15,17,20,22, 27,29,32,34, 39,41,44,46, 51,53,56]:\n",
    "        for i in range(30):\n",
    "            A.append(grape_export2['수출(중량)'].iloc[x] / 30)\n",
    "            B.append(grape_export2['수출(금액)'].iloc[x] / 30)\n",
    "            C.append(grape_export2['수입(중량)'].iloc[x] / 30)\n",
    "            D.append(grape_export2['수입(금액)'].iloc[x] / 30)\n",
    "    elif x == 58:\n",
    "        for i in range(5):\n",
    "            A.append(grape_export2['수출(중량)'].iloc[x] / 30)\n",
    "            B.append(grape_export2['수출(금액)'].iloc[x] / 30)\n",
    "            C.append(grape_export2['수입(중량)'].iloc[x] / 30)\n",
    "            D.append(grape_export2['수입(금액)'].iloc[x] / 30)\n",
    "    else:\n",
    "        for i in range(31):\n",
    "            A.append(grape_export2['수출(중량)'].iloc[x] / 31)\n",
    "            B.append(grape_export2['수출(금액)'].iloc[x] / 31)\n",
    "            C.append(grape_export2['수입(중량)'].iloc[x] / 31)\n",
    "            D.append(grape_export2['수입(금액)'].iloc[x] / 31)"
   ]
  },
  {
   "cell_type": "code",
   "execution_count": 310,
   "id": "2d88582a",
   "metadata": {
    "ExecuteTime": {
     "end_time": "2022-10-11T09:11:30.409598Z",
     "start_time": "2022-10-11T09:11:30.394131Z"
    }
   },
   "outputs": [
    {
     "data": {
      "text/html": [
       "<div>\n",
       "<style scoped>\n",
       "    .dataframe tbody tr th:only-of-type {\n",
       "        vertical-align: middle;\n",
       "    }\n",
       "\n",
       "    .dataframe tbody tr th {\n",
       "        vertical-align: top;\n",
       "    }\n",
       "\n",
       "    .dataframe thead th {\n",
       "        text-align: right;\n",
       "    }\n",
       "</style>\n",
       "<table border=\"1\" class=\"dataframe\">\n",
       "  <thead>\n",
       "    <tr style=\"text-align: right;\">\n",
       "      <th></th>\n",
       "      <th>수출(중량)</th>\n",
       "      <th>수출(금액)</th>\n",
       "      <th>수입(중량)</th>\n",
       "      <th>수입(금액)</th>\n",
       "    </tr>\n",
       "  </thead>\n",
       "  <tbody>\n",
       "    <tr>\n",
       "      <th>0</th>\n",
       "      <td>264.680645</td>\n",
       "      <td>728.161290</td>\n",
       "      <td>117936.225806</td>\n",
       "      <td>340002.451613</td>\n",
       "    </tr>\n",
       "    <tr>\n",
       "      <th>1</th>\n",
       "      <td>264.680645</td>\n",
       "      <td>728.161290</td>\n",
       "      <td>117936.225806</td>\n",
       "      <td>340002.451613</td>\n",
       "    </tr>\n",
       "    <tr>\n",
       "      <th>2</th>\n",
       "      <td>264.680645</td>\n",
       "      <td>728.161290</td>\n",
       "      <td>117936.225806</td>\n",
       "      <td>340002.451613</td>\n",
       "    </tr>\n",
       "    <tr>\n",
       "      <th>3</th>\n",
       "      <td>264.680645</td>\n",
       "      <td>728.161290</td>\n",
       "      <td>117936.225806</td>\n",
       "      <td>340002.451613</td>\n",
       "    </tr>\n",
       "    <tr>\n",
       "      <th>4</th>\n",
       "      <td>264.680645</td>\n",
       "      <td>728.161290</td>\n",
       "      <td>117936.225806</td>\n",
       "      <td>340002.451613</td>\n",
       "    </tr>\n",
       "    <tr>\n",
       "      <th>...</th>\n",
       "      <td>...</td>\n",
       "      <td>...</td>\n",
       "      <td>...</td>\n",
       "      <td>...</td>\n",
       "    </tr>\n",
       "    <tr>\n",
       "      <th>1766</th>\n",
       "      <td>1706.212667</td>\n",
       "      <td>28741.315333</td>\n",
       "      <td>22755.312333</td>\n",
       "      <td>67632.875333</td>\n",
       "    </tr>\n",
       "    <tr>\n",
       "      <th>1767</th>\n",
       "      <td>1706.212667</td>\n",
       "      <td>28741.315333</td>\n",
       "      <td>22755.312333</td>\n",
       "      <td>67632.875333</td>\n",
       "    </tr>\n",
       "    <tr>\n",
       "      <th>1768</th>\n",
       "      <td>1706.212667</td>\n",
       "      <td>28741.315333</td>\n",
       "      <td>22755.312333</td>\n",
       "      <td>67632.875333</td>\n",
       "    </tr>\n",
       "    <tr>\n",
       "      <th>1769</th>\n",
       "      <td>1706.212667</td>\n",
       "      <td>28741.315333</td>\n",
       "      <td>22755.312333</td>\n",
       "      <td>67632.875333</td>\n",
       "    </tr>\n",
       "    <tr>\n",
       "      <th>1770</th>\n",
       "      <td>1706.212667</td>\n",
       "      <td>28741.315333</td>\n",
       "      <td>22755.312333</td>\n",
       "      <td>67632.875333</td>\n",
       "    </tr>\n",
       "  </tbody>\n",
       "</table>\n",
       "<p>1771 rows × 4 columns</p>\n",
       "</div>"
      ],
      "text/plain": [
       "           수출(중량)        수출(금액)         수입(중량)         수입(금액)\n",
       "0      264.680645    728.161290  117936.225806  340002.451613\n",
       "1      264.680645    728.161290  117936.225806  340002.451613\n",
       "2      264.680645    728.161290  117936.225806  340002.451613\n",
       "3      264.680645    728.161290  117936.225806  340002.451613\n",
       "4      264.680645    728.161290  117936.225806  340002.451613\n",
       "...           ...           ...            ...            ...\n",
       "1766  1706.212667  28741.315333   22755.312333   67632.875333\n",
       "1767  1706.212667  28741.315333   22755.312333   67632.875333\n",
       "1768  1706.212667  28741.315333   22755.312333   67632.875333\n",
       "1769  1706.212667  28741.315333   22755.312333   67632.875333\n",
       "1770  1706.212667  28741.315333   22755.312333   67632.875333\n",
       "\n",
       "[1771 rows x 4 columns]"
      ]
     },
     "execution_count": 310,
     "metadata": {},
     "output_type": "execute_result"
    }
   ],
   "source": [
    "grape_export2 = pd.DataFrame({'수출(중량)':A,\n",
    "                    '수출(금액)':B,\n",
    "                    '수입(중량)':C,\n",
    "                    '수입(금액)':D})\n",
    "grape_export2"
   ]
  },
  {
   "cell_type": "markdown",
   "id": "58ee2de1",
   "metadata": {},
   "source": [
    "### 재배면적(년단위) (공통-포도)"
   ]
  },
  {
   "cell_type": "code",
   "execution_count": 165,
   "id": "26a72f27",
   "metadata": {
    "ExecuteTime": {
     "end_time": "2022-10-11T07:55:57.278474Z",
     "start_time": "2022-10-11T07:55:57.261342Z"
    }
   },
   "outputs": [
    {
     "data": {
      "text/html": [
       "<div>\n",
       "<style scoped>\n",
       "    .dataframe tbody tr th:only-of-type {\n",
       "        vertical-align: middle;\n",
       "    }\n",
       "\n",
       "    .dataframe tbody tr th {\n",
       "        vertical-align: top;\n",
       "    }\n",
       "\n",
       "    .dataframe thead th {\n",
       "        text-align: right;\n",
       "    }\n",
       "</style>\n",
       "<table border=\"1\" class=\"dataframe\">\n",
       "  <thead>\n",
       "    <tr style=\"text-align: right;\">\n",
       "      <th></th>\n",
       "      <th>년</th>\n",
       "      <th>재배면적(ha)</th>\n",
       "    </tr>\n",
       "  </thead>\n",
       "  <tbody>\n",
       "    <tr>\n",
       "      <th>0</th>\n",
       "      <td>2016</td>\n",
       "      <td>14946</td>\n",
       "    </tr>\n",
       "    <tr>\n",
       "      <th>1</th>\n",
       "      <td>2017</td>\n",
       "      <td>13107</td>\n",
       "    </tr>\n",
       "    <tr>\n",
       "      <th>2</th>\n",
       "      <td>2018</td>\n",
       "      <td>12795</td>\n",
       "    </tr>\n",
       "    <tr>\n",
       "      <th>3</th>\n",
       "      <td>2019</td>\n",
       "      <td>12676</td>\n",
       "    </tr>\n",
       "    <tr>\n",
       "      <th>4</th>\n",
       "      <td>2020</td>\n",
       "      <td>13183</td>\n",
       "    </tr>\n",
       "  </tbody>\n",
       "</table>\n",
       "</div>"
      ],
      "text/plain": [
       "      년  재배면적(ha)\n",
       "0  2016     14946\n",
       "1  2017     13107\n",
       "2  2018     12795\n",
       "3  2019     12676\n",
       "4  2020     13183"
      ]
     },
     "execution_count": 165,
     "metadata": {},
     "output_type": "execute_result"
    }
   ],
   "source": [
    "grape_product = pd.read_csv(grape_path+'재배면적_생산량.csv')\n",
    "grape_product.rename(columns={'년도':'년', '포도:면적(ha)':'재배면적(ha)'},inplace=True)\n",
    "grape_product.drop(columns=['생산량(톤)'],inplace=True)\n",
    "grape_product"
   ]
  },
  {
   "cell_type": "markdown",
   "id": "aabb5668",
   "metadata": {},
   "source": [
    "### 실업률1 - 경제활동인구(월단위, 평균) (공통-포도)"
   ]
  },
  {
   "cell_type": "code",
   "execution_count": 698,
   "id": "f64d3304",
   "metadata": {
    "ExecuteTime": {
     "end_time": "2022-10-12T09:06:58.183607Z",
     "start_time": "2022-10-12T09:06:58.165662Z"
    }
   },
   "outputs": [
    {
     "data": {
      "text/html": [
       "<div>\n",
       "<style scoped>\n",
       "    .dataframe tbody tr th:only-of-type {\n",
       "        vertical-align: middle;\n",
       "    }\n",
       "\n",
       "    .dataframe tbody tr th {\n",
       "        vertical-align: top;\n",
       "    }\n",
       "\n",
       "    .dataframe thead th {\n",
       "        text-align: right;\n",
       "    }\n",
       "</style>\n",
       "<table border=\"1\" class=\"dataframe\">\n",
       "  <thead>\n",
       "    <tr style=\"text-align: right;\">\n",
       "      <th></th>\n",
       "      <th>date</th>\n",
       "      <th>경제활동인구 (천명)</th>\n",
       "      <th>실업률 (%)</th>\n",
       "    </tr>\n",
       "  </thead>\n",
       "  <tbody>\n",
       "    <tr>\n",
       "      <th>0</th>\n",
       "      <td>2016.01</td>\n",
       "      <td>26,631</td>\n",
       "      <td>3.7</td>\n",
       "    </tr>\n",
       "    <tr>\n",
       "      <th>1</th>\n",
       "      <td>2016.02</td>\n",
       "      <td>26,925</td>\n",
       "      <td>4.9</td>\n",
       "    </tr>\n",
       "    <tr>\n",
       "      <th>2</th>\n",
       "      <td>2016.03</td>\n",
       "      <td>27,133</td>\n",
       "      <td>4.2</td>\n",
       "    </tr>\n",
       "    <tr>\n",
       "      <th>3</th>\n",
       "      <td>2016.04</td>\n",
       "      <td>27,398</td>\n",
       "      <td>3.9</td>\n",
       "    </tr>\n",
       "    <tr>\n",
       "      <th>4</th>\n",
       "      <td>2016.05</td>\n",
       "      <td>27,617</td>\n",
       "      <td>3.6</td>\n",
       "    </tr>\n",
       "    <tr>\n",
       "      <th>...</th>\n",
       "      <td>...</td>\n",
       "      <td>...</td>\n",
       "      <td>...</td>\n",
       "    </tr>\n",
       "    <tr>\n",
       "      <th>58</th>\n",
       "      <td>2020.11</td>\n",
       "      <td>28,208</td>\n",
       "      <td>3.4</td>\n",
       "    </tr>\n",
       "    <tr>\n",
       "      <th>59</th>\n",
       "      <td>2021.08</td>\n",
       "      <td>28,346</td>\n",
       "      <td>2.6</td>\n",
       "    </tr>\n",
       "    <tr>\n",
       "      <th>60</th>\n",
       "      <td>2021.09</td>\n",
       "      <td>28,439</td>\n",
       "      <td>2.7</td>\n",
       "    </tr>\n",
       "    <tr>\n",
       "      <th>61</th>\n",
       "      <td>2021.10</td>\n",
       "      <td>28,528</td>\n",
       "      <td>2.8</td>\n",
       "    </tr>\n",
       "    <tr>\n",
       "      <th>62</th>\n",
       "      <td>2021.11</td>\n",
       "      <td>28,528</td>\n",
       "      <td>2.6</td>\n",
       "    </tr>\n",
       "  </tbody>\n",
       "</table>\n",
       "<p>63 rows × 3 columns</p>\n",
       "</div>"
      ],
      "text/plain": [
       "       date 경제활동인구 (천명)  실업률 (%)\n",
       "0   2016.01      26,631      3.7\n",
       "1   2016.02      26,925      4.9\n",
       "2   2016.03      27,133      4.2\n",
       "3   2016.04      27,398      3.9\n",
       "4   2016.05      27,617      3.6\n",
       "..      ...         ...      ...\n",
       "58  2020.11      28,208      3.4\n",
       "59  2021.08      28,346      2.6\n",
       "60  2021.09      28,439      2.7\n",
       "61  2021.10      28,528      2.8\n",
       "62  2021.11      28,528      2.6\n",
       "\n",
       "[63 rows x 3 columns]"
      ]
     },
     "execution_count": 698,
     "metadata": {},
     "output_type": "execute_result"
    }
   ],
   "source": [
    "economy = pd.read_csv(raw_path+'실업률_경제활동인구.csv')\n",
    "economy"
   ]
  },
  {
   "cell_type": "code",
   "execution_count": 699,
   "id": "dd577ed1",
   "metadata": {
    "ExecuteTime": {
     "end_time": "2022-10-12T09:06:58.399457Z",
     "start_time": "2022-10-12T09:06:58.386995Z"
    }
   },
   "outputs": [],
   "source": [
    "economy.drop([59, 60,61,62], inplace=True)\n",
    "economy.replace('(.*),(.*)', r'\\1\\2', regex=True, inplace = True)\n",
    "economy = economy.astype({'경제활동인구 (천명)':'int64', 'date':'str'})\n",
    "economy['경제활동인구'] = economy['경제활동인구 (천명)']*1000 # 1000명 단위 -> 1명 단위로 변환\n",
    "economy.drop(columns=['경제활동인구 (천명)'], inplace=True)"
   ]
  },
  {
   "cell_type": "code",
   "execution_count": 700,
   "id": "b265dbf2",
   "metadata": {
    "ExecuteTime": {
     "end_time": "2022-10-12T09:06:58.937650Z",
     "start_time": "2022-10-12T09:06:58.921956Z"
    }
   },
   "outputs": [],
   "source": [
    "economy2 = economy.copy()\n",
    "\n",
    "economy2['년'] = economy2.date.str.split('.').str[0]\n",
    "economy2['월'] = economy2.date.str.split('.').str[1]\n",
    "economy2['월'].replace('1','10', inplace=True)\n",
    "economy2 = economy2.astype({'년':'int64', '월':'int64'})\n",
    "economy2.drop(columns=['date'], inplace=True)"
   ]
  },
  {
   "cell_type": "code",
   "execution_count": 702,
   "id": "984d25e2",
   "metadata": {
    "ExecuteTime": {
     "end_time": "2022-10-12T09:07:34.251879Z",
     "start_time": "2022-10-12T09:07:34.242251Z"
    }
   },
   "outputs": [
    {
     "name": "stdout",
     "output_type": "stream",
     "text": [
      "(59, 4)\n"
     ]
    },
    {
     "data": {
      "text/html": [
       "<div>\n",
       "<style scoped>\n",
       "    .dataframe tbody tr th:only-of-type {\n",
       "        vertical-align: middle;\n",
       "    }\n",
       "\n",
       "    .dataframe tbody tr th {\n",
       "        vertical-align: top;\n",
       "    }\n",
       "\n",
       "    .dataframe thead th {\n",
       "        text-align: right;\n",
       "    }\n",
       "</style>\n",
       "<table border=\"1\" class=\"dataframe\">\n",
       "  <thead>\n",
       "    <tr style=\"text-align: right;\">\n",
       "      <th></th>\n",
       "      <th>년</th>\n",
       "      <th>월</th>\n",
       "      <th>경제활동인구</th>\n",
       "      <th>실업률 (%)</th>\n",
       "    </tr>\n",
       "  </thead>\n",
       "  <tbody>\n",
       "    <tr>\n",
       "      <th>0</th>\n",
       "      <td>2016</td>\n",
       "      <td>1</td>\n",
       "      <td>26631000</td>\n",
       "      <td>3.7</td>\n",
       "    </tr>\n",
       "    <tr>\n",
       "      <th>1</th>\n",
       "      <td>2016</td>\n",
       "      <td>2</td>\n",
       "      <td>26925000</td>\n",
       "      <td>4.9</td>\n",
       "    </tr>\n",
       "  </tbody>\n",
       "</table>\n",
       "</div>"
      ],
      "text/plain": [
       "      년  월    경제활동인구  실업률 (%)\n",
       "0  2016  1  26631000      3.7\n",
       "1  2016  2  26925000      4.9"
      ]
     },
     "execution_count": 702,
     "metadata": {},
     "output_type": "execute_result"
    }
   ],
   "source": [
    "economy2 = economy2[['년', '월', '경제활동인구','실업률 (%)']]\n",
    "\n",
    "print(economy2.shape)\n",
    "economy2.head(2)"
   ]
  },
  {
   "cell_type": "code",
   "execution_count": 695,
   "id": "3c2dec4f",
   "metadata": {
    "ExecuteTime": {
     "end_time": "2022-10-12T09:06:16.108018Z",
     "start_time": "2022-10-12T09:06:16.061238Z"
    }
   },
   "outputs": [],
   "source": [
    "A = [];B = [];\n",
    "for x in range(59):\n",
    "    if (x == 1) | (x == 49):\n",
    "        for i in range(29):\n",
    "            A.append(economy2['경제활동인구'].iloc[x] / 29)\n",
    "            B.append(economy2['실업률 (%)'].iloc[x] / 29)\n",
    "    elif x in [13, 25, 37]:\n",
    "        for i in range(28):\n",
    "            A.append(economy2['경제활동인구'].iloc[x] / 29)\n",
    "            B.append(economy2['실업률 (%)'].iloc[x] / 29)\n",
    "    elif x in [3,5,8,10, 15,17,20,22, 27,29,32,34, 39,41,44,46, 51,53,56]:\n",
    "        for i in range(30):\n",
    "            A.append(economy2['경제활동인구'].iloc[x] / 29)\n",
    "            B.append(economy2['실업률 (%)'].iloc[x] / 29)\n",
    "    elif x == 58:\n",
    "        for i in range(5):\n",
    "            A.append(economy2['경제활동인구'].iloc[x] / 29)\n",
    "            B.append(economy2['실업률 (%)'].iloc[x] / 29)\n",
    "    else:\n",
    "        for i in range(31):\n",
    "            A.append(economy2['경제활동인구'].iloc[x] / 29)\n",
    "            B.append(economy2['실업률 (%)'].iloc[x] / 29)"
   ]
  },
  {
   "cell_type": "code",
   "execution_count": 711,
   "id": "ad3389bd",
   "metadata": {
    "ExecuteTime": {
     "end_time": "2022-10-12T09:09:13.965480Z",
     "start_time": "2022-10-12T09:09:13.943982Z"
    }
   },
   "outputs": [
    {
     "data": {
      "text/html": [
       "<div>\n",
       "<style scoped>\n",
       "    .dataframe tbody tr th:only-of-type {\n",
       "        vertical-align: middle;\n",
       "    }\n",
       "\n",
       "    .dataframe tbody tr th {\n",
       "        vertical-align: top;\n",
       "    }\n",
       "\n",
       "    .dataframe thead th {\n",
       "        text-align: right;\n",
       "    }\n",
       "</style>\n",
       "<table border=\"1\" class=\"dataframe\">\n",
       "  <thead>\n",
       "    <tr style=\"text-align: right;\">\n",
       "      <th></th>\n",
       "      <th>경제활동인구</th>\n",
       "      <th>실업률 (%)</th>\n",
       "    </tr>\n",
       "  </thead>\n",
       "  <tbody>\n",
       "    <tr>\n",
       "      <th>0</th>\n",
       "      <td>918310</td>\n",
       "      <td>0.13</td>\n",
       "    </tr>\n",
       "    <tr>\n",
       "      <th>1</th>\n",
       "      <td>918310</td>\n",
       "      <td>0.13</td>\n",
       "    </tr>\n",
       "    <tr>\n",
       "      <th>2</th>\n",
       "      <td>918310</td>\n",
       "      <td>0.13</td>\n",
       "    </tr>\n",
       "    <tr>\n",
       "      <th>3</th>\n",
       "      <td>918310</td>\n",
       "      <td>0.13</td>\n",
       "    </tr>\n",
       "    <tr>\n",
       "      <th>4</th>\n",
       "      <td>918310</td>\n",
       "      <td>0.13</td>\n",
       "    </tr>\n",
       "    <tr>\n",
       "      <th>...</th>\n",
       "      <td>...</td>\n",
       "      <td>...</td>\n",
       "    </tr>\n",
       "    <tr>\n",
       "      <th>1766</th>\n",
       "      <td>972689</td>\n",
       "      <td>0.12</td>\n",
       "    </tr>\n",
       "    <tr>\n",
       "      <th>1767</th>\n",
       "      <td>972689</td>\n",
       "      <td>0.12</td>\n",
       "    </tr>\n",
       "    <tr>\n",
       "      <th>1768</th>\n",
       "      <td>972689</td>\n",
       "      <td>0.12</td>\n",
       "    </tr>\n",
       "    <tr>\n",
       "      <th>1769</th>\n",
       "      <td>972689</td>\n",
       "      <td>0.12</td>\n",
       "    </tr>\n",
       "    <tr>\n",
       "      <th>1770</th>\n",
       "      <td>972689</td>\n",
       "      <td>0.12</td>\n",
       "    </tr>\n",
       "  </tbody>\n",
       "</table>\n",
       "<p>1771 rows × 2 columns</p>\n",
       "</div>"
      ],
      "text/plain": [
       "      경제활동인구  실업률 (%)\n",
       "0     918310     0.13\n",
       "1     918310     0.13\n",
       "2     918310     0.13\n",
       "3     918310     0.13\n",
       "4     918310     0.13\n",
       "...      ...      ...\n",
       "1766  972689     0.12\n",
       "1767  972689     0.12\n",
       "1768  972689     0.12\n",
       "1769  972689     0.12\n",
       "1770  972689     0.12\n",
       "\n",
       "[1771 rows x 2 columns]"
      ]
     },
     "execution_count": 711,
     "metadata": {},
     "output_type": "execute_result"
    }
   ],
   "source": [
    "economy3 = pd.DataFrame({'경제활동인구':A,\n",
    "                    '실업률 (%)':B})\n",
    "economy3 = economy3.round(2)\n",
    "economy3 = economy3.astype({'경제활동인구':'int64'})\n",
    "economy3"
   ]
  },
  {
   "cell_type": "markdown",
   "id": "a9da590d",
   "metadata": {},
   "source": [
    "### 실업률2 - 최저시급(년단위) (공통-포도)"
   ]
  },
  {
   "cell_type": "code",
   "execution_count": 747,
   "id": "1fc05ea5",
   "metadata": {
    "ExecuteTime": {
     "end_time": "2022-10-12T10:13:49.940698Z",
     "start_time": "2022-10-12T10:13:49.926965Z"
    }
   },
   "outputs": [
    {
     "data": {
      "text/html": [
       "<div>\n",
       "<style scoped>\n",
       "    .dataframe tbody tr th:only-of-type {\n",
       "        vertical-align: middle;\n",
       "    }\n",
       "\n",
       "    .dataframe tbody tr th {\n",
       "        vertical-align: top;\n",
       "    }\n",
       "\n",
       "    .dataframe thead th {\n",
       "        text-align: right;\n",
       "    }\n",
       "</style>\n",
       "<table border=\"1\" class=\"dataframe\">\n",
       "  <thead>\n",
       "    <tr style=\"text-align: right;\">\n",
       "      <th></th>\n",
       "      <th>년</th>\n",
       "      <th>최저시급</th>\n",
       "    </tr>\n",
       "  </thead>\n",
       "  <tbody>\n",
       "    <tr>\n",
       "      <th>0</th>\n",
       "      <td>2016</td>\n",
       "      <td>6030</td>\n",
       "    </tr>\n",
       "    <tr>\n",
       "      <th>1</th>\n",
       "      <td>2017</td>\n",
       "      <td>6470</td>\n",
       "    </tr>\n",
       "    <tr>\n",
       "      <th>2</th>\n",
       "      <td>2018</td>\n",
       "      <td>7540</td>\n",
       "    </tr>\n",
       "    <tr>\n",
       "      <th>3</th>\n",
       "      <td>2019</td>\n",
       "      <td>8350</td>\n",
       "    </tr>\n",
       "    <tr>\n",
       "      <th>4</th>\n",
       "      <td>2020</td>\n",
       "      <td>8590</td>\n",
       "    </tr>\n",
       "  </tbody>\n",
       "</table>\n",
       "</div>"
      ],
      "text/plain": [
       "      년  최저시급\n",
       "0  2016  6030\n",
       "1  2017  6470\n",
       "2  2018  7540\n",
       "3  2019  8350\n",
       "4  2020  8590"
      ]
     },
     "execution_count": 747,
     "metadata": {},
     "output_type": "execute_result"
    }
   ],
   "source": [
    "hourly_wage = pd.read_csv(raw_path+'최저시급.csv')\n",
    "hourly_wage.rename(columns={'년도':'년'}, inplace=True)\n",
    "hourly_wage"
   ]
  },
  {
   "cell_type": "markdown",
   "id": "ae88689a",
   "metadata": {},
   "source": [
    "----"
   ]
  },
  {
   "cell_type": "markdown",
   "id": "5cbeb3b3",
   "metadata": {},
   "source": [
    "## 캠벨얼리 외부데이터 합치기 (grape2)\n",
    ">거래량, 가격, 자동차용경유, 소비자 물가 지수 = (grape) <br>\n",
    "'+' 날씨(weather2), 수출입(grape_export2), 재배면적(grape_product), 샤인머스켓 거래량(shihemuscat)), 실업률_경제활동인구(econmy3), 최저시급<br>\n",
    "weather2 => 남원, 영천, 수원, 거창, 구미\n",
    "\n",
    "최종 프레임 > grape!"
   ]
  },
  {
   "cell_type": "code",
   "execution_count": 753,
   "id": "e587df87",
   "metadata": {
    "ExecuteTime": {
     "end_time": "2022-10-12T10:16:28.602624Z",
     "start_time": "2022-10-12T10:16:28.577879Z"
    }
   },
   "outputs": [
    {
     "name": "stdout",
     "output_type": "stream",
     "text": [
      "(1770, 6)\n",
      "(1770, 13)\n"
     ]
    }
   ],
   "source": [
    "grape = pd.concat([grape, product],axis = 1)\n",
    "grape = pd.concat([grape, oil],axis = 1)\n",
    "\n",
    "grape.drop(columns=[ '고급휘발유','보통휘발유','실내등유','구분'],inplace=True)\n",
    "grape.drop([1770], inplace=True)\n",
    "\n",
    "shinemuscat_product = shinemuscat.iloc[:,2:3]\n",
    "\n",
    "grape2 = pd.merge(grape, weather2)\n",
    "grape2.head(2)\n",
    "\n",
    "grape2.date = pd.to_datetime(grape2.date)\n",
    "# grape2 = pd.concat([grape2, pd.get_dummies(grape2['요일'])], axis = 1)\n",
    "grape2['년'] = grape2['date'].dt.year \n",
    "grape2['월'] = grape2['date'].dt.month \n",
    "\n",
    "print(grape.shape)\n",
    "\n",
    "grape2 = pd.concat([grape2, shinemuscat_product],axis = 1)\n",
    "\n",
    "print(grape2.shape)"
   ]
  },
  {
   "cell_type": "code",
   "execution_count": 755,
   "id": "772b84d0",
   "metadata": {
    "ExecuteTime": {
     "end_time": "2022-10-12T10:16:36.237687Z",
     "start_time": "2022-10-12T10:16:36.233032Z"
    }
   },
   "outputs": [
    {
     "data": {
      "text/plain": [
       "Index(['date', '요일', '캠벨얼리_거래량(kg)', '캠벨얼리_가격(원/kg)', '소비자물가지수', '자동차용경유',\n",
       "       '재배지역_평균기온', '재배지역_평균운량', '재배지역_일강수량', '재배지역_일교차', '년', '월',\n",
       "       '샤인마스캇_거래량(kg)'],\n",
       "      dtype='object')"
      ]
     },
     "execution_count": 755,
     "metadata": {},
     "output_type": "execute_result"
    }
   ],
   "source": [
    "grape2.columns"
   ]
  },
  {
   "cell_type": "code",
   "execution_count": 756,
   "id": "5ce1e4e9",
   "metadata": {
    "ExecuteTime": {
     "end_time": "2022-10-12T10:16:37.610921Z",
     "start_time": "2022-10-12T10:16:37.576592Z"
    }
   },
   "outputs": [
    {
     "data": {
      "text/html": [
       "<div>\n",
       "<style scoped>\n",
       "    .dataframe tbody tr th:only-of-type {\n",
       "        vertical-align: middle;\n",
       "    }\n",
       "\n",
       "    .dataframe tbody tr th {\n",
       "        vertical-align: top;\n",
       "    }\n",
       "\n",
       "    .dataframe thead th {\n",
       "        text-align: right;\n",
       "    }\n",
       "</style>\n",
       "<table border=\"1\" class=\"dataframe\">\n",
       "  <thead>\n",
       "    <tr style=\"text-align: right;\">\n",
       "      <th></th>\n",
       "      <th>date</th>\n",
       "      <th>요일</th>\n",
       "      <th>캠벨얼리_거래량(kg)</th>\n",
       "      <th>캠벨얼리_가격(원/kg)</th>\n",
       "      <th>소비자물가지수</th>\n",
       "      <th>자동차용경유</th>\n",
       "      <th>재배지역_평균기온</th>\n",
       "      <th>재배지역_평균운량</th>\n",
       "      <th>재배지역_일강수량</th>\n",
       "      <th>재배지역_일교차</th>\n",
       "      <th>...</th>\n",
       "      <th>월</th>\n",
       "      <th>샤인마스캇_거래량(kg)</th>\n",
       "      <th>수출(중량)</th>\n",
       "      <th>수출(금액)</th>\n",
       "      <th>수입(중량)</th>\n",
       "      <th>수입(금액)</th>\n",
       "      <th>재배면적(ha)</th>\n",
       "      <th>최저시급</th>\n",
       "      <th>경제활동인구</th>\n",
       "      <th>실업률 (%)</th>\n",
       "    </tr>\n",
       "  </thead>\n",
       "  <tbody>\n",
       "    <tr>\n",
       "      <th>0</th>\n",
       "      <td>2016-01-01</td>\n",
       "      <td>금요일</td>\n",
       "      <td>0.0</td>\n",
       "      <td>0.0</td>\n",
       "      <td>95.232</td>\n",
       "      <td>1188.71</td>\n",
       "      <td>0.30</td>\n",
       "      <td>1.11</td>\n",
       "      <td>0.0</td>\n",
       "      <td>12.05</td>\n",
       "      <td>...</td>\n",
       "      <td>1.0</td>\n",
       "      <td>0.0</td>\n",
       "      <td>264.680645</td>\n",
       "      <td>728.16129</td>\n",
       "      <td>117936.225806</td>\n",
       "      <td>340002.451613</td>\n",
       "      <td>14946.0</td>\n",
       "      <td>6030.0</td>\n",
       "      <td>918310</td>\n",
       "      <td>0.13</td>\n",
       "    </tr>\n",
       "    <tr>\n",
       "      <th>1</th>\n",
       "      <td>2016-01-02</td>\n",
       "      <td>토요일</td>\n",
       "      <td>880.0</td>\n",
       "      <td>2014.0</td>\n",
       "      <td>95.232</td>\n",
       "      <td>1187.91</td>\n",
       "      <td>3.61</td>\n",
       "      <td>1.31</td>\n",
       "      <td>0.0</td>\n",
       "      <td>13.11</td>\n",
       "      <td>...</td>\n",
       "      <td>1.0</td>\n",
       "      <td>0.0</td>\n",
       "      <td>264.680645</td>\n",
       "      <td>728.16129</td>\n",
       "      <td>117936.225806</td>\n",
       "      <td>340002.451613</td>\n",
       "      <td>14946.0</td>\n",
       "      <td>6030.0</td>\n",
       "      <td>918310</td>\n",
       "      <td>0.13</td>\n",
       "    </tr>\n",
       "  </tbody>\n",
       "</table>\n",
       "<p>2 rows × 21 columns</p>\n",
       "</div>"
      ],
      "text/plain": [
       "        date   요일  캠벨얼리_거래량(kg)  캠벨얼리_가격(원/kg)  소비자물가지수   자동차용경유  재배지역_평균기온  \\\n",
       "0 2016-01-01  금요일           0.0            0.0   95.232  1188.71       0.30   \n",
       "1 2016-01-02  토요일         880.0         2014.0   95.232  1187.91       3.61   \n",
       "\n",
       "   재배지역_평균운량  재배지역_일강수량  재배지역_일교차  ...    월  샤인마스캇_거래량(kg)      수출(중량)  \\\n",
       "0       1.11        0.0     12.05  ...  1.0            0.0  264.680645   \n",
       "1       1.31        0.0     13.11  ...  1.0            0.0  264.680645   \n",
       "\n",
       "      수출(금액)         수입(중량)         수입(금액)  재배면적(ha)    최저시급  경제활동인구  실업률 (%)  \n",
       "0  728.16129  117936.225806  340002.451613   14946.0  6030.0  918310     0.13  \n",
       "1  728.16129  117936.225806  340002.451613   14946.0  6030.0  918310     0.13  \n",
       "\n",
       "[2 rows x 21 columns]"
      ]
     },
     "execution_count": 756,
     "metadata": {},
     "output_type": "execute_result"
    }
   ],
   "source": [
    "# # 수출입 데이터 합치기\n",
    "grape2 = pd.concat([grape2, grape_export2],axis = 1)\n",
    "\n",
    "# # 재배면적 데이터 합치기\n",
    "grape2 = pd.merge(grape2, grape_product, on=['년'])\n",
    "\n",
    "# 최저시급 데이터 합치기\n",
    "grape2 = pd.merge(grape2, hourly_wage, on = ['년'])\n",
    "\n",
    "# 실업률 데이터 합치기\n",
    "grape2 = pd.concat([grape2, economy3], axis = 1)\n",
    "\n",
    "grape2.head(2)"
   ]
  },
  {
   "cell_type": "code",
   "execution_count": 761,
   "id": "d22a3146",
   "metadata": {
    "ExecuteTime": {
     "end_time": "2022-10-12T10:17:58.058334Z",
     "start_time": "2022-10-12T10:17:58.054225Z"
    }
   },
   "outputs": [],
   "source": [
    "grape2.drop(columns=['년', '월'], inplace=True)\n",
    "grape2.drop([1770], inplace=True)"
   ]
  },
  {
   "cell_type": "code",
   "execution_count": 762,
   "id": "af749d01",
   "metadata": {
    "ExecuteTime": {
     "end_time": "2022-10-12T10:18:00.502632Z",
     "start_time": "2022-10-12T10:18:00.490234Z"
    }
   },
   "outputs": [
    {
     "name": "stdout",
     "output_type": "stream",
     "text": [
      "<class 'pandas.core.frame.DataFrame'>\n",
      "Int64Index: 1770 entries, 0 to 1769\n",
      "Data columns (total 19 columns):\n",
      " #   Column         Non-Null Count  Dtype         \n",
      "---  ------         --------------  -----         \n",
      " 0   date           1770 non-null   datetime64[ns]\n",
      " 1   요일             1770 non-null   object        \n",
      " 2   캠벨얼리_거래량(kg)   1770 non-null   float64       \n",
      " 3   캠벨얼리_가격(원/kg)  1770 non-null   float64       \n",
      " 4   소비자물가지수        1770 non-null   float64       \n",
      " 5   자동차용경유         1770 non-null   float64       \n",
      " 6   재배지역_평균기온      1770 non-null   float64       \n",
      " 7   재배지역_평균운량      1770 non-null   float64       \n",
      " 8   재배지역_일강수량      1770 non-null   float64       \n",
      " 9   재배지역_일교차       1770 non-null   float64       \n",
      " 10  샤인마스캇_거래량(kg)  1770 non-null   float64       \n",
      " 11  수출(중량)         1770 non-null   float64       \n",
      " 12  수출(금액)         1770 non-null   float64       \n",
      " 13  수입(중량)         1770 non-null   float64       \n",
      " 14  수입(금액)         1770 non-null   float64       \n",
      " 15  재배면적(ha)       1770 non-null   float64       \n",
      " 16  최저시급           1770 non-null   float64       \n",
      " 17  경제활동인구         1770 non-null   int64         \n",
      " 18  실업률 (%)        1770 non-null   float64       \n",
      "dtypes: datetime64[ns](1), float64(16), int64(1), object(1)\n",
      "memory usage: 276.6+ KB\n"
     ]
    }
   ],
   "source": [
    "grape2.info()"
   ]
  },
  {
   "cell_type": "code",
   "execution_count": 763,
   "id": "e159f4fc",
   "metadata": {
    "ExecuteTime": {
     "end_time": "2022-10-12T10:18:02.411660Z",
     "start_time": "2022-10-12T10:18:02.379862Z"
    },
    "scrolled": false
   },
   "outputs": [
    {
     "data": {
      "text/html": [
       "<div>\n",
       "<style scoped>\n",
       "    .dataframe tbody tr th:only-of-type {\n",
       "        vertical-align: middle;\n",
       "    }\n",
       "\n",
       "    .dataframe tbody tr th {\n",
       "        vertical-align: top;\n",
       "    }\n",
       "\n",
       "    .dataframe thead th {\n",
       "        text-align: right;\n",
       "    }\n",
       "</style>\n",
       "<table border=\"1\" class=\"dataframe\">\n",
       "  <thead>\n",
       "    <tr style=\"text-align: right;\">\n",
       "      <th></th>\n",
       "      <th>date</th>\n",
       "      <th>요일</th>\n",
       "      <th>캠벨얼리_거래량(kg)</th>\n",
       "      <th>캠벨얼리_가격(원/kg)</th>\n",
       "      <th>소비자물가지수</th>\n",
       "      <th>자동차용경유</th>\n",
       "      <th>재배지역_평균기온</th>\n",
       "      <th>재배지역_평균운량</th>\n",
       "      <th>재배지역_일강수량</th>\n",
       "      <th>재배지역_일교차</th>\n",
       "      <th>샤인마스캇_거래량(kg)</th>\n",
       "      <th>수출(중량)</th>\n",
       "      <th>수출(금액)</th>\n",
       "      <th>수입(중량)</th>\n",
       "      <th>수입(금액)</th>\n",
       "      <th>재배면적(ha)</th>\n",
       "      <th>최저시급</th>\n",
       "      <th>경제활동인구</th>\n",
       "      <th>실업률 (%)</th>\n",
       "    </tr>\n",
       "  </thead>\n",
       "  <tbody>\n",
       "    <tr>\n",
       "      <th>0</th>\n",
       "      <td>2016-01-01</td>\n",
       "      <td>금요일</td>\n",
       "      <td>0.0</td>\n",
       "      <td>0.0</td>\n",
       "      <td>95.232</td>\n",
       "      <td>1188.71</td>\n",
       "      <td>0.30</td>\n",
       "      <td>1.11</td>\n",
       "      <td>0.00</td>\n",
       "      <td>12.05</td>\n",
       "      <td>0.0</td>\n",
       "      <td>264.680645</td>\n",
       "      <td>728.161290</td>\n",
       "      <td>117936.225806</td>\n",
       "      <td>340002.451613</td>\n",
       "      <td>14946.0</td>\n",
       "      <td>6030.0</td>\n",
       "      <td>918310</td>\n",
       "      <td>0.13</td>\n",
       "    </tr>\n",
       "    <tr>\n",
       "      <th>1</th>\n",
       "      <td>2016-01-02</td>\n",
       "      <td>토요일</td>\n",
       "      <td>880.0</td>\n",
       "      <td>2014.0</td>\n",
       "      <td>95.232</td>\n",
       "      <td>1187.91</td>\n",
       "      <td>3.61</td>\n",
       "      <td>1.31</td>\n",
       "      <td>0.00</td>\n",
       "      <td>13.11</td>\n",
       "      <td>0.0</td>\n",
       "      <td>264.680645</td>\n",
       "      <td>728.161290</td>\n",
       "      <td>117936.225806</td>\n",
       "      <td>340002.451613</td>\n",
       "      <td>14946.0</td>\n",
       "      <td>6030.0</td>\n",
       "      <td>918310</td>\n",
       "      <td>0.13</td>\n",
       "    </tr>\n",
       "    <tr>\n",
       "      <th>2</th>\n",
       "      <td>2016-01-03</td>\n",
       "      <td>일요일</td>\n",
       "      <td>0.0</td>\n",
       "      <td>0.0</td>\n",
       "      <td>95.232</td>\n",
       "      <td>1187.10</td>\n",
       "      <td>4.66</td>\n",
       "      <td>1.54</td>\n",
       "      <td>0.00</td>\n",
       "      <td>13.80</td>\n",
       "      <td>0.0</td>\n",
       "      <td>264.680645</td>\n",
       "      <td>728.161290</td>\n",
       "      <td>117936.225806</td>\n",
       "      <td>340002.451613</td>\n",
       "      <td>14946.0</td>\n",
       "      <td>6030.0</td>\n",
       "      <td>918310</td>\n",
       "      <td>0.13</td>\n",
       "    </tr>\n",
       "    <tr>\n",
       "      <th>3</th>\n",
       "      <td>2016-01-04</td>\n",
       "      <td>월요일</td>\n",
       "      <td>2703.8</td>\n",
       "      <td>3885.0</td>\n",
       "      <td>95.232</td>\n",
       "      <td>1185.85</td>\n",
       "      <td>4.72</td>\n",
       "      <td>0.92</td>\n",
       "      <td>0.00</td>\n",
       "      <td>10.44</td>\n",
       "      <td>0.0</td>\n",
       "      <td>264.680645</td>\n",
       "      <td>728.161290</td>\n",
       "      <td>117936.225806</td>\n",
       "      <td>340002.451613</td>\n",
       "      <td>14946.0</td>\n",
       "      <td>6030.0</td>\n",
       "      <td>918310</td>\n",
       "      <td>0.13</td>\n",
       "    </tr>\n",
       "    <tr>\n",
       "      <th>4</th>\n",
       "      <td>2016-01-05</td>\n",
       "      <td>화요일</td>\n",
       "      <td>8810.0</td>\n",
       "      <td>2853.0</td>\n",
       "      <td>95.232</td>\n",
       "      <td>1184.01</td>\n",
       "      <td>0.14</td>\n",
       "      <td>0.68</td>\n",
       "      <td>0.00</td>\n",
       "      <td>7.07</td>\n",
       "      <td>0.0</td>\n",
       "      <td>264.680645</td>\n",
       "      <td>728.161290</td>\n",
       "      <td>117936.225806</td>\n",
       "      <td>340002.451613</td>\n",
       "      <td>14946.0</td>\n",
       "      <td>6030.0</td>\n",
       "      <td>918310</td>\n",
       "      <td>0.13</td>\n",
       "    </tr>\n",
       "    <tr>\n",
       "      <th>...</th>\n",
       "      <td>...</td>\n",
       "      <td>...</td>\n",
       "      <td>...</td>\n",
       "      <td>...</td>\n",
       "      <td>...</td>\n",
       "      <td>...</td>\n",
       "      <td>...</td>\n",
       "      <td>...</td>\n",
       "      <td>...</td>\n",
       "      <td>...</td>\n",
       "      <td>...</td>\n",
       "      <td>...</td>\n",
       "      <td>...</td>\n",
       "      <td>...</td>\n",
       "      <td>...</td>\n",
       "      <td>...</td>\n",
       "      <td>...</td>\n",
       "      <td>...</td>\n",
       "      <td>...</td>\n",
       "    </tr>\n",
       "    <tr>\n",
       "      <th>1765</th>\n",
       "      <td>2020-10-31</td>\n",
       "      <td>토요일</td>\n",
       "      <td>34392.5</td>\n",
       "      <td>2920.0</td>\n",
       "      <td>100.180</td>\n",
       "      <td>1125.45</td>\n",
       "      <td>10.93</td>\n",
       "      <td>4.46</td>\n",
       "      <td>0.00</td>\n",
       "      <td>14.47</td>\n",
       "      <td>111721.4</td>\n",
       "      <td>8785.570968</td>\n",
       "      <td>133799.032258</td>\n",
       "      <td>199894.774194</td>\n",
       "      <td>600716.258065</td>\n",
       "      <td>13183.0</td>\n",
       "      <td>8590.0</td>\n",
       "      <td>969517</td>\n",
       "      <td>0.13</td>\n",
       "    </tr>\n",
       "    <tr>\n",
       "      <th>1766</th>\n",
       "      <td>2020-11-01</td>\n",
       "      <td>일요일</td>\n",
       "      <td>0.0</td>\n",
       "      <td>0.0</td>\n",
       "      <td>100.090</td>\n",
       "      <td>1124.51</td>\n",
       "      <td>11.45</td>\n",
       "      <td>9.87</td>\n",
       "      <td>4.16</td>\n",
       "      <td>3.28</td>\n",
       "      <td>0.0</td>\n",
       "      <td>1706.212667</td>\n",
       "      <td>28741.315333</td>\n",
       "      <td>22755.312333</td>\n",
       "      <td>67632.875333</td>\n",
       "      <td>13183.0</td>\n",
       "      <td>8590.0</td>\n",
       "      <td>972689</td>\n",
       "      <td>0.12</td>\n",
       "    </tr>\n",
       "    <tr>\n",
       "      <th>1767</th>\n",
       "      <td>2020-11-02</td>\n",
       "      <td>월요일</td>\n",
       "      <td>37043.4</td>\n",
       "      <td>3039.0</td>\n",
       "      <td>100.090</td>\n",
       "      <td>1123.70</td>\n",
       "      <td>10.95</td>\n",
       "      <td>4.74</td>\n",
       "      <td>0.12</td>\n",
       "      <td>13.15</td>\n",
       "      <td>88354.3</td>\n",
       "      <td>1706.212667</td>\n",
       "      <td>28741.315333</td>\n",
       "      <td>22755.312333</td>\n",
       "      <td>67632.875333</td>\n",
       "      <td>13183.0</td>\n",
       "      <td>8590.0</td>\n",
       "      <td>972689</td>\n",
       "      <td>0.12</td>\n",
       "    </tr>\n",
       "    <tr>\n",
       "      <th>1768</th>\n",
       "      <td>2020-11-03</td>\n",
       "      <td>화요일</td>\n",
       "      <td>30158.5</td>\n",
       "      <td>3153.0</td>\n",
       "      <td>100.090</td>\n",
       "      <td>1122.34</td>\n",
       "      <td>6.08</td>\n",
       "      <td>2.56</td>\n",
       "      <td>0.41</td>\n",
       "      <td>8.60</td>\n",
       "      <td>84795.0</td>\n",
       "      <td>1706.212667</td>\n",
       "      <td>28741.315333</td>\n",
       "      <td>22755.312333</td>\n",
       "      <td>67632.875333</td>\n",
       "      <td>13183.0</td>\n",
       "      <td>8590.0</td>\n",
       "      <td>972689</td>\n",
       "      <td>0.12</td>\n",
       "    </tr>\n",
       "    <tr>\n",
       "      <th>1769</th>\n",
       "      <td>2020-11-04</td>\n",
       "      <td>수요일</td>\n",
       "      <td>26930.0</td>\n",
       "      <td>3171.0</td>\n",
       "      <td>100.090</td>\n",
       "      <td>1121.22</td>\n",
       "      <td>4.65</td>\n",
       "      <td>0.22</td>\n",
       "      <td>0.00</td>\n",
       "      <td>12.64</td>\n",
       "      <td>74970.5</td>\n",
       "      <td>1706.212667</td>\n",
       "      <td>28741.315333</td>\n",
       "      <td>22755.312333</td>\n",
       "      <td>67632.875333</td>\n",
       "      <td>13183.0</td>\n",
       "      <td>8590.0</td>\n",
       "      <td>972689</td>\n",
       "      <td>0.12</td>\n",
       "    </tr>\n",
       "  </tbody>\n",
       "</table>\n",
       "<p>1770 rows × 19 columns</p>\n",
       "</div>"
      ],
      "text/plain": [
       "           date   요일  캠벨얼리_거래량(kg)  캠벨얼리_가격(원/kg)  소비자물가지수   자동차용경유  \\\n",
       "0    2016-01-01  금요일           0.0            0.0   95.232  1188.71   \n",
       "1    2016-01-02  토요일         880.0         2014.0   95.232  1187.91   \n",
       "2    2016-01-03  일요일           0.0            0.0   95.232  1187.10   \n",
       "3    2016-01-04  월요일        2703.8         3885.0   95.232  1185.85   \n",
       "4    2016-01-05  화요일        8810.0         2853.0   95.232  1184.01   \n",
       "...         ...  ...           ...            ...      ...      ...   \n",
       "1765 2020-10-31  토요일       34392.5         2920.0  100.180  1125.45   \n",
       "1766 2020-11-01  일요일           0.0            0.0  100.090  1124.51   \n",
       "1767 2020-11-02  월요일       37043.4         3039.0  100.090  1123.70   \n",
       "1768 2020-11-03  화요일       30158.5         3153.0  100.090  1122.34   \n",
       "1769 2020-11-04  수요일       26930.0         3171.0  100.090  1121.22   \n",
       "\n",
       "      재배지역_평균기온  재배지역_평균운량  재배지역_일강수량  재배지역_일교차  샤인마스캇_거래량(kg)       수출(중량)  \\\n",
       "0          0.30       1.11       0.00     12.05            0.0   264.680645   \n",
       "1          3.61       1.31       0.00     13.11            0.0   264.680645   \n",
       "2          4.66       1.54       0.00     13.80            0.0   264.680645   \n",
       "3          4.72       0.92       0.00     10.44            0.0   264.680645   \n",
       "4          0.14       0.68       0.00      7.07            0.0   264.680645   \n",
       "...         ...        ...        ...       ...            ...          ...   \n",
       "1765      10.93       4.46       0.00     14.47       111721.4  8785.570968   \n",
       "1766      11.45       9.87       4.16      3.28            0.0  1706.212667   \n",
       "1767      10.95       4.74       0.12     13.15        88354.3  1706.212667   \n",
       "1768       6.08       2.56       0.41      8.60        84795.0  1706.212667   \n",
       "1769       4.65       0.22       0.00     12.64        74970.5  1706.212667   \n",
       "\n",
       "             수출(금액)         수입(중량)         수입(금액)  재배면적(ha)    최저시급  경제활동인구  \\\n",
       "0        728.161290  117936.225806  340002.451613   14946.0  6030.0  918310   \n",
       "1        728.161290  117936.225806  340002.451613   14946.0  6030.0  918310   \n",
       "2        728.161290  117936.225806  340002.451613   14946.0  6030.0  918310   \n",
       "3        728.161290  117936.225806  340002.451613   14946.0  6030.0  918310   \n",
       "4        728.161290  117936.225806  340002.451613   14946.0  6030.0  918310   \n",
       "...             ...            ...            ...       ...     ...     ...   \n",
       "1765  133799.032258  199894.774194  600716.258065   13183.0  8590.0  969517   \n",
       "1766   28741.315333   22755.312333   67632.875333   13183.0  8590.0  972689   \n",
       "1767   28741.315333   22755.312333   67632.875333   13183.0  8590.0  972689   \n",
       "1768   28741.315333   22755.312333   67632.875333   13183.0  8590.0  972689   \n",
       "1769   28741.315333   22755.312333   67632.875333   13183.0  8590.0  972689   \n",
       "\n",
       "      실업률 (%)  \n",
       "0        0.13  \n",
       "1        0.13  \n",
       "2        0.13  \n",
       "3        0.13  \n",
       "4        0.13  \n",
       "...       ...  \n",
       "1765     0.13  \n",
       "1766     0.12  \n",
       "1767     0.12  \n",
       "1768     0.12  \n",
       "1769     0.12  \n",
       "\n",
       "[1770 rows x 19 columns]"
      ]
     },
     "execution_count": 763,
     "metadata": {},
     "output_type": "execute_result"
    }
   ],
   "source": [
    "grape2"
   ]
  },
  {
   "cell_type": "code",
   "execution_count": 765,
   "id": "78c05625",
   "metadata": {
    "ExecuteTime": {
     "end_time": "2022-10-12T10:19:25.406470Z",
     "start_time": "2022-10-12T10:19:25.353732Z"
    }
   },
   "outputs": [],
   "source": [
    "# grape2.to_csv(processed_path+'grape_실업률추가.csv', index = 0)"
   ]
  },
  {
   "cell_type": "code",
   "execution_count": 326,
   "id": "da6754d4",
   "metadata": {
    "ExecuteTime": {
     "end_time": "2022-10-12T02:35:07.529864Z",
     "start_time": "2022-10-12T02:35:07.514479Z"
    }
   },
   "outputs": [],
   "source": [
    "# weather2.to_csv(processed_path+'grape_weather.csv', index=0)"
   ]
  },
  {
   "cell_type": "markdown",
   "id": "fc4d0219",
   "metadata": {},
   "source": [
    "----"
   ]
  },
  {
   "cell_type": "markdown",
   "id": "86fd5c26",
   "metadata": {},
   "source": [
    "# 샤인머스켓 외부데이터 불러오기 및 전처리\n",
    "**날씨 데이터 지역 비율 >>> <br>\n",
    "구미_날씨(김천) = 71.8%, 영천_날씨 = 20.3%, 금산_날씨(영동) = 7.9%**\n",
    "\n",
    "거래량, 가격, 자동차용경유, 소비자 물가 지수, 날씨(4개-평균기온, 평균온량, 일강수량, 일교차), 수출입(4개), 재배면적, 블루베리 거래량(워드클라우드), 실업률_경제활동인구, 최저시급"
   ]
  },
  {
   "cell_type": "markdown",
   "id": "a7f8e00d",
   "metadata": {},
   "source": [
    "### 날씨 데이터 가져오기 및 전처리  \n",
    "=> 구미, 영천, 금산"
   ]
  },
  {
   "cell_type": "code",
   "execution_count": 784,
   "id": "dd53c725",
   "metadata": {
    "ExecuteTime": {
     "end_time": "2022-10-12T10:24:22.080915Z",
     "start_time": "2022-10-12T10:24:22.054096Z"
    }
   },
   "outputs": [],
   "source": [
    "gumi = pd.read_csv(shinemuscat_path+'구미_날씨.csv', index_col=0)\n",
    "yeongcheon = pd.read_csv(shinemuscat_path+'영천_날씨.csv', index_col=0)\n",
    "geumsan = pd.read_csv(shinemuscat_path+'금산_날씨.csv', index_col=0)"
   ]
  },
  {
   "cell_type": "code",
   "execution_count": 785,
   "id": "3fe3813a",
   "metadata": {
    "ExecuteTime": {
     "end_time": "2022-10-12T10:24:22.251075Z",
     "start_time": "2022-10-12T10:24:22.240956Z"
    }
   },
   "outputs": [],
   "source": [
    "# 상관계수가 높아서 drop -> 평균기온 & 일교차 대체 사용\n",
    "\n",
    "gumi.drop(columns=['최고기온', '최저기온'],inplace=True)\n",
    "geumsan.drop(columns=['최고기온', '최저기온'],inplace=True)\n",
    "yeongcheon.drop(columns=['최고기온', '최저기온'],inplace=True)"
   ]
  },
  {
   "cell_type": "code",
   "execution_count": 786,
   "id": "c10a5a00",
   "metadata": {
    "ExecuteTime": {
     "end_time": "2022-10-12T10:24:22.393411Z",
     "start_time": "2022-10-12T10:24:22.385940Z"
    }
   },
   "outputs": [],
   "source": [
    "# 컬럼 이름 바꿈\n",
    "\n",
    "gumi.rename(columns={'평균기온':'구미_평균기온','평균운량':'구미_평균운량','일강수량':'구미_일강수량','일교차':'구미_일교차'}, inplace=True)\n",
    "geumsan.rename(columns={'평균기온':'금산_평균기온','평균운량':'금산_평균운량','일강수량':'금산_일강수량','일교차':'금산_일교차'}, inplace=True)\n",
    "yeongcheon.rename(columns={'평균기온':'영천_평균기온','평균운량':'영천_평균운량','일강수량':'영천_일강수량','일교차':'영천_일교차'}, inplace=True)"
   ]
  },
  {
   "cell_type": "code",
   "execution_count": 787,
   "id": "4947e378",
   "metadata": {
    "ExecuteTime": {
     "end_time": "2022-10-12T10:24:22.558446Z",
     "start_time": "2022-10-12T10:24:22.531015Z"
    }
   },
   "outputs": [
    {
     "name": "stdout",
     "output_type": "stream",
     "text": [
      "(1771, 25)\n"
     ]
    },
    {
     "data": {
      "text/html": [
       "<div>\n",
       "<style scoped>\n",
       "    .dataframe tbody tr th:only-of-type {\n",
       "        vertical-align: middle;\n",
       "    }\n",
       "\n",
       "    .dataframe tbody tr th {\n",
       "        vertical-align: top;\n",
       "    }\n",
       "\n",
       "    .dataframe thead th {\n",
       "        text-align: right;\n",
       "    }\n",
       "</style>\n",
       "<table border=\"1\" class=\"dataframe\">\n",
       "  <thead>\n",
       "    <tr style=\"text-align: right;\">\n",
       "      <th></th>\n",
       "      <th>날짜</th>\n",
       "      <th>구미_평균기온</th>\n",
       "      <th>구미_평균운량</th>\n",
       "      <th>구미_일강수량</th>\n",
       "      <th>구미_일교차</th>\n",
       "      <th>남원_평균기온</th>\n",
       "      <th>남원_평균운량</th>\n",
       "      <th>남원_일강수량</th>\n",
       "      <th>남원_일교차</th>\n",
       "      <th>수원_평균기온</th>\n",
       "      <th>...</th>\n",
       "      <th>금산_일강수량</th>\n",
       "      <th>금산_일교차</th>\n",
       "      <th>거창_평균기온</th>\n",
       "      <th>거창_평균운량</th>\n",
       "      <th>거창_일강수량</th>\n",
       "      <th>거창_일교차</th>\n",
       "      <th>영천_평균기온</th>\n",
       "      <th>영천_평균운량</th>\n",
       "      <th>영천_일강수량</th>\n",
       "      <th>영천_일교차</th>\n",
       "    </tr>\n",
       "  </thead>\n",
       "  <tbody>\n",
       "    <tr>\n",
       "      <th>0</th>\n",
       "      <td>2016년 1월 1일</td>\n",
       "      <td>0.4</td>\n",
       "      <td>0.0</td>\n",
       "      <td>0.0</td>\n",
       "      <td>13.0</td>\n",
       "      <td>0.0</td>\n",
       "      <td>0.0</td>\n",
       "      <td>0.0</td>\n",
       "      <td>11.8</td>\n",
       "      <td>1.6</td>\n",
       "      <td>...</td>\n",
       "      <td>0.0</td>\n",
       "      <td>11.9</td>\n",
       "      <td>-1.1</td>\n",
       "      <td>0.0</td>\n",
       "      <td>0.0</td>\n",
       "      <td>16.5</td>\n",
       "      <td>1.3</td>\n",
       "      <td>0.0</td>\n",
       "      <td>0.0</td>\n",
       "      <td>15.4</td>\n",
       "    </tr>\n",
       "    <tr>\n",
       "      <th>1</th>\n",
       "      <td>2016년 1월 2일</td>\n",
       "      <td>2.1</td>\n",
       "      <td>0.0</td>\n",
       "      <td>0.0</td>\n",
       "      <td>13.6</td>\n",
       "      <td>3.5</td>\n",
       "      <td>0.0</td>\n",
       "      <td>0.0</td>\n",
       "      <td>14.2</td>\n",
       "      <td>5.8</td>\n",
       "      <td>...</td>\n",
       "      <td>0.0</td>\n",
       "      <td>13.8</td>\n",
       "      <td>1.4</td>\n",
       "      <td>0.0</td>\n",
       "      <td>0.0</td>\n",
       "      <td>18.3</td>\n",
       "      <td>2.0</td>\n",
       "      <td>0.0</td>\n",
       "      <td>0.0</td>\n",
       "      <td>16.4</td>\n",
       "    </tr>\n",
       "  </tbody>\n",
       "</table>\n",
       "<p>2 rows × 25 columns</p>\n",
       "</div>"
      ],
      "text/plain": [
       "            날짜  구미_평균기온  구미_평균운량  구미_일강수량  구미_일교차  남원_평균기온  남원_평균운량  남원_일강수량  \\\n",
       "0  2016년 1월 1일      0.4      0.0      0.0    13.0      0.0      0.0      0.0   \n",
       "1  2016년 1월 2일      2.1      0.0      0.0    13.6      3.5      0.0      0.0   \n",
       "\n",
       "   남원_일교차  수원_평균기온  ...  금산_일강수량  금산_일교차  거창_평균기온  거창_평균운량  거창_일강수량  거창_일교차  \\\n",
       "0    11.8      1.6  ...      0.0    11.9     -1.1      0.0      0.0    16.5   \n",
       "1    14.2      5.8  ...      0.0    13.8      1.4      0.0      0.0    18.3   \n",
       "\n",
       "   영천_평균기온  영천_평균운량  영천_일강수량  영천_일교차  \n",
       "0      1.3      0.0      0.0    15.4  \n",
       "1      2.0      0.0      0.0    16.4  \n",
       "\n",
       "[2 rows x 25 columns]"
      ]
     },
     "execution_count": 787,
     "metadata": {},
     "output_type": "execute_result"
    }
   ],
   "source": [
    "shinemuscat_weather = pd.merge(gumi, geumsan)\n",
    "shinemuscat_weather = pd.merge(weather, yeongcheon)\n",
    "\n",
    "print(shinemuscat_weather.shape)\n",
    "shinemuscat_weather.head(2)"
   ]
  },
  {
   "cell_type": "code",
   "execution_count": 788,
   "id": "186f6c1c",
   "metadata": {
    "ExecuteTime": {
     "end_time": "2022-10-12T10:24:22.711176Z",
     "start_time": "2022-10-12T10:24:22.679079Z"
    }
   },
   "outputs": [
    {
     "data": {
      "text/html": [
       "<div>\n",
       "<style scoped>\n",
       "    .dataframe tbody tr th:only-of-type {\n",
       "        vertical-align: middle;\n",
       "    }\n",
       "\n",
       "    .dataframe tbody tr th {\n",
       "        vertical-align: top;\n",
       "    }\n",
       "\n",
       "    .dataframe thead th {\n",
       "        text-align: right;\n",
       "    }\n",
       "</style>\n",
       "<table border=\"1\" class=\"dataframe\">\n",
       "  <thead>\n",
       "    <tr style=\"text-align: right;\">\n",
       "      <th></th>\n",
       "      <th>날짜</th>\n",
       "      <th>구미_평균기온</th>\n",
       "      <th>구미_평균운량</th>\n",
       "      <th>구미_일강수량</th>\n",
       "      <th>구미_일교차</th>\n",
       "      <th>남원_평균기온</th>\n",
       "      <th>남원_평균운량</th>\n",
       "      <th>남원_일강수량</th>\n",
       "      <th>남원_일교차</th>\n",
       "      <th>수원_평균기온</th>\n",
       "      <th>...</th>\n",
       "      <th>거창_일강수량</th>\n",
       "      <th>거창_일교차</th>\n",
       "      <th>영천_평균기온</th>\n",
       "      <th>영천_평균운량</th>\n",
       "      <th>영천_일강수량</th>\n",
       "      <th>영천_일교차</th>\n",
       "      <th>재배지역_평균기온</th>\n",
       "      <th>재배지역_평균운량</th>\n",
       "      <th>재배지역_일강수량</th>\n",
       "      <th>재배지역_일교차</th>\n",
       "    </tr>\n",
       "  </thead>\n",
       "  <tbody>\n",
       "    <tr>\n",
       "      <th>0</th>\n",
       "      <td>2016년 1월 1일</td>\n",
       "      <td>0.4</td>\n",
       "      <td>0.0</td>\n",
       "      <td>0.0</td>\n",
       "      <td>13.0</td>\n",
       "      <td>0.0</td>\n",
       "      <td>0.0</td>\n",
       "      <td>0.0</td>\n",
       "      <td>11.8</td>\n",
       "      <td>1.6</td>\n",
       "      <td>...</td>\n",
       "      <td>0.0</td>\n",
       "      <td>16.5</td>\n",
       "      <td>1.3</td>\n",
       "      <td>0.0</td>\n",
       "      <td>0.0</td>\n",
       "      <td>15.4</td>\n",
       "      <td>0.4958</td>\n",
       "      <td>0.0</td>\n",
       "      <td>0.0</td>\n",
       "      <td>13.4003</td>\n",
       "    </tr>\n",
       "    <tr>\n",
       "      <th>1</th>\n",
       "      <td>2016년 1월 2일</td>\n",
       "      <td>2.1</td>\n",
       "      <td>0.0</td>\n",
       "      <td>0.0</td>\n",
       "      <td>13.6</td>\n",
       "      <td>3.5</td>\n",
       "      <td>0.0</td>\n",
       "      <td>0.0</td>\n",
       "      <td>14.2</td>\n",
       "      <td>5.8</td>\n",
       "      <td>...</td>\n",
       "      <td>0.0</td>\n",
       "      <td>18.3</td>\n",
       "      <td>2.0</td>\n",
       "      <td>0.0</td>\n",
       "      <td>0.0</td>\n",
       "      <td>16.4</td>\n",
       "      <td>2.2930</td>\n",
       "      <td>0.0</td>\n",
       "      <td>0.0</td>\n",
       "      <td>14.1842</td>\n",
       "    </tr>\n",
       "  </tbody>\n",
       "</table>\n",
       "<p>2 rows × 29 columns</p>\n",
       "</div>"
      ],
      "text/plain": [
       "            날짜  구미_평균기온  구미_평균운량  구미_일강수량  구미_일교차  남원_평균기온  남원_평균운량  남원_일강수량  \\\n",
       "0  2016년 1월 1일      0.4      0.0      0.0    13.0      0.0      0.0      0.0   \n",
       "1  2016년 1월 2일      2.1      0.0      0.0    13.6      3.5      0.0      0.0   \n",
       "\n",
       "   남원_일교차  수원_평균기온  ...  거창_일강수량  거창_일교차  영천_평균기온  영천_평균운량  영천_일강수량  영천_일교차  \\\n",
       "0    11.8      1.6  ...      0.0    16.5      1.3      0.0      0.0    15.4   \n",
       "1    14.2      5.8  ...      0.0    18.3      2.0      0.0      0.0    16.4   \n",
       "\n",
       "   재배지역_평균기온  재배지역_평균운량  재배지역_일강수량  재배지역_일교차  \n",
       "0     0.4958        0.0        0.0   13.4003  \n",
       "1     2.2930        0.0        0.0   14.1842  \n",
       "\n",
       "[2 rows x 29 columns]"
      ]
     },
     "execution_count": 788,
     "metadata": {},
     "output_type": "execute_result"
    }
   ],
   "source": [
    "# 구미_날씨(김천) = 71.8%, 영천_날씨 = 20.3%, 금산_날씨(영동) = 7.9%\n",
    "\n",
    "shinemuscat_weather2 = shinemuscat_weather.copy()\n",
    "\n",
    "shinemuscat_weather2['재배지역_평균기온'] = shinemuscat_weather2['구미_평균기온'] * (71.8/100) + shinemuscat_weather2['영천_평균기온'] * (20.3/100) + shinemuscat_weather2['금산_평균기온'] * (7.9/100)\n",
    "shinemuscat_weather2['재배지역_평균운량'] = shinemuscat_weather2['구미_평균운량'] * (71.8/100) + shinemuscat_weather2['영천_평균운량'] * (20.3/100) + shinemuscat_weather2['금산_평균운량'] * (7.9/100)\n",
    "shinemuscat_weather2['재배지역_일강수량'] = shinemuscat_weather2['구미_일강수량'] * (71.8/100) + shinemuscat_weather2['영천_일강수량'] * (20.3/100) + shinemuscat_weather2['금산_일강수량'] * (7.9/100)\n",
    "shinemuscat_weather2['재배지역_일교차'] =  shinemuscat_weather2['구미_일교차'] * (71.8/100) + shinemuscat_weather2['영천_일교차'] * (20.3/100) + shinemuscat_weather2['금산_일교차'] * (7.9/100)\n",
    "\n",
    "shinemuscat_weather2.head(2)"
   ]
  },
  {
   "cell_type": "code",
   "execution_count": 789,
   "id": "9c90e09e",
   "metadata": {
    "ExecuteTime": {
     "end_time": "2022-10-12T10:24:23.108926Z",
     "start_time": "2022-10-12T10:24:23.099836Z"
    }
   },
   "outputs": [],
   "source": [
    "# 날짜 칼럼 추가\n",
    "date = df['date']\n",
    "date.loc[1770] = '2020-11-05'"
   ]
  },
  {
   "cell_type": "code",
   "execution_count": 790,
   "id": "51972819",
   "metadata": {
    "ExecuteTime": {
     "end_time": "2022-10-12T10:24:23.414947Z",
     "start_time": "2022-10-12T10:24:23.388584Z"
    }
   },
   "outputs": [
    {
     "data": {
      "text/html": [
       "<div>\n",
       "<style scoped>\n",
       "    .dataframe tbody tr th:only-of-type {\n",
       "        vertical-align: middle;\n",
       "    }\n",
       "\n",
       "    .dataframe tbody tr th {\n",
       "        vertical-align: top;\n",
       "    }\n",
       "\n",
       "    .dataframe thead th {\n",
       "        text-align: right;\n",
       "    }\n",
       "</style>\n",
       "<table border=\"1\" class=\"dataframe\">\n",
       "  <thead>\n",
       "    <tr style=\"text-align: right;\">\n",
       "      <th></th>\n",
       "      <th>날짜</th>\n",
       "      <th>구미_평균기온</th>\n",
       "      <th>구미_평균운량</th>\n",
       "      <th>구미_일강수량</th>\n",
       "      <th>구미_일교차</th>\n",
       "      <th>남원_평균기온</th>\n",
       "      <th>남원_평균운량</th>\n",
       "      <th>남원_일강수량</th>\n",
       "      <th>남원_일교차</th>\n",
       "      <th>수원_평균기온</th>\n",
       "      <th>...</th>\n",
       "      <th>거창_일교차</th>\n",
       "      <th>영천_평균기온</th>\n",
       "      <th>영천_평균운량</th>\n",
       "      <th>영천_일강수량</th>\n",
       "      <th>영천_일교차</th>\n",
       "      <th>재배지역_평균기온</th>\n",
       "      <th>재배지역_평균운량</th>\n",
       "      <th>재배지역_일강수량</th>\n",
       "      <th>재배지역_일교차</th>\n",
       "      <th>date</th>\n",
       "    </tr>\n",
       "  </thead>\n",
       "  <tbody>\n",
       "    <tr>\n",
       "      <th>0</th>\n",
       "      <td>2016년 1월 1일</td>\n",
       "      <td>0.4</td>\n",
       "      <td>0.0</td>\n",
       "      <td>0.0</td>\n",
       "      <td>13.0</td>\n",
       "      <td>0.0</td>\n",
       "      <td>0.0</td>\n",
       "      <td>0.0</td>\n",
       "      <td>11.8</td>\n",
       "      <td>1.6</td>\n",
       "      <td>...</td>\n",
       "      <td>16.5</td>\n",
       "      <td>1.3</td>\n",
       "      <td>0.0</td>\n",
       "      <td>0.0</td>\n",
       "      <td>15.4</td>\n",
       "      <td>0.4958</td>\n",
       "      <td>0.0</td>\n",
       "      <td>0.0</td>\n",
       "      <td>13.4003</td>\n",
       "      <td>2016-01-01</td>\n",
       "    </tr>\n",
       "    <tr>\n",
       "      <th>1</th>\n",
       "      <td>2016년 1월 2일</td>\n",
       "      <td>2.1</td>\n",
       "      <td>0.0</td>\n",
       "      <td>0.0</td>\n",
       "      <td>13.6</td>\n",
       "      <td>3.5</td>\n",
       "      <td>0.0</td>\n",
       "      <td>0.0</td>\n",
       "      <td>14.2</td>\n",
       "      <td>5.8</td>\n",
       "      <td>...</td>\n",
       "      <td>18.3</td>\n",
       "      <td>2.0</td>\n",
       "      <td>0.0</td>\n",
       "      <td>0.0</td>\n",
       "      <td>16.4</td>\n",
       "      <td>2.2930</td>\n",
       "      <td>0.0</td>\n",
       "      <td>0.0</td>\n",
       "      <td>14.1842</td>\n",
       "      <td>2016-01-02</td>\n",
       "    </tr>\n",
       "  </tbody>\n",
       "</table>\n",
       "<p>2 rows × 30 columns</p>\n",
       "</div>"
      ],
      "text/plain": [
       "            날짜  구미_평균기온  구미_평균운량  구미_일강수량  구미_일교차  남원_평균기온  남원_평균운량  남원_일강수량  \\\n",
       "0  2016년 1월 1일      0.4      0.0      0.0    13.0      0.0      0.0      0.0   \n",
       "1  2016년 1월 2일      2.1      0.0      0.0    13.6      3.5      0.0      0.0   \n",
       "\n",
       "   남원_일교차  수원_평균기온  ...  거창_일교차  영천_평균기온  영천_평균운량  영천_일강수량  영천_일교차  재배지역_평균기온  \\\n",
       "0    11.8      1.6  ...    16.5      1.3      0.0      0.0    15.4     0.4958   \n",
       "1    14.2      5.8  ...    18.3      2.0      0.0      0.0    16.4     2.2930   \n",
       "\n",
       "   재배지역_평균운량  재배지역_일강수량  재배지역_일교차       date  \n",
       "0        0.0        0.0   13.4003 2016-01-01  \n",
       "1        0.0        0.0   14.1842 2016-01-02  \n",
       "\n",
       "[2 rows x 30 columns]"
      ]
     },
     "execution_count": 790,
     "metadata": {},
     "output_type": "execute_result"
    }
   ],
   "source": [
    "shinemuscat_weather2['date'] = date\n",
    "shinemuscat_weather2.head(2)"
   ]
  },
  {
   "cell_type": "code",
   "execution_count": 791,
   "id": "62efb0f6",
   "metadata": {
    "ExecuteTime": {
     "end_time": "2022-10-12T10:24:24.615650Z",
     "start_time": "2022-10-12T10:24:24.587603Z"
    }
   },
   "outputs": [
    {
     "name": "stdout",
     "output_type": "stream",
     "text": [
      "(1771, 5)\n"
     ]
    },
    {
     "data": {
      "text/html": [
       "<div>\n",
       "<style scoped>\n",
       "    .dataframe tbody tr th:only-of-type {\n",
       "        vertical-align: middle;\n",
       "    }\n",
       "\n",
       "    .dataframe tbody tr th {\n",
       "        vertical-align: top;\n",
       "    }\n",
       "\n",
       "    .dataframe thead th {\n",
       "        text-align: right;\n",
       "    }\n",
       "</style>\n",
       "<table border=\"1\" class=\"dataframe\">\n",
       "  <thead>\n",
       "    <tr style=\"text-align: right;\">\n",
       "      <th></th>\n",
       "      <th>date</th>\n",
       "      <th>재배지역_평균기온</th>\n",
       "      <th>재배지역_평균운량</th>\n",
       "      <th>재배지역_일강수량</th>\n",
       "      <th>재배지역_일교차</th>\n",
       "    </tr>\n",
       "  </thead>\n",
       "  <tbody>\n",
       "    <tr>\n",
       "      <th>0</th>\n",
       "      <td>2016-01-01</td>\n",
       "      <td>0.50</td>\n",
       "      <td>0.0</td>\n",
       "      <td>0.0</td>\n",
       "      <td>13.40</td>\n",
       "    </tr>\n",
       "    <tr>\n",
       "      <th>1</th>\n",
       "      <td>2016-01-02</td>\n",
       "      <td>2.29</td>\n",
       "      <td>0.0</td>\n",
       "      <td>0.0</td>\n",
       "      <td>14.18</td>\n",
       "    </tr>\n",
       "  </tbody>\n",
       "</table>\n",
       "</div>"
      ],
      "text/plain": [
       "        date  재배지역_평균기온  재배지역_평균운량  재배지역_일강수량  재배지역_일교차\n",
       "0 2016-01-01       0.50        0.0        0.0     13.40\n",
       "1 2016-01-02       2.29        0.0        0.0     14.18"
      ]
     },
     "metadata": {},
     "output_type": "display_data"
    },
    {
     "data": {
      "text/html": [
       "<div>\n",
       "<style scoped>\n",
       "    .dataframe tbody tr th:only-of-type {\n",
       "        vertical-align: middle;\n",
       "    }\n",
       "\n",
       "    .dataframe tbody tr th {\n",
       "        vertical-align: top;\n",
       "    }\n",
       "\n",
       "    .dataframe thead th {\n",
       "        text-align: right;\n",
       "    }\n",
       "</style>\n",
       "<table border=\"1\" class=\"dataframe\">\n",
       "  <thead>\n",
       "    <tr style=\"text-align: right;\">\n",
       "      <th></th>\n",
       "      <th>date</th>\n",
       "      <th>재배지역_평균기온</th>\n",
       "      <th>재배지역_평균운량</th>\n",
       "      <th>재배지역_일강수량</th>\n",
       "      <th>재배지역_일교차</th>\n",
       "    </tr>\n",
       "  </thead>\n",
       "  <tbody>\n",
       "    <tr>\n",
       "      <th>1769</th>\n",
       "      <td>2020-11-04</td>\n",
       "      <td>5.43</td>\n",
       "      <td>0.00</td>\n",
       "      <td>0.0</td>\n",
       "      <td>12.22</td>\n",
       "    </tr>\n",
       "    <tr>\n",
       "      <th>1770</th>\n",
       "      <td>2020-11-05</td>\n",
       "      <td>7.45</td>\n",
       "      <td>4.13</td>\n",
       "      <td>0.0</td>\n",
       "      <td>17.95</td>\n",
       "    </tr>\n",
       "  </tbody>\n",
       "</table>\n",
       "</div>"
      ],
      "text/plain": [
       "           date  재배지역_평균기온  재배지역_평균운량  재배지역_일강수량  재배지역_일교차\n",
       "1769 2020-11-04       5.43       0.00        0.0     12.22\n",
       "1770 2020-11-05       7.45       4.13        0.0     17.95"
      ]
     },
     "metadata": {},
     "output_type": "display_data"
    }
   ],
   "source": [
    "shinemuscat_weather2 = shinemuscat_weather2[['date','재배지역_평균기온', '재배지역_평균운량', '재배지역_일강수량', '재배지역_일교차']]\n",
    "shinemuscat_weather2 = shinemuscat_weather2.round(2)\n",
    "\n",
    "print(shinemuscat_weather2.shape)\n",
    "display(shinemuscat_weather2.head(2))\n",
    "display(shinemuscat_weather2.tail(2))"
   ]
  },
  {
   "cell_type": "code",
   "execution_count": 385,
   "id": "8e726ebb",
   "metadata": {
    "ExecuteTime": {
     "end_time": "2022-10-12T06:25:03.568362Z",
     "start_time": "2022-10-12T06:25:03.552802Z"
    }
   },
   "outputs": [],
   "source": [
    "# shinemuscat_weather2.to_csv(processed_path+'shinemuscat_weather.csv', index=False)"
   ]
  },
  {
   "cell_type": "markdown",
   "id": "312c1f5d",
   "metadata": {},
   "source": [
    "### 수출입, 재배면적 데이터 합치기(캠벨얼리값과 동일)"
   ]
  },
  {
   "cell_type": "code",
   "execution_count": 833,
   "id": "e833a2ef",
   "metadata": {
    "ExecuteTime": {
     "end_time": "2022-10-12T10:31:17.706027Z",
     "start_time": "2022-10-12T10:31:17.702696Z"
    }
   },
   "outputs": [],
   "source": [
    "shinemuscat_export2 = grape_export2.copy() # 수출입\n",
    "shinemuscat_product2 = grape_product.copy() # 재배면적"
   ]
  },
  {
   "cell_type": "markdown",
   "id": "ce39ffef",
   "metadata": {},
   "source": [
    "### 블루베리 거래량 데이터 가져오기 및 전처리"
   ]
  },
  {
   "cell_type": "code",
   "execution_count": 519,
   "id": "31cc0590",
   "metadata": {
    "ExecuteTime": {
     "end_time": "2022-10-12T07:00:31.290630Z",
     "start_time": "2022-10-12T07:00:31.280834Z"
    }
   },
   "outputs": [
    {
     "data": {
      "text/html": [
       "<div>\n",
       "<style scoped>\n",
       "    .dataframe tbody tr th:only-of-type {\n",
       "        vertical-align: middle;\n",
       "    }\n",
       "\n",
       "    .dataframe tbody tr th {\n",
       "        vertical-align: top;\n",
       "    }\n",
       "\n",
       "    .dataframe thead th {\n",
       "        text-align: right;\n",
       "    }\n",
       "</style>\n",
       "<table border=\"1\" class=\"dataframe\">\n",
       "  <thead>\n",
       "    <tr style=\"text-align: right;\">\n",
       "      <th></th>\n",
       "      <th>일자</th>\n",
       "      <th>거래물량 (톤)</th>\n",
       "      <th>거래금액 (억원)</th>\n",
       "    </tr>\n",
       "  </thead>\n",
       "  <tbody>\n",
       "    <tr>\n",
       "      <th>0</th>\n",
       "      <td>2013</td>\n",
       "      <td>0.014</td>\n",
       "      <td>0.0015</td>\n",
       "    </tr>\n",
       "    <tr>\n",
       "      <th>1</th>\n",
       "      <td>2014</td>\n",
       "      <td>0.240</td>\n",
       "      <td>0.0149</td>\n",
       "    </tr>\n",
       "  </tbody>\n",
       "</table>\n",
       "</div>"
      ],
      "text/plain": [
       "     일자  거래물량 (톤)  거래금액 (억원)\n",
       "0  2013     0.014     0.0015\n",
       "1  2014     0.240     0.0149"
      ]
     },
     "execution_count": 519,
     "metadata": {},
     "output_type": "execute_result"
    }
   ],
   "source": [
    "shinemuscat_blueberry = pd.read_csv(shinemuscat_path+'샤인머스켓_블루베리.csv') # 블루베리\n",
    "shinemuscat_blueberry.head(2)"
   ]
  },
  {
   "cell_type": "code",
   "execution_count": 520,
   "id": "f8c45e1d",
   "metadata": {
    "ExecuteTime": {
     "end_time": "2022-10-12T07:00:34.054646Z",
     "start_time": "2022-10-12T07:00:34.049535Z"
    }
   },
   "outputs": [],
   "source": [
    "# 1톤 = 907.185 kg으로 변환\n",
    "shinemuscat_blueberry['거래물량'] = round(shinemuscat_blueberry['거래물량 (톤)']*907.185, 2)\n",
    "\n",
    "# 기존 데이터 drop\n",
    "shinemuscat_blueberry.drop(columns=['거래물량 (톤)','거래금액 (억원)'], inplace = True)"
   ]
  },
  {
   "cell_type": "code",
   "execution_count": 522,
   "id": "cc5761c0",
   "metadata": {
    "ExecuteTime": {
     "end_time": "2022-10-12T07:00:51.098358Z",
     "start_time": "2022-10-12T07:00:51.087723Z"
    }
   },
   "outputs": [
    {
     "data": {
      "text/plain": [
       "년              int64\n",
       "블루베리_거래물량    float64\n",
       "dtype: object"
      ]
     },
     "execution_count": 522,
     "metadata": {},
     "output_type": "execute_result"
    }
   ],
   "source": [
    "shinemuscat_blueberry.rename(columns={'일자':'년','거래물량':'블루베리_거래물량'}, inplace=True)\n",
    "shinemuscat_blueberry.dtypes"
   ]
  },
  {
   "cell_type": "code",
   "execution_count": 523,
   "id": "300f5636",
   "metadata": {
    "ExecuteTime": {
     "end_time": "2022-10-12T07:00:52.735245Z",
     "start_time": "2022-10-12T07:00:52.726588Z"
    },
    "scrolled": true
   },
   "outputs": [
    {
     "data": {
      "text/html": [
       "<div>\n",
       "<style scoped>\n",
       "    .dataframe tbody tr th:only-of-type {\n",
       "        vertical-align: middle;\n",
       "    }\n",
       "\n",
       "    .dataframe tbody tr th {\n",
       "        vertical-align: top;\n",
       "    }\n",
       "\n",
       "    .dataframe thead th {\n",
       "        text-align: right;\n",
       "    }\n",
       "</style>\n",
       "<table border=\"1\" class=\"dataframe\">\n",
       "  <thead>\n",
       "    <tr style=\"text-align: right;\">\n",
       "      <th></th>\n",
       "      <th>년</th>\n",
       "      <th>블루베리_거래물량</th>\n",
       "    </tr>\n",
       "  </thead>\n",
       "  <tbody>\n",
       "    <tr>\n",
       "      <th>3</th>\n",
       "      <td>2016</td>\n",
       "      <td>1660.15</td>\n",
       "    </tr>\n",
       "    <tr>\n",
       "      <th>4</th>\n",
       "      <td>2017</td>\n",
       "      <td>306.63</td>\n",
       "    </tr>\n",
       "    <tr>\n",
       "      <th>5</th>\n",
       "      <td>2018</td>\n",
       "      <td>7201.23</td>\n",
       "    </tr>\n",
       "    <tr>\n",
       "      <th>6</th>\n",
       "      <td>2019</td>\n",
       "      <td>1686.46</td>\n",
       "    </tr>\n",
       "    <tr>\n",
       "      <th>7</th>\n",
       "      <td>2020</td>\n",
       "      <td>3538.93</td>\n",
       "    </tr>\n",
       "    <tr>\n",
       "      <th>8</th>\n",
       "      <td>2021</td>\n",
       "      <td>4351.77</td>\n",
       "    </tr>\n",
       "  </tbody>\n",
       "</table>\n",
       "</div>"
      ],
      "text/plain": [
       "      년  블루베리_거래물량\n",
       "3  2016    1660.15\n",
       "4  2017     306.63\n",
       "5  2018    7201.23\n",
       "6  2019    1686.46\n",
       "7  2020    3538.93\n",
       "8  2021    4351.77"
      ]
     },
     "execution_count": 523,
     "metadata": {},
     "output_type": "execute_result"
    }
   ],
   "source": [
    "shinemuscat_blueberry.drop([0,1,2,9], inplace=True)\n",
    "shinemuscat_blueberry"
   ]
  },
  {
   "cell_type": "code",
   "execution_count": 559,
   "id": "af8d4b30",
   "metadata": {
    "ExecuteTime": {
     "end_time": "2022-10-12T07:35:23.649143Z",
     "start_time": "2022-10-12T07:35:23.642545Z"
    }
   },
   "outputs": [],
   "source": [
    "date = grape_export[['년', '월']]\n",
    "\n",
    "shinemuscat_blueberry2 = pd.merge(date, shinemuscat_blueberry, on=['년'])"
   ]
  },
  {
   "cell_type": "code",
   "execution_count": 562,
   "id": "d5a65bcc",
   "metadata": {
    "ExecuteTime": {
     "end_time": "2022-10-12T07:36:37.589489Z",
     "start_time": "2022-10-12T07:36:37.550149Z"
    }
   },
   "outputs": [],
   "source": [
    "# 거래물량 년 -> 일 평균으로 바꿈\n",
    "\n",
    "A = [];B = [];C = [];D = []\n",
    "for x in range(59):\n",
    "    if (x == 1) | (x == 49):\n",
    "        for i in range(29):\n",
    "            A.append(shinemuscat_blueberry2['블루베리_거래물량'].iloc[x] / 29)\n",
    "    elif x in [13, 25, 37]:\n",
    "        for i in range(28):\n",
    "            A.append(shinemuscat_blueberry2['블루베리_거래물량'].iloc[x] / 28)\n",
    "    elif x in [3,5,8,10, 15,17,20,22, 27,29,32,34, 39,41,44,46, 51,53,56]:\n",
    "        for i in range(30):\n",
    "            A.append(shinemuscat_blueberry2['블루베리_거래물량'].iloc[x] / 30)\n",
    "    elif x == 58:\n",
    "        for i in range(5):\n",
    "            A.append(shinemuscat_blueberry2['블루베리_거래물량'].iloc[x] / 30)\n",
    "    else:\n",
    "        for i in range(31):\n",
    "            A.append(shinemuscat_blueberry2['블루베리_거래물량'].iloc[x] / 31)"
   ]
  },
  {
   "cell_type": "code",
   "execution_count": 569,
   "id": "1d2c7357",
   "metadata": {
    "ExecuteTime": {
     "end_time": "2022-10-12T07:40:04.416956Z",
     "start_time": "2022-10-12T07:40:04.402205Z"
    }
   },
   "outputs": [
    {
     "data": {
      "text/html": [
       "<div>\n",
       "<style scoped>\n",
       "    .dataframe tbody tr th:only-of-type {\n",
       "        vertical-align: middle;\n",
       "    }\n",
       "\n",
       "    .dataframe tbody tr th {\n",
       "        vertical-align: top;\n",
       "    }\n",
       "\n",
       "    .dataframe thead th {\n",
       "        text-align: right;\n",
       "    }\n",
       "</style>\n",
       "<table border=\"1\" class=\"dataframe\">\n",
       "  <thead>\n",
       "    <tr style=\"text-align: right;\">\n",
       "      <th></th>\n",
       "      <th>블루베리_거래물량</th>\n",
       "    </tr>\n",
       "  </thead>\n",
       "  <tbody>\n",
       "    <tr>\n",
       "      <th>0</th>\n",
       "      <td>53.55</td>\n",
       "    </tr>\n",
       "    <tr>\n",
       "      <th>1</th>\n",
       "      <td>53.55</td>\n",
       "    </tr>\n",
       "    <tr>\n",
       "      <th>2</th>\n",
       "      <td>53.55</td>\n",
       "    </tr>\n",
       "    <tr>\n",
       "      <th>3</th>\n",
       "      <td>53.55</td>\n",
       "    </tr>\n",
       "    <tr>\n",
       "      <th>4</th>\n",
       "      <td>53.55</td>\n",
       "    </tr>\n",
       "    <tr>\n",
       "      <th>...</th>\n",
       "      <td>...</td>\n",
       "    </tr>\n",
       "    <tr>\n",
       "      <th>1766</th>\n",
       "      <td>117.96</td>\n",
       "    </tr>\n",
       "    <tr>\n",
       "      <th>1767</th>\n",
       "      <td>117.96</td>\n",
       "    </tr>\n",
       "    <tr>\n",
       "      <th>1768</th>\n",
       "      <td>117.96</td>\n",
       "    </tr>\n",
       "    <tr>\n",
       "      <th>1769</th>\n",
       "      <td>117.96</td>\n",
       "    </tr>\n",
       "    <tr>\n",
       "      <th>1770</th>\n",
       "      <td>117.96</td>\n",
       "    </tr>\n",
       "  </tbody>\n",
       "</table>\n",
       "<p>1771 rows × 1 columns</p>\n",
       "</div>"
      ],
      "text/plain": [
       "      블루베리_거래물량\n",
       "0         53.55\n",
       "1         53.55\n",
       "2         53.55\n",
       "3         53.55\n",
       "4         53.55\n",
       "...         ...\n",
       "1766     117.96\n",
       "1767     117.96\n",
       "1768     117.96\n",
       "1769     117.96\n",
       "1770     117.96\n",
       "\n",
       "[1771 rows x 1 columns]"
      ]
     },
     "execution_count": 569,
     "metadata": {},
     "output_type": "execute_result"
    }
   ],
   "source": [
    "shinemuscat_blueberry3 = pd.DataFrame({'블루베리_거래물량':A})\n",
    "shinemuscat_blueberry3 = shinemuscat_blueberry3.round(2)\n",
    "shinemuscat_blueberry3"
   ]
  },
  {
   "cell_type": "markdown",
   "id": "3c789062",
   "metadata": {},
   "source": [
    "### 샤인머스켓 외부데이터 합치기\n",
    "> 거래량, 가격, 자동차용경유, 소비자 물가 지수, 날씨(5개), 수출입, 재배면적, 블루베리 거래량<br>\n",
    "**금산_날씨 = 7.9%, '영천_날씨 = 20.3%, 구미_날씨 = 71.8%**"
   ]
  },
  {
   "cell_type": "markdown",
   "id": "1626e450",
   "metadata": {},
   "source": [
    "### 소비자 물가지수, 자동차용경유, 날씨"
   ]
  },
  {
   "cell_type": "code",
   "execution_count": 845,
   "id": "aa861fa9",
   "metadata": {
    "ExecuteTime": {
     "end_time": "2022-10-12T10:32:11.927330Z",
     "start_time": "2022-10-12T10:32:11.923561Z"
    }
   },
   "outputs": [],
   "source": [
    "shinemuscat2 = shinemuscat.copy()"
   ]
  },
  {
   "cell_type": "code",
   "execution_count": 846,
   "id": "64fa6704",
   "metadata": {
    "ExecuteTime": {
     "end_time": "2022-10-12T10:32:12.118824Z",
     "start_time": "2022-10-12T10:32:12.104676Z"
    }
   },
   "outputs": [],
   "source": [
    "shinemuscat2 = pd.concat([shinemuscat2, product],axis = 1)\n",
    "shinemuscat2 = pd.concat([shinemuscat2, oil],axis = 1)\n",
    "\n",
    "shinemuscat2.drop(columns=[ '고급휘발유','보통휘발유','실내등유','구분'],inplace=True)\n",
    "\n",
    "shinemuscat2.drop([1770], inplace=True)"
   ]
  },
  {
   "cell_type": "code",
   "execution_count": 847,
   "id": "910af96d",
   "metadata": {
    "ExecuteTime": {
     "end_time": "2022-10-12T10:32:12.357800Z",
     "start_time": "2022-10-12T10:32:12.336944Z"
    }
   },
   "outputs": [
    {
     "data": {
      "text/html": [
       "<div>\n",
       "<style scoped>\n",
       "    .dataframe tbody tr th:only-of-type {\n",
       "        vertical-align: middle;\n",
       "    }\n",
       "\n",
       "    .dataframe tbody tr th {\n",
       "        vertical-align: top;\n",
       "    }\n",
       "\n",
       "    .dataframe thead th {\n",
       "        text-align: right;\n",
       "    }\n",
       "</style>\n",
       "<table border=\"1\" class=\"dataframe\">\n",
       "  <thead>\n",
       "    <tr style=\"text-align: right;\">\n",
       "      <th></th>\n",
       "      <th>date</th>\n",
       "      <th>요일</th>\n",
       "      <th>샤인마스캇_거래량(kg)</th>\n",
       "      <th>샤인마스캇_가격(원/kg)</th>\n",
       "      <th>소비자물가지수</th>\n",
       "      <th>자동차용경유</th>\n",
       "      <th>재배지역_평균기온</th>\n",
       "      <th>재배지역_평균운량</th>\n",
       "      <th>재배지역_일강수량</th>\n",
       "      <th>재배지역_일교차</th>\n",
       "    </tr>\n",
       "  </thead>\n",
       "  <tbody>\n",
       "    <tr>\n",
       "      <th>0</th>\n",
       "      <td>2016-01-01</td>\n",
       "      <td>금요일</td>\n",
       "      <td>0.0</td>\n",
       "      <td>0.0</td>\n",
       "      <td>95.232</td>\n",
       "      <td>1188.71</td>\n",
       "      <td>0.50</td>\n",
       "      <td>0.0</td>\n",
       "      <td>0.0</td>\n",
       "      <td>13.40</td>\n",
       "    </tr>\n",
       "    <tr>\n",
       "      <th>1</th>\n",
       "      <td>2016-01-02</td>\n",
       "      <td>토요일</td>\n",
       "      <td>0.0</td>\n",
       "      <td>0.0</td>\n",
       "      <td>95.232</td>\n",
       "      <td>1187.91</td>\n",
       "      <td>2.29</td>\n",
       "      <td>0.0</td>\n",
       "      <td>0.0</td>\n",
       "      <td>14.18</td>\n",
       "    </tr>\n",
       "  </tbody>\n",
       "</table>\n",
       "</div>"
      ],
      "text/plain": [
       "        date   요일  샤인마스캇_거래량(kg)  샤인마스캇_가격(원/kg)  소비자물가지수   자동차용경유  재배지역_평균기온  \\\n",
       "0 2016-01-01  금요일            0.0             0.0   95.232  1188.71       0.50   \n",
       "1 2016-01-02  토요일            0.0             0.0   95.232  1187.91       2.29   \n",
       "\n",
       "   재배지역_평균운량  재배지역_일강수량  재배지역_일교차  \n",
       "0        0.0        0.0     13.40  \n",
       "1        0.0        0.0     14.18  "
      ]
     },
     "execution_count": 847,
     "metadata": {},
     "output_type": "execute_result"
    }
   ],
   "source": [
    "shinemuscat2 = pd.merge(shinemuscat2, shinemuscat_weather2, on = ['date'])\n",
    "shinemuscat2.head(2)"
   ]
  },
  {
   "cell_type": "markdown",
   "id": "6ec0fc71",
   "metadata": {},
   "source": [
    "### 요일, 월 분할"
   ]
  },
  {
   "cell_type": "code",
   "execution_count": 848,
   "id": "7504f719",
   "metadata": {
    "ExecuteTime": {
     "end_time": "2022-10-12T10:32:12.965647Z",
     "start_time": "2022-10-12T10:32:12.961662Z"
    }
   },
   "outputs": [],
   "source": [
    "shinemuscat2.date = pd.to_datetime(shinemuscat2.date)\n",
    "# shinemuscat = pd.concat([shinemuscat, pd.get_dummies(shinemuscat['요일'])], axis = 1)\n",
    "shinemuscat2['년'] = shinemuscat2['date'].dt.year \n",
    "shinemuscat2['월'] = shinemuscat2['date'].dt.month "
   ]
  },
  {
   "cell_type": "code",
   "execution_count": 849,
   "id": "51fa7afd",
   "metadata": {
    "ExecuteTime": {
     "end_time": "2022-10-12T10:32:13.330694Z",
     "start_time": "2022-10-12T10:32:13.325936Z"
    }
   },
   "outputs": [
    {
     "name": "stdout",
     "output_type": "stream",
     "text": [
      "(1770, 12)\n"
     ]
    }
   ],
   "source": [
    "print(shinemuscat2.shape)"
   ]
  },
  {
   "cell_type": "code",
   "execution_count": 851,
   "id": "3b3db5d2",
   "metadata": {
    "ExecuteTime": {
     "end_time": "2022-10-12T10:32:14.403444Z",
     "start_time": "2022-10-12T10:32:14.363112Z"
    }
   },
   "outputs": [
    {
     "data": {
      "text/html": [
       "<div>\n",
       "<style scoped>\n",
       "    .dataframe tbody tr th:only-of-type {\n",
       "        vertical-align: middle;\n",
       "    }\n",
       "\n",
       "    .dataframe tbody tr th {\n",
       "        vertical-align: top;\n",
       "    }\n",
       "\n",
       "    .dataframe thead th {\n",
       "        text-align: right;\n",
       "    }\n",
       "</style>\n",
       "<table border=\"1\" class=\"dataframe\">\n",
       "  <thead>\n",
       "    <tr style=\"text-align: right;\">\n",
       "      <th></th>\n",
       "      <th>date</th>\n",
       "      <th>요일</th>\n",
       "      <th>샤인마스캇_거래량(kg)</th>\n",
       "      <th>샤인마스캇_가격(원/kg)</th>\n",
       "      <th>소비자물가지수</th>\n",
       "      <th>자동차용경유</th>\n",
       "      <th>재배지역_평균기온</th>\n",
       "      <th>재배지역_평균운량</th>\n",
       "      <th>재배지역_일강수량</th>\n",
       "      <th>재배지역_일교차</th>\n",
       "      <th>...</th>\n",
       "      <th>월</th>\n",
       "      <th>수출(중량)</th>\n",
       "      <th>수출(금액)</th>\n",
       "      <th>수입(중량)</th>\n",
       "      <th>수입(금액)</th>\n",
       "      <th>재배면적(ha)</th>\n",
       "      <th>블루베리_거래물량</th>\n",
       "      <th>최저시급</th>\n",
       "      <th>경제활동인구</th>\n",
       "      <th>실업률 (%)</th>\n",
       "    </tr>\n",
       "  </thead>\n",
       "  <tbody>\n",
       "    <tr>\n",
       "      <th>0</th>\n",
       "      <td>2016-01-01</td>\n",
       "      <td>금요일</td>\n",
       "      <td>0.0</td>\n",
       "      <td>0.0</td>\n",
       "      <td>95.232</td>\n",
       "      <td>1188.71</td>\n",
       "      <td>0.50</td>\n",
       "      <td>0.00</td>\n",
       "      <td>0.00</td>\n",
       "      <td>13.40</td>\n",
       "      <td>...</td>\n",
       "      <td>1.0</td>\n",
       "      <td>264.680645</td>\n",
       "      <td>728.161290</td>\n",
       "      <td>117936.225806</td>\n",
       "      <td>340002.451613</td>\n",
       "      <td>14946.0</td>\n",
       "      <td>53.55</td>\n",
       "      <td>6030.0</td>\n",
       "      <td>918310</td>\n",
       "      <td>0.13</td>\n",
       "    </tr>\n",
       "    <tr>\n",
       "      <th>1</th>\n",
       "      <td>2016-01-02</td>\n",
       "      <td>토요일</td>\n",
       "      <td>0.0</td>\n",
       "      <td>0.0</td>\n",
       "      <td>95.232</td>\n",
       "      <td>1187.91</td>\n",
       "      <td>2.29</td>\n",
       "      <td>0.00</td>\n",
       "      <td>0.00</td>\n",
       "      <td>14.18</td>\n",
       "      <td>...</td>\n",
       "      <td>1.0</td>\n",
       "      <td>264.680645</td>\n",
       "      <td>728.161290</td>\n",
       "      <td>117936.225806</td>\n",
       "      <td>340002.451613</td>\n",
       "      <td>14946.0</td>\n",
       "      <td>53.55</td>\n",
       "      <td>6030.0</td>\n",
       "      <td>918310</td>\n",
       "      <td>0.13</td>\n",
       "    </tr>\n",
       "    <tr>\n",
       "      <th>2</th>\n",
       "      <td>2016-01-03</td>\n",
       "      <td>일요일</td>\n",
       "      <td>0.0</td>\n",
       "      <td>0.0</td>\n",
       "      <td>95.232</td>\n",
       "      <td>1187.10</td>\n",
       "      <td>3.59</td>\n",
       "      <td>0.00</td>\n",
       "      <td>0.00</td>\n",
       "      <td>16.56</td>\n",
       "      <td>...</td>\n",
       "      <td>1.0</td>\n",
       "      <td>264.680645</td>\n",
       "      <td>728.161290</td>\n",
       "      <td>117936.225806</td>\n",
       "      <td>340002.451613</td>\n",
       "      <td>14946.0</td>\n",
       "      <td>53.55</td>\n",
       "      <td>6030.0</td>\n",
       "      <td>918310</td>\n",
       "      <td>0.13</td>\n",
       "    </tr>\n",
       "    <tr>\n",
       "      <th>3</th>\n",
       "      <td>2016-01-04</td>\n",
       "      <td>월요일</td>\n",
       "      <td>0.0</td>\n",
       "      <td>0.0</td>\n",
       "      <td>95.232</td>\n",
       "      <td>1185.85</td>\n",
       "      <td>6.17</td>\n",
       "      <td>0.00</td>\n",
       "      <td>0.00</td>\n",
       "      <td>10.06</td>\n",
       "      <td>...</td>\n",
       "      <td>1.0</td>\n",
       "      <td>264.680645</td>\n",
       "      <td>728.161290</td>\n",
       "      <td>117936.225806</td>\n",
       "      <td>340002.451613</td>\n",
       "      <td>14946.0</td>\n",
       "      <td>53.55</td>\n",
       "      <td>6030.0</td>\n",
       "      <td>918310</td>\n",
       "      <td>0.13</td>\n",
       "    </tr>\n",
       "    <tr>\n",
       "      <th>4</th>\n",
       "      <td>2016-01-05</td>\n",
       "      <td>화요일</td>\n",
       "      <td>0.0</td>\n",
       "      <td>0.0</td>\n",
       "      <td>95.232</td>\n",
       "      <td>1184.01</td>\n",
       "      <td>1.53</td>\n",
       "      <td>0.00</td>\n",
       "      <td>0.00</td>\n",
       "      <td>6.04</td>\n",
       "      <td>...</td>\n",
       "      <td>1.0</td>\n",
       "      <td>264.680645</td>\n",
       "      <td>728.161290</td>\n",
       "      <td>117936.225806</td>\n",
       "      <td>340002.451613</td>\n",
       "      <td>14946.0</td>\n",
       "      <td>53.55</td>\n",
       "      <td>6030.0</td>\n",
       "      <td>918310</td>\n",
       "      <td>0.13</td>\n",
       "    </tr>\n",
       "    <tr>\n",
       "      <th>...</th>\n",
       "      <td>...</td>\n",
       "      <td>...</td>\n",
       "      <td>...</td>\n",
       "      <td>...</td>\n",
       "      <td>...</td>\n",
       "      <td>...</td>\n",
       "      <td>...</td>\n",
       "      <td>...</td>\n",
       "      <td>...</td>\n",
       "      <td>...</td>\n",
       "      <td>...</td>\n",
       "      <td>...</td>\n",
       "      <td>...</td>\n",
       "      <td>...</td>\n",
       "      <td>...</td>\n",
       "      <td>...</td>\n",
       "      <td>...</td>\n",
       "      <td>...</td>\n",
       "      <td>...</td>\n",
       "      <td>...</td>\n",
       "      <td>...</td>\n",
       "    </tr>\n",
       "    <tr>\n",
       "      <th>1766</th>\n",
       "      <td>2020-11-01</td>\n",
       "      <td>일요일</td>\n",
       "      <td>0.0</td>\n",
       "      <td>0.0</td>\n",
       "      <td>100.090</td>\n",
       "      <td>1124.51</td>\n",
       "      <td>11.45</td>\n",
       "      <td>9.91</td>\n",
       "      <td>2.53</td>\n",
       "      <td>3.41</td>\n",
       "      <td>...</td>\n",
       "      <td>11.0</td>\n",
       "      <td>1706.212667</td>\n",
       "      <td>28741.315333</td>\n",
       "      <td>22755.312333</td>\n",
       "      <td>67632.875333</td>\n",
       "      <td>13183.0</td>\n",
       "      <td>117.96</td>\n",
       "      <td>8590.0</td>\n",
       "      <td>972689</td>\n",
       "      <td>0.12</td>\n",
       "    </tr>\n",
       "    <tr>\n",
       "      <th>1767</th>\n",
       "      <td>2020-11-02</td>\n",
       "      <td>월요일</td>\n",
       "      <td>88354.3</td>\n",
       "      <td>10205.0</td>\n",
       "      <td>100.090</td>\n",
       "      <td>1123.70</td>\n",
       "      <td>11.40</td>\n",
       "      <td>5.50</td>\n",
       "      <td>0.00</td>\n",
       "      <td>13.69</td>\n",
       "      <td>...</td>\n",
       "      <td>11.0</td>\n",
       "      <td>1706.212667</td>\n",
       "      <td>28741.315333</td>\n",
       "      <td>22755.312333</td>\n",
       "      <td>67632.875333</td>\n",
       "      <td>13183.0</td>\n",
       "      <td>117.96</td>\n",
       "      <td>8590.0</td>\n",
       "      <td>972689</td>\n",
       "      <td>0.12</td>\n",
       "    </tr>\n",
       "    <tr>\n",
       "      <th>1768</th>\n",
       "      <td>2020-11-03</td>\n",
       "      <td>화요일</td>\n",
       "      <td>84795.0</td>\n",
       "      <td>10322.0</td>\n",
       "      <td>100.090</td>\n",
       "      <td>1122.34</td>\n",
       "      <td>6.68</td>\n",
       "      <td>1.78</td>\n",
       "      <td>0.01</td>\n",
       "      <td>8.72</td>\n",
       "      <td>...</td>\n",
       "      <td>11.0</td>\n",
       "      <td>1706.212667</td>\n",
       "      <td>28741.315333</td>\n",
       "      <td>22755.312333</td>\n",
       "      <td>67632.875333</td>\n",
       "      <td>13183.0</td>\n",
       "      <td>117.96</td>\n",
       "      <td>8590.0</td>\n",
       "      <td>972689</td>\n",
       "      <td>0.12</td>\n",
       "    </tr>\n",
       "    <tr>\n",
       "      <th>1769</th>\n",
       "      <td>2020-11-04</td>\n",
       "      <td>수요일</td>\n",
       "      <td>74970.5</td>\n",
       "      <td>10178.0</td>\n",
       "      <td>100.090</td>\n",
       "      <td>1121.22</td>\n",
       "      <td>5.43</td>\n",
       "      <td>0.00</td>\n",
       "      <td>0.00</td>\n",
       "      <td>12.22</td>\n",
       "      <td>...</td>\n",
       "      <td>11.0</td>\n",
       "      <td>1706.212667</td>\n",
       "      <td>28741.315333</td>\n",
       "      <td>22755.312333</td>\n",
       "      <td>67632.875333</td>\n",
       "      <td>13183.0</td>\n",
       "      <td>117.96</td>\n",
       "      <td>8590.0</td>\n",
       "      <td>972689</td>\n",
       "      <td>0.12</td>\n",
       "    </tr>\n",
       "    <tr>\n",
       "      <th>1770</th>\n",
       "      <td>NaT</td>\n",
       "      <td>NaN</td>\n",
       "      <td>NaN</td>\n",
       "      <td>NaN</td>\n",
       "      <td>NaN</td>\n",
       "      <td>NaN</td>\n",
       "      <td>NaN</td>\n",
       "      <td>NaN</td>\n",
       "      <td>NaN</td>\n",
       "      <td>NaN</td>\n",
       "      <td>...</td>\n",
       "      <td>NaN</td>\n",
       "      <td>NaN</td>\n",
       "      <td>NaN</td>\n",
       "      <td>NaN</td>\n",
       "      <td>NaN</td>\n",
       "      <td>NaN</td>\n",
       "      <td>NaN</td>\n",
       "      <td>NaN</td>\n",
       "      <td>972689</td>\n",
       "      <td>0.12</td>\n",
       "    </tr>\n",
       "  </tbody>\n",
       "</table>\n",
       "<p>1771 rows × 21 columns</p>\n",
       "</div>"
      ],
      "text/plain": [
       "           date   요일  샤인마스캇_거래량(kg)  샤인마스캇_가격(원/kg)  소비자물가지수   자동차용경유  \\\n",
       "0    2016-01-01  금요일            0.0             0.0   95.232  1188.71   \n",
       "1    2016-01-02  토요일            0.0             0.0   95.232  1187.91   \n",
       "2    2016-01-03  일요일            0.0             0.0   95.232  1187.10   \n",
       "3    2016-01-04  월요일            0.0             0.0   95.232  1185.85   \n",
       "4    2016-01-05  화요일            0.0             0.0   95.232  1184.01   \n",
       "...         ...  ...            ...             ...      ...      ...   \n",
       "1766 2020-11-01  일요일            0.0             0.0  100.090  1124.51   \n",
       "1767 2020-11-02  월요일        88354.3         10205.0  100.090  1123.70   \n",
       "1768 2020-11-03  화요일        84795.0         10322.0  100.090  1122.34   \n",
       "1769 2020-11-04  수요일        74970.5         10178.0  100.090  1121.22   \n",
       "1770        NaT  NaN            NaN             NaN      NaN      NaN   \n",
       "\n",
       "      재배지역_평균기온  재배지역_평균운량  재배지역_일강수량  재배지역_일교차  ...     월       수출(중량)  \\\n",
       "0          0.50       0.00       0.00     13.40  ...   1.0   264.680645   \n",
       "1          2.29       0.00       0.00     14.18  ...   1.0   264.680645   \n",
       "2          3.59       0.00       0.00     16.56  ...   1.0   264.680645   \n",
       "3          6.17       0.00       0.00     10.06  ...   1.0   264.680645   \n",
       "4          1.53       0.00       0.00      6.04  ...   1.0   264.680645   \n",
       "...         ...        ...        ...       ...  ...   ...          ...   \n",
       "1766      11.45       9.91       2.53      3.41  ...  11.0  1706.212667   \n",
       "1767      11.40       5.50       0.00     13.69  ...  11.0  1706.212667   \n",
       "1768       6.68       1.78       0.01      8.72  ...  11.0  1706.212667   \n",
       "1769       5.43       0.00       0.00     12.22  ...  11.0  1706.212667   \n",
       "1770        NaN        NaN        NaN       NaN  ...   NaN          NaN   \n",
       "\n",
       "            수출(금액)         수입(중량)         수입(금액)  재배면적(ha)  블루베리_거래물량    최저시급  \\\n",
       "0       728.161290  117936.225806  340002.451613   14946.0      53.55  6030.0   \n",
       "1       728.161290  117936.225806  340002.451613   14946.0      53.55  6030.0   \n",
       "2       728.161290  117936.225806  340002.451613   14946.0      53.55  6030.0   \n",
       "3       728.161290  117936.225806  340002.451613   14946.0      53.55  6030.0   \n",
       "4       728.161290  117936.225806  340002.451613   14946.0      53.55  6030.0   \n",
       "...            ...            ...            ...       ...        ...     ...   \n",
       "1766  28741.315333   22755.312333   67632.875333   13183.0     117.96  8590.0   \n",
       "1767  28741.315333   22755.312333   67632.875333   13183.0     117.96  8590.0   \n",
       "1768  28741.315333   22755.312333   67632.875333   13183.0     117.96  8590.0   \n",
       "1769  28741.315333   22755.312333   67632.875333   13183.0     117.96  8590.0   \n",
       "1770           NaN            NaN            NaN       NaN        NaN     NaN   \n",
       "\n",
       "      경제활동인구  실업률 (%)  \n",
       "0     918310     0.13  \n",
       "1     918310     0.13  \n",
       "2     918310     0.13  \n",
       "3     918310     0.13  \n",
       "4     918310     0.13  \n",
       "...      ...      ...  \n",
       "1766  972689     0.12  \n",
       "1767  972689     0.12  \n",
       "1768  972689     0.12  \n",
       "1769  972689     0.12  \n",
       "1770  972689     0.12  \n",
       "\n",
       "[1771 rows x 21 columns]"
      ]
     },
     "execution_count": 851,
     "metadata": {},
     "output_type": "execute_result"
    }
   ],
   "source": [
    "# 수출입 데이터 합치기\n",
    "shinemuscat2 = pd.concat([shinemuscat2, shinemuscat_export2],axis = 1)\n",
    "\n",
    "# 재배면적 데이터 합치기\n",
    "shinemuscat2 = pd.merge(shinemuscat2, shinemuscat_product2, on=['년'])\n",
    "\n",
    "# 블루베리 데이터 합치기\n",
    "shinemuscat2 = pd.concat([shinemuscat2, shinemuscat_blueberry3], axis = 1 )\n",
    "\n",
    "# 최저시급 데이터 합치기\n",
    "shinemuscat2 = pd.merge(shinemuscat2, hourly_wage, on = ['년'])\n",
    "\n",
    "# 실업률 데이터 합치기\n",
    "shinemuscat2 = pd.concat([shinemuscat2, economy3], axis = 1)\n",
    "\n",
    "shinemuscat2"
   ]
  },
  {
   "cell_type": "code",
   "execution_count": 852,
   "id": "f31a21ef",
   "metadata": {
    "ExecuteTime": {
     "end_time": "2022-10-12T10:32:16.469231Z",
     "start_time": "2022-10-12T10:32:16.461588Z"
    }
   },
   "outputs": [],
   "source": [
    "shinemuscat2.drop(columns=['년', '월'], inplace=True)\n",
    "shinemuscat2.drop([1770], inplace=True)"
   ]
  },
  {
   "cell_type": "code",
   "execution_count": 857,
   "id": "58e63ff4",
   "metadata": {
    "ExecuteTime": {
     "end_time": "2022-10-12T10:35:03.715212Z",
     "start_time": "2022-10-12T10:35:03.682975Z"
    }
   },
   "outputs": [
    {
     "data": {
      "text/html": [
       "<div>\n",
       "<style scoped>\n",
       "    .dataframe tbody tr th:only-of-type {\n",
       "        vertical-align: middle;\n",
       "    }\n",
       "\n",
       "    .dataframe tbody tr th {\n",
       "        vertical-align: top;\n",
       "    }\n",
       "\n",
       "    .dataframe thead th {\n",
       "        text-align: right;\n",
       "    }\n",
       "</style>\n",
       "<table border=\"1\" class=\"dataframe\">\n",
       "  <thead>\n",
       "    <tr style=\"text-align: right;\">\n",
       "      <th></th>\n",
       "      <th>date</th>\n",
       "      <th>요일</th>\n",
       "      <th>샤인마스캇_거래량(kg)</th>\n",
       "      <th>샤인마스캇_가격(원/kg)</th>\n",
       "      <th>소비자물가지수</th>\n",
       "      <th>자동차용경유</th>\n",
       "      <th>재배지역_평균기온</th>\n",
       "      <th>재배지역_평균운량</th>\n",
       "      <th>재배지역_일강수량</th>\n",
       "      <th>재배지역_일교차</th>\n",
       "      <th>수출(중량)</th>\n",
       "      <th>수출(금액)</th>\n",
       "      <th>수입(중량)</th>\n",
       "      <th>수입(금액)</th>\n",
       "      <th>재배면적(ha)</th>\n",
       "      <th>블루베리_거래물량(kg)</th>\n",
       "      <th>최저시급</th>\n",
       "      <th>경제활동인구</th>\n",
       "      <th>실업률 (%)</th>\n",
       "    </tr>\n",
       "  </thead>\n",
       "  <tbody>\n",
       "    <tr>\n",
       "      <th>0</th>\n",
       "      <td>2016-01-01</td>\n",
       "      <td>금요일</td>\n",
       "      <td>0.0</td>\n",
       "      <td>0.0</td>\n",
       "      <td>95.232</td>\n",
       "      <td>1188.71</td>\n",
       "      <td>0.50</td>\n",
       "      <td>0.0</td>\n",
       "      <td>0.0</td>\n",
       "      <td>13.40</td>\n",
       "      <td>264.680645</td>\n",
       "      <td>728.16129</td>\n",
       "      <td>117936.225806</td>\n",
       "      <td>340002.451613</td>\n",
       "      <td>14946.0</td>\n",
       "      <td>53.55</td>\n",
       "      <td>6030</td>\n",
       "      <td>918310</td>\n",
       "      <td>0.13</td>\n",
       "    </tr>\n",
       "    <tr>\n",
       "      <th>1</th>\n",
       "      <td>2016-01-02</td>\n",
       "      <td>토요일</td>\n",
       "      <td>0.0</td>\n",
       "      <td>0.0</td>\n",
       "      <td>95.232</td>\n",
       "      <td>1187.91</td>\n",
       "      <td>2.29</td>\n",
       "      <td>0.0</td>\n",
       "      <td>0.0</td>\n",
       "      <td>14.18</td>\n",
       "      <td>264.680645</td>\n",
       "      <td>728.16129</td>\n",
       "      <td>117936.225806</td>\n",
       "      <td>340002.451613</td>\n",
       "      <td>14946.0</td>\n",
       "      <td>53.55</td>\n",
       "      <td>6030</td>\n",
       "      <td>918310</td>\n",
       "      <td>0.13</td>\n",
       "    </tr>\n",
       "  </tbody>\n",
       "</table>\n",
       "</div>"
      ],
      "text/plain": [
       "        date   요일  샤인마스캇_거래량(kg)  샤인마스캇_가격(원/kg)  소비자물가지수   자동차용경유  재배지역_평균기온  \\\n",
       "0 2016-01-01  금요일            0.0             0.0   95.232  1188.71       0.50   \n",
       "1 2016-01-02  토요일            0.0             0.0   95.232  1187.91       2.29   \n",
       "\n",
       "   재배지역_평균운량  재배지역_일강수량  재배지역_일교차      수출(중량)     수출(금액)         수입(중량)  \\\n",
       "0        0.0        0.0     13.40  264.680645  728.16129  117936.225806   \n",
       "1        0.0        0.0     14.18  264.680645  728.16129  117936.225806   \n",
       "\n",
       "          수입(금액)  재배면적(ha)  블루베리_거래물량(kg)  최저시급  경제활동인구  실업률 (%)  \n",
       "0  340002.451613   14946.0          53.55  6030  918310     0.13  \n",
       "1  340002.451613   14946.0          53.55  6030  918310     0.13  "
      ]
     },
     "metadata": {},
     "output_type": "display_data"
    },
    {
     "data": {
      "text/html": [
       "<div>\n",
       "<style scoped>\n",
       "    .dataframe tbody tr th:only-of-type {\n",
       "        vertical-align: middle;\n",
       "    }\n",
       "\n",
       "    .dataframe tbody tr th {\n",
       "        vertical-align: top;\n",
       "    }\n",
       "\n",
       "    .dataframe thead th {\n",
       "        text-align: right;\n",
       "    }\n",
       "</style>\n",
       "<table border=\"1\" class=\"dataframe\">\n",
       "  <thead>\n",
       "    <tr style=\"text-align: right;\">\n",
       "      <th></th>\n",
       "      <th>date</th>\n",
       "      <th>요일</th>\n",
       "      <th>샤인마스캇_거래량(kg)</th>\n",
       "      <th>샤인마스캇_가격(원/kg)</th>\n",
       "      <th>소비자물가지수</th>\n",
       "      <th>자동차용경유</th>\n",
       "      <th>재배지역_평균기온</th>\n",
       "      <th>재배지역_평균운량</th>\n",
       "      <th>재배지역_일강수량</th>\n",
       "      <th>재배지역_일교차</th>\n",
       "      <th>수출(중량)</th>\n",
       "      <th>수출(금액)</th>\n",
       "      <th>수입(중량)</th>\n",
       "      <th>수입(금액)</th>\n",
       "      <th>재배면적(ha)</th>\n",
       "      <th>블루베리_거래물량(kg)</th>\n",
       "      <th>최저시급</th>\n",
       "      <th>경제활동인구</th>\n",
       "      <th>실업률 (%)</th>\n",
       "    </tr>\n",
       "  </thead>\n",
       "  <tbody>\n",
       "    <tr>\n",
       "      <th>1768</th>\n",
       "      <td>2020-11-03</td>\n",
       "      <td>화요일</td>\n",
       "      <td>84795.0</td>\n",
       "      <td>10322.0</td>\n",
       "      <td>100.09</td>\n",
       "      <td>1122.34</td>\n",
       "      <td>6.68</td>\n",
       "      <td>1.78</td>\n",
       "      <td>0.01</td>\n",
       "      <td>8.72</td>\n",
       "      <td>1706.212667</td>\n",
       "      <td>28741.315333</td>\n",
       "      <td>22755.312333</td>\n",
       "      <td>67632.875333</td>\n",
       "      <td>13183.0</td>\n",
       "      <td>117.96</td>\n",
       "      <td>8590</td>\n",
       "      <td>972689</td>\n",
       "      <td>0.12</td>\n",
       "    </tr>\n",
       "    <tr>\n",
       "      <th>1769</th>\n",
       "      <td>2020-11-04</td>\n",
       "      <td>수요일</td>\n",
       "      <td>74970.5</td>\n",
       "      <td>10178.0</td>\n",
       "      <td>100.09</td>\n",
       "      <td>1121.22</td>\n",
       "      <td>5.43</td>\n",
       "      <td>0.00</td>\n",
       "      <td>0.00</td>\n",
       "      <td>12.22</td>\n",
       "      <td>1706.212667</td>\n",
       "      <td>28741.315333</td>\n",
       "      <td>22755.312333</td>\n",
       "      <td>67632.875333</td>\n",
       "      <td>13183.0</td>\n",
       "      <td>117.96</td>\n",
       "      <td>8590</td>\n",
       "      <td>972689</td>\n",
       "      <td>0.12</td>\n",
       "    </tr>\n",
       "  </tbody>\n",
       "</table>\n",
       "</div>"
      ],
      "text/plain": [
       "           date   요일  샤인마스캇_거래량(kg)  샤인마스캇_가격(원/kg)  소비자물가지수   자동차용경유  \\\n",
       "1768 2020-11-03  화요일        84795.0         10322.0   100.09  1122.34   \n",
       "1769 2020-11-04  수요일        74970.5         10178.0   100.09  1121.22   \n",
       "\n",
       "      재배지역_평균기온  재배지역_평균운량  재배지역_일강수량  재배지역_일교차       수출(중량)        수출(금액)  \\\n",
       "1768       6.68       1.78       0.01      8.72  1706.212667  28741.315333   \n",
       "1769       5.43       0.00       0.00     12.22  1706.212667  28741.315333   \n",
       "\n",
       "            수입(중량)        수입(금액)  재배면적(ha)  블루베리_거래물량(kg)  최저시급  경제활동인구  \\\n",
       "1768  22755.312333  67632.875333   13183.0         117.96  8590  972689   \n",
       "1769  22755.312333  67632.875333   13183.0         117.96  8590  972689   \n",
       "\n",
       "      실업률 (%)  \n",
       "1768     0.12  \n",
       "1769     0.12  "
      ]
     },
     "metadata": {},
     "output_type": "display_data"
    },
    {
     "name": "stdout",
     "output_type": "stream",
     "text": [
      "(1770, 19)\n"
     ]
    }
   ],
   "source": [
    "shinemuscat2.rename(columns={'블루베리_거래물량':'블루베리_거래물량(kg)'}, inplace=True)\n",
    "shinemuscat2 = shinemuscat2.astype({'최저시급':'int64'})\n",
    "\n",
    "display(shinemuscat2.head(2))\n",
    "display(shinemuscat2.tail(2))\n",
    "print(shinemuscat2.shape)"
   ]
  },
  {
   "cell_type": "code",
   "execution_count": 858,
   "id": "1c1f42cc",
   "metadata": {
    "ExecuteTime": {
     "end_time": "2022-10-12T10:35:23.251162Z",
     "start_time": "2022-10-12T10:35:23.198005Z"
    }
   },
   "outputs": [],
   "source": [
    "shinemuscat2.to_csv(processed_path+'shinemuscat_실업률추가.csv', index = False)"
   ]
  },
  {
   "cell_type": "code",
   "execution_count": 859,
   "id": "e95ec3ca",
   "metadata": {
    "ExecuteTime": {
     "end_time": "2022-10-12T10:35:25.007796Z",
     "start_time": "2022-10-12T10:35:24.988487Z"
    }
   },
   "outputs": [
    {
     "name": "stdout",
     "output_type": "stream",
     "text": [
      "<class 'pandas.core.frame.DataFrame'>\n",
      "Int64Index: 1770 entries, 0 to 1769\n",
      "Data columns (total 19 columns):\n",
      " #   Column          Non-Null Count  Dtype         \n",
      "---  ------          --------------  -----         \n",
      " 0   date            1770 non-null   datetime64[ns]\n",
      " 1   요일              1770 non-null   object        \n",
      " 2   샤인마스캇_거래량(kg)   1770 non-null   float64       \n",
      " 3   샤인마스캇_가격(원/kg)  1770 non-null   float64       \n",
      " 4   소비자물가지수         1770 non-null   float64       \n",
      " 5   자동차용경유          1770 non-null   float64       \n",
      " 6   재배지역_평균기온       1770 non-null   float64       \n",
      " 7   재배지역_평균운량       1770 non-null   float64       \n",
      " 8   재배지역_일강수량       1770 non-null   float64       \n",
      " 9   재배지역_일교차        1770 non-null   float64       \n",
      " 10  수출(중량)          1770 non-null   float64       \n",
      " 11  수출(금액)          1770 non-null   float64       \n",
      " 12  수입(중량)          1770 non-null   float64       \n",
      " 13  수입(금액)          1770 non-null   float64       \n",
      " 14  재배면적(ha)        1770 non-null   float64       \n",
      " 15  블루베리_거래물량(kg)   1770 non-null   float64       \n",
      " 16  최저시급            1770 non-null   int64         \n",
      " 17  경제활동인구          1770 non-null   int64         \n",
      " 18  실업률 (%)         1770 non-null   float64       \n",
      "dtypes: datetime64[ns](1), float64(15), int64(2), object(1)\n",
      "memory usage: 276.6+ KB\n"
     ]
    }
   ],
   "source": [
    "shinemuscat2.info()"
   ]
  },
  {
   "cell_type": "code",
   "execution_count": 860,
   "id": "78e84128",
   "metadata": {
    "ExecuteTime": {
     "end_time": "2022-10-12T10:35:27.494001Z",
     "start_time": "2022-10-12T10:35:27.479213Z"
    }
   },
   "outputs": [
    {
     "name": "stdout",
     "output_type": "stream",
     "text": [
      "<class 'pandas.core.frame.DataFrame'>\n",
      "Int64Index: 1770 entries, 0 to 1769\n",
      "Data columns (total 19 columns):\n",
      " #   Column         Non-Null Count  Dtype         \n",
      "---  ------         --------------  -----         \n",
      " 0   date           1770 non-null   datetime64[ns]\n",
      " 1   요일             1770 non-null   object        \n",
      " 2   캠벨얼리_거래량(kg)   1770 non-null   float64       \n",
      " 3   캠벨얼리_가격(원/kg)  1770 non-null   float64       \n",
      " 4   소비자물가지수        1770 non-null   float64       \n",
      " 5   자동차용경유         1770 non-null   float64       \n",
      " 6   재배지역_평균기온      1770 non-null   float64       \n",
      " 7   재배지역_평균운량      1770 non-null   float64       \n",
      " 8   재배지역_일강수량      1770 non-null   float64       \n",
      " 9   재배지역_일교차       1770 non-null   float64       \n",
      " 10  샤인마스캇_거래량(kg)  1770 non-null   float64       \n",
      " 11  수출(중량)         1770 non-null   float64       \n",
      " 12  수출(금액)         1770 non-null   float64       \n",
      " 13  수입(중량)         1770 non-null   float64       \n",
      " 14  수입(금액)         1770 non-null   float64       \n",
      " 15  재배면적(ha)       1770 non-null   float64       \n",
      " 16  최저시급           1770 non-null   float64       \n",
      " 17  경제활동인구         1770 non-null   int64         \n",
      " 18  실업률 (%)        1770 non-null   float64       \n",
      "dtypes: datetime64[ns](1), float64(16), int64(1), object(1)\n",
      "memory usage: 276.6+ KB\n"
     ]
    }
   ],
   "source": [
    "grape2.info()"
   ]
  }
 ],
 "metadata": {
  "kernelspec": {
   "display_name": "Python 3 (ipykernel)",
   "language": "python",
   "name": "python3"
  },
  "language_info": {
   "codemirror_mode": {
    "name": "ipython",
    "version": 3
   },
   "file_extension": ".py",
   "mimetype": "text/x-python",
   "name": "python",
   "nbconvert_exporter": "python",
   "pygments_lexer": "ipython3",
   "version": "3.8.13"
  }
 },
 "nbformat": 4,
 "nbformat_minor": 5
}
