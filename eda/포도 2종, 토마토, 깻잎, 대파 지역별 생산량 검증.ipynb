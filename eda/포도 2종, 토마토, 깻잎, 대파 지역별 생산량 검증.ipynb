{
 "cells": [
  {
   "cell_type": "code",
   "execution_count": 1,
   "id": "f849287f",
   "metadata": {},
   "outputs": [],
   "source": [
    "from numpy import array\n",
    "import pandas as pd\n",
    "import numpy as np\n",
    "import math\n",
    "import os\n",
    "from tqdm import tqdm"
   ]
  },
  {
   "cell_type": "code",
   "execution_count": 2,
   "id": "a43aa18d",
   "metadata": {},
   "outputs": [
    {
     "name": "stdout",
     "output_type": "stream",
     "text": [
      "['AT_TSALET_ALL_201807.csv', 'AT_TSALET_ALL_201608.csv', 'AT_TSALET_ALL_201609.csv', 'AT_TSALET_ALL_201806.csv', 'AT_TSALET_ALL_201812.csv', 'AT_TSALET_ALL_201804.csv', 'AT_TSALET_ALL_201810.csv', 'AT_TSALET_ALL_201811.csv', 'AT_TSALET_ALL_201805.csv', 'AT_TSALET_ALL_201801.csv', '.DS_Store', 'AT_TSALET_ALL_201802.csv', 'AT_TSALET_ALL_201803.csv', 'AT_TSALET_ALL_201904.csv', 'AT_TSALET_ALL_201910.csv', 'AT_TSALET_ALL_202001.csv', 'AT_TSALET_ALL_201911.csv', 'AT_TSALET_ALL_201905.csv', 'AT_TSALET_ALL_201907.csv', 'AT_TSALET_ALL_201708.csv', 'AT_TSALET_ALL_202003.csv', 'AT_TSALET_ALL_202002.csv', 'AT_TSALET_ALL_201709.csv', 'AT_TSALET_ALL_201906.csv', 'AT_TSALET_ALL_201912.csv', 'AT_TSALET_ALL_201902.csv', 'AT_TSALET_ALL_202006.csv', 'AT_TSALET_ALL_202007.csv', 'AT_TSALET_ALL_201903.csv', 'AT_TSALET_ALL_201901.csv', 'AT_TSALET_ALL_202005.csv', 'AT_TSALET_ALL_202004.csv', 'AT_TSALET_ALL_201702.csv', 'AT_TSALET_ALL_202009.csv', 'AT_TSALET_ALL_202008.csv', 'AT_TSALET_ALL_201703.csv', 'AT_TSALET_ALL_201701.csv', 'AT_TSALET_ALL_201710.csv', 'AT_TSALET_ALL_201704.csv', 'AT_TSALET_ALL_201705.csv', 'AT_TSALET_ALL_201711.csv', 'AT_TSALET_ALL_201908.csv', 'AT_TSALET_ALL_201707.csv', 'AT_TSALET_ALL_201712.csv', 'AT_TSALET_ALL_201706.csv', 'AT_TSALET_ALL_201909.csv', 'AT_TSALET_ALL_201601.csv', 'AT_TSALET_ALL_201602.csv', 'AT_TSALET_ALL_201603.csv', 'AT_TSALET_ALL_201808.csv', 'AT_TSALET_ALL_201607.csv', 'AT_TSALET_ALL_201612.csv', 'AT_TSALET_ALL_201606.csv', 'AT_TSALET_ALL_201809.csv', 'AT_TSALET_ALL_201610.csv', 'AT_TSALET_ALL_201604.csv', 'AT_TSALET_ALL_201605.csv', 'AT_TSALET_ALL_201611.csv']\n"
     ]
    }
   ],
   "source": [
    "arr = os.listdir('./Desktop/농산물가격예측/public_data/train_AT_TSALET_ALL/')\n",
    "print(arr)"
   ]
  },
  {
   "cell_type": "code",
   "execution_count": 3,
   "id": "2b6b73e9",
   "metadata": {},
   "outputs": [
    {
     "name": "stderr",
     "output_type": "stream",
     "text": [
      "100%|█████████████████████████████████████████████| 9/9 [00:25<00:00,  2.83s/it]\n"
     ]
    }
   ],
   "source": [
    "filename_list = arr\n",
    "filename_list_2020 = []\n",
    "for filename in filename_list:\n",
    "    if '2020' in filename:\n",
    "        filename_list_2020.append(filename)\n",
    "        \n",
    "path = './Desktop/농산물가격예측/public_data/train_AT_TSALET_ALL/'\n",
    "df_list = []\n",
    "for filename in tqdm(filename_list_2020):\n",
    "    df = pd.read_csv(path + filename)\n",
    "    df_list.append(df)\n",
    "    \n",
    "data= pd.concat(df_list, sort= False).reset_index(drop=True)"
   ]
  },
  {
   "cell_type": "code",
   "execution_count": 4,
   "id": "fff27e27",
   "metadata": {},
   "outputs": [],
   "source": [
    "# 이 데이터 만든 사람의 상식 수준이 의심되는 부분 1\n",
    "data['SAN_NM'] = data['SAN_NM'].str.replace('경북', '경상북도')\n",
    "data['SAN_NM'] = data['SAN_NM'].str.replace('경남', '경상남도')\n",
    "data['SAN_NM'] = data['SAN_NM'].str.replace('전북', '전라북도')\n",
    "data['SAN_NM'] = data['SAN_NM'].str.replace('전남', '전라남도')\n",
    "data['SAN_NM'] = data['SAN_NM'].str.replace('충북', '충청북도')\n",
    "data['SAN_NM'] = data['SAN_NM'].str.replace('충남', '충청남도')"
   ]
  },
  {
   "cell_type": "code",
   "execution_count": 5,
   "id": "1d505d9b",
   "metadata": {},
   "outputs": [],
   "source": [
    "# 이 데이터 만든 사람의 상식 수준이 의심되는 부분 2\n",
    "data['SAN_NM'] = data['SAN_NM'].str.replace('광주광역시', '광주')\n",
    "data['SAN_NM'] = data['SAN_NM'].str.replace('부산광역시', '부산')\n",
    "data['SAN_NM'] = data['SAN_NM'].str.replace('대구광역시', '대구')\n",
    "data['SAN_NM'] = data['SAN_NM'].str.replace('대전광역시', '대전')\n",
    "data['SAN_NM'] = data['SAN_NM'].str.replace('울산광역시', '울산')\n",
    "data['SAN_NM'] = data['SAN_NM'].str.replace('인천광역시', '인천')"
   ]
  },
  {
   "cell_type": "code",
   "execution_count": 6,
   "id": "ba331f66",
   "metadata": {},
   "outputs": [],
   "source": [
    "# 이 데이터 만든 사람의 상식 수준이 의심되는 부분 3\n",
    "data['SAN_NM'] = data['SAN_NM'].str.replace('강원도', '강원')\n",
    "data['SAN_NM'] = data['SAN_NM'].str.replace('경기도', '경기')\n",
    "data['SAN_NM'] = data['SAN_NM'].str.replace('서울특별시', '서울')"
   ]
  },
  {
   "cell_type": "code",
   "execution_count": 52,
   "id": "77eec17b",
   "metadata": {},
   "outputs": [],
   "source": [
    "# data.loc[data['SAN_NM'].str.contains('부산',na = True), 'SAN_NM'] = '부산'"
   ]
  },
  {
   "cell_type": "code",
   "execution_count": 7,
   "id": "98f89cc3",
   "metadata": {},
   "outputs": [],
   "source": [
    "# 토마토\n",
    "tomato = data[(data.PUM_NM == '토마토')]\n",
    "# 캠벨얼리\n",
    "grapes = data[(data.KIND_NM == '캠벨얼리')]\n",
    "# 샤인머스캇\n",
    "shine = data[(data.KIND_NM == '샤인마스캇')]"
   ]
  },
  {
   "cell_type": "code",
   "execution_count": 53,
   "id": "a9677f20",
   "metadata": {},
   "outputs": [],
   "source": [
    "# 대파\n",
    "bigblue = data[(data.KIND_NM == '대파')]\n",
    "# 깻잎\n",
    "loveleaf = data[(data.KIND_NM == '깻잎')]"
   ]
  },
  {
   "cell_type": "markdown",
   "id": "b765eb67",
   "metadata": {},
   "source": [
    "# QTY가 물량이라고 하길래 SAN_NM 같은 것끼리 QTY 합 구한다면?(아닐 가능성이 높아서 주석 처리)"
   ]
  },
  {
   "cell_type": "code",
   "execution_count": 27,
   "id": "129d136d",
   "metadata": {},
   "outputs": [
    {
     "name": "stdout",
     "output_type": "stream",
     "text": [
      "[['부산 강서구', 2485919.0], ['전라남도 화순군', 781430.0], ['경상북도 경주시', 694654.0], ['부산', 682226.0], ['전라북도 장수군', 666171.0], ['강원 춘천시', 605052.0], ['강원 철원군', 523137.0], ['경상남도 김해시', 485813.0], ['부산 중구', 480120.0], ['경상남도 창녕군', 424112.0], ['경기 구리시', 377303.0], ['전라남도 보성군', 338383.0], ['대구', 333192.0], ['경상남도 진주시', 325286.0], ['서울', 302828.0], ['강원 인제군', 260337.0], ['전라북도 진안군', 251692.0], ['경상북도 군위군', 245620.0], ['충청남도 부여군', 218029.0], ['대구 달성군', 215473.0], ['경상남도 함안군', 209992.0], ['강원 평창군', 199592.0], ['강원 횡성군', 190451.0], ['전라남도 고흥군', 177920.0], ['경상남도 창원시', 171884.0], ['경상남도 합천군', 159018.0], ['충청남도 논산시', 158962.0], ['경상남도 밀양시', 150456.0], ['경상남도 고성군', 147233.0], ['강원 홍천군', 144924.0], ['전라남도 광양시', 140577.0], ['강원 화천군', 137293.0], ['강원 양구군', 125027.0], ['강원', 124644.0], ['경상북도 고령군', 121243.0], ['강원 영월군', 118062.0], ['경상남도 사천시', 110195.0], ['전라남도 순천시', 101386.0], ['충청남도 공주시', 100794.0], ['강원 정선군', 98312.0]]\n"
     ]
    }
   ],
   "source": [
    "# Creator = []\n",
    "# for x in tomato.SAN_NM.unique():\n",
    "#     Creator.append([x, tomato[tomato['SAN_NM'] == x]['QTY'].sum()])\n",
    "# Creator.sort(key=lambda x:-x[1])\n",
    "\n",
    "# Base = 0;y = 0\n",
    "# while Base < (tomato['QTY'].sum() * 0.8):\n",
    "#     Base += Creator[y][1]\n",
    "#     y += 1\n",
    "# print(Creator[:y])"
   ]
  },
  {
   "cell_type": "code",
   "execution_count": 35,
   "id": "2b2e1895",
   "metadata": {},
   "outputs": [
    {
     "data": {
      "text/plain": [
       "0.8028949211336536"
      ]
     },
     "execution_count": 35,
     "metadata": {},
     "output_type": "execute_result"
    }
   ],
   "source": [
    "# Base / (tomato['QTY'].sum())"
   ]
  },
  {
   "cell_type": "code",
   "execution_count": 50,
   "id": "55bb7b49",
   "metadata": {},
   "outputs": [
    {
     "name": "stdout",
     "output_type": "stream",
     "text": [
      "3648265.0\n",
      "1539696.0\n",
      "917863.0\n",
      "2183989.0\n",
      "1061517.0\n",
      "477785.0\n",
      "0\n",
      "2526831.0\n",
      "377303.0\n",
      "851493.0\n"
     ]
    }
   ],
   "source": [
    "# a = 0;b = 0;c = 0;d = 0;e = 0;f = 0;g = 0;h = 0;j = 0;k = 0\n",
    "# for i in range(40):\n",
    "#     if '부산' in Creator[i][0]:\n",
    "#         a += Creator[i][1]\n",
    "#     elif '전라남도' in Creator[i][0]:\n",
    "#         b += Creator[i][1]\n",
    "#     elif '전라북도' in Creator[i][0]:\n",
    "#         c += Creator[i][1]\n",
    "#     elif '경상남도' in Creator[i][0]:\n",
    "#         d += Creator[i][1]\n",
    "#     elif '경상북도' in Creator[i][0]:\n",
    "#         e += Creator[i][1]\n",
    "#     elif '충청남도' in Creator[i][0]:\n",
    "#         f += Creator[i][1]\n",
    "#     elif '충청북도' in Creator[i][0]:\n",
    "#         g += Creator[i][1]\n",
    "#     elif '강원' in Creator[i][0]:\n",
    "#         h += Creator[i][1]\n",
    "#     elif '경기' in Creator[i][0]:\n",
    "#         j += Creator[i][1]\n",
    "#     else:\n",
    "#         k += Creator[i][1]\n",
    "# print(a)\n",
    "# print(b)\n",
    "# print(c)\n",
    "# print(d)\n",
    "# print(e)\n",
    "# print(f)\n",
    "# print(g)\n",
    "# print(h)\n",
    "# print(j)\n",
    "# print(k)"
   ]
  },
  {
   "cell_type": "code",
   "execution_count": 41,
   "id": "03ddfa4a",
   "metadata": {},
   "outputs": [
    {
     "data": {
      "text/plain": [
       "False"
      ]
     },
     "execution_count": 41,
     "metadata": {},
     "output_type": "execute_result"
    }
   ],
   "source": [
    "# '장' in '강원 평창군'"
   ]
  },
  {
   "cell_type": "markdown",
   "id": "cc101eb9",
   "metadata": {},
   "source": [
    "# 현재 진행 중"
   ]
  },
  {
   "cell_type": "markdown",
   "id": "8df59169",
   "metadata": {},
   "source": [
    "토마토 지역 재배 비율 proof(1141003의 80%는 912802)"
   ]
  },
  {
   "cell_type": "code",
   "execution_count": 73,
   "id": "464af654",
   "metadata": {},
   "outputs": [
    {
     "data": {
      "text/plain": [
       "부산             290228\n",
       "전라북도 장수군        49367\n",
       "경상북도 경주시        47507\n",
       "강원 철원군          42965\n",
       "경상남도 김해시        34038\n",
       "강원 춘천시          31938\n",
       "경상남도 창녕군        25002\n",
       "대구              22115\n",
       "경상남도 진주시        21762\n",
       "전라남도 광양시        19226\n",
       "경기 구리시          18295\n",
       "강원 횡성군          15402\n",
       "전라남도 화순군        15142\n",
       "강원 영월군          15024\n",
       "서울              14133\n",
       "경상북도 군위군        14075\n",
       "대구 달성군          13890\n",
       "경상남도 창원시        12683\n",
       "강원 인제군          11360\n",
       "전라북도 진안군        11353\n",
       "경상북도 고령군        11288\n",
       "경상남도 함안군        11227\n",
       "경상북도 포항시 북구     10830\n",
       "경상남도 밀양시        10662\n",
       "전라남도 순천시        10045\n",
       "광주 북구            9946\n",
       "강원               9587\n",
       "강원 정선군           9514\n",
       "전라남도 보성군         9480\n",
       "충청남도 부여군         9006\n",
       "경상북도 예천군         8986\n",
       "경상북도 포항시         8887\n",
       "전라남도 여수시         8740\n",
       "전라북도 무주군         8525\n",
       "전라남도 담양군         8083\n",
       "전라남도 고흥군         7978\n",
       "경상북도 포항시 남구      7358\n",
       "강원 평창군           7356\n",
       "강원 양구군           7216\n",
       "전라남도 장성군         7104\n",
       "강원 홍천군           7051\n",
       "Name: SAN_NM, dtype: int64"
      ]
     },
     "execution_count": 73,
     "metadata": {},
     "output_type": "execute_result"
    }
   ],
   "source": [
    "# 토마토 proof(1141003의 80%는 912802)\n",
    "i = 1\n",
    "while sum(tomato.SAN_NM.value_counts()[:i]) < (1141003 * 0.8):\n",
    "    i += 1\n",
    "tomato.SAN_NM.value_counts()[:i]"
   ]
  },
  {
   "cell_type": "code",
   "execution_count": 83,
   "id": "fcbc7970",
   "metadata": {},
   "outputs": [
    {
     "name": "stdout",
     "output_type": "stream",
     "text": [
      "전국에 대한 비율 :  0.7566807449235453\n",
      "부산 :  290228\n",
      "경남 창원(+김해,창녕,진주,함안,밀양,대구) :  151379\n",
      "강원도 춘천(+철원,홍천,인제,양구,평창,영월,정선,횡성) :  147736\n",
      "경북 경주(+포항,군위,예천,고령) :  108931\n",
      "광주(+화순,담양,장성,광양,순천,여수,고흥) :  95856\n",
      "전북 장수(+진안,무주) :  69245\n",
      "--------------------------------------------------\n",
      "부산 비율 :  0.3361552048646301\n",
      "경남 창원 비율 :  0.17533400897640075\n",
      "강원도 춘천 비율 :  0.17111452149992762\n",
      "경북 경주 비율 :  0.12616881424641668\n",
      "광주 비율 :  0.11102475749239901\n",
      "전북 장수 비율 :  0.08020269292022586\n"
     ]
    }
   ],
   "source": [
    "# 전라북도 : [장수] - 진안 - 무주 결합\n",
    "# 경상북도 : [경주] - 포항 - 군위 - 예천 - 고령 결합\n",
    "# 강원도 : 철원 - [춘천] - 홍천 - 인제 - 양구 - 평창 - 영월 - 정선 - 횡성 결합\n",
    "# 경상남도 : 김해 - [창원] - 창녕 - 진주 - 함안 - 밀양 결합\n",
    "# 대구 달성군 : 대구와 결합\n",
    "# 전라남도 : [광주] - 화순 - 담양 - 장성 - 광양 - 순천 - 여수 - 고흥 결합\n",
    "a = 290228\n",
    "b = 34038 + 25002 + 21762 + 12683 + 11227 + 10662 + 22115 + 13890\n",
    "c = 7356 + 7126 + 9514 + 7051 + 42965 + 31938 + 15402 + 15024 + 11360\n",
    "d = 47507 + 14075 + 11288 + 10830 + 8887 + 7358 + 8986\n",
    "e = 19226 + 15142 + 10045 + 9480 + 8740 + 8083 + 7978 + 7216 + 9946\n",
    "f = 49367 + 11353 + 8525\n",
    "Fin = a + b + c + d + e + f\n",
    "print('전국에 대한 비율 : ', Fin / 1141003)\n",
    "print('부산 : ', 290228)\n",
    "print('경남 창원(+김해,창녕,진주,함안,밀양,대구) : ', 34038 + 25002 + 21762 + 12683 + 11227 + 10662 + 22115 + 13890)\n",
    "print('강원도 춘천(+철원,홍천,인제,양구,평창,영월,정선,횡성) : ', 7356 + 7126 + 9514 + 7051 + 42965 + 31938 + 15402 + 15024 + 11360)\n",
    "print('경북 경주(+포항,군위,예천,고령) : ', 47507 + 14075 + 11288 + 10830 + 8887 + 7358 + 8986)\n",
    "print('광주(+화순,담양,장성,광양,순천,여수,고흥) : ', 19226 + 15142 + 10045 + 9480 + 8740 + 8083 + 7978 + 7216 + 9946)\n",
    "print('전북 장수(+진안,무주) : ', 49367 + 11353 + 8525)\n",
    "print('--------------------------------------------------')\n",
    "print('부산 비율 : ', a / Fin)\n",
    "print('경남 창원 비율 : ', b / Fin)\n",
    "print('강원도 춘천 비율 : ', c / Fin)\n",
    "print('경북 경주 비율 : ', d / Fin)\n",
    "print('광주 비율 : ', e / Fin)\n",
    "print('전북 장수 비율 : ', f / Fin)"
   ]
  },
  {
   "cell_type": "markdown",
   "id": "0b3b075a",
   "metadata": {},
   "source": [
    "캠벨얼리 지역 재배 비율 proof(226613의 80%는 181290)"
   ]
  },
  {
   "cell_type": "code",
   "execution_count": 65,
   "id": "e7c4596e",
   "metadata": {},
   "outputs": [
    {
     "data": {
      "text/plain": [
       "전라북도 남원시      44692\n",
       "경상북도 상주시      33618\n",
       "경기 화성시        25694\n",
       "충청북도 영동군      19957\n",
       "경상북도 김천시      14586\n",
       "경상남도 거창군       8916\n",
       "경기 안산시         7069\n",
       "충청북도 옥천군       6449\n",
       "전라북도 김제시       5322\n",
       "경기 구리시         4915\n",
       "경상북도 경산시       4314\n",
       "경상북도 영천시       4178\n",
       "경기 안산시 단원구     4024\n",
       "Name: SAN_NM, dtype: int64"
      ]
     },
     "execution_count": 65,
     "metadata": {},
     "output_type": "execute_result"
    }
   ],
   "source": [
    "i = 1\n",
    "while sum(grapes.SAN_NM.value_counts()[:i]) < (226613 * 0.8):\n",
    "    i += 1\n",
    "grapes.SAN_NM.value_counts()[:i]"
   ]
  },
  {
   "cell_type": "code",
   "execution_count": 80,
   "id": "355efbc4",
   "metadata": {},
   "outputs": [
    {
     "name": "stdout",
     "output_type": "stream",
     "text": [
      "전국에 대한 비율 :  0.7890941825932316\n",
      "경북 김천(+경산,영천,상주) :  56696\n",
      "전북 남원(+김제) :  50014\n",
      "경기도 화성시(+안산) :  36787\n",
      "충북 영동(+옥천) :  26406\n",
      "경남 거창 :  8916\n",
      "--------------------------------------------------\n",
      "경북 김천 비율 :  0.3170580307461735\n",
      "전북 남원 비율 :  0.27969063690100043\n",
      "경기도 화성시 비율 :  0.20572198703717168\n",
      "충북 영동 비율 :  0.14766887187603106\n",
      "경남 거창 비율 :  0.049860473439623305\n"
     ]
    }
   ],
   "source": [
    "# 경상북도 :  영천 - 경산 - 김천 - 상주 결합\n",
    "# 경기도 : 화성 - 안산 결합, 안산시 단원구는 안산으로 결합\n",
    "# 충청북도 : 영동 - 옥천 결합\n",
    "# 전라북도 : 남원 - 김제 결합\n",
    "a = 33618 + 14586 + 4314 + 4178\n",
    "b = 44692 + 5322\n",
    "c = 25694 + 7069 + 4024\n",
    "d = 19957 + 6449\n",
    "e = 8916\n",
    "Fin = a + b + c + d + e\n",
    "print('전국에 대한 비율 : ', Fin / 226613)\n",
    "print('경북 김천(+경산,영천,상주) : ', 33618 + 14586 + 4314 + 4178)\n",
    "print('전북 남원(+김제) : ', 44692 + 5322)\n",
    "print('경기도 화성시(+안산) : ', 25694 + 7069 + 4024)\n",
    "print('충북 영동(+옥천) : ', 19957 + 6449)\n",
    "print('경남 거창 : ', 8916)\n",
    "print('--------------------------------------------------')\n",
    "print('경북 김천 비율 : ', a / Fin)\n",
    "print('전북 남원 비율 : ', b / Fin)\n",
    "print('경기도 화성시 비율 : ', c / Fin)\n",
    "print('충북 영동 비율 : ', d / Fin)\n",
    "print('경남 거창 비율 : ', e / Fin)"
   ]
  },
  {
   "cell_type": "markdown",
   "id": "3e853a6a",
   "metadata": {},
   "source": [
    "샤인머스캇 지역 재배 비율 proof(93206의 90%는 83885)"
   ]
  },
  {
   "cell_type": "code",
   "execution_count": 56,
   "id": "a7d76392",
   "metadata": {
    "scrolled": true
   },
   "outputs": [
    {
     "data": {
      "text/plain": [
       "경상북도 김천시    44365\n",
       "경상북도 영천시    11237\n",
       "경상북도 상주시     7383\n",
       "충청북도 영동군     4746\n",
       "경상북도 경산시     4212\n",
       "대구 북구        3252\n",
       "경상북도         2842\n",
       "충청남도 논산시     1404\n",
       "충청북도 옥천군     1237\n",
       "경상남도 거창군      955\n",
       "전라남도 장성군      891\n",
       "충청남도 천안시      883\n",
       "경상북도 성주군      839\n",
       "Name: SAN_NM, dtype: int64"
      ]
     },
     "execution_count": 56,
     "metadata": {},
     "output_type": "execute_result"
    }
   ],
   "source": [
    "i = 1\n",
    "while sum(shine.SAN_NM.value_counts()[:i]) < (93206 * 0.8):\n",
    "    i += 1\n",
    "shine.SAN_NM.value_counts()[:i]"
   ]
  },
  {
   "cell_type": "code",
   "execution_count": 59,
   "id": "cb899e86",
   "metadata": {},
   "outputs": [
    {
     "name": "stdout",
     "output_type": "stream",
     "text": [
      "전국에 대한 비율 :  0.815634186640345\n",
      "경북 김천(+상주, 걍 경상북도) :  54590\n",
      "경북 영천(+경산) :  15449\n",
      "충북 영동(+옥천) :  5983\n",
      "--------------------------------------------------\n",
      "경북 김천 비율 :  0.7180816079555918\n",
      "경북 영천 비율 :  0.2032174896740417\n",
      "충북 영동 비율 :  0.07870090237036648\n"
     ]
    }
   ],
   "source": [
    "# 경상북도 : 영천 - 경산 결합, 김천 - 상주 결합\n",
    "# 충청북도 : 영동 - 옥천 결합\n",
    "a = 44365 + 7383 + 2842\n",
    "b = 11237 + 4212\n",
    "c = 4746 + 1237\n",
    "Fin = a + b + c\n",
    "print('전국에 대한 비율 : ', Fin / 93206)\n",
    "print('경북 김천(+상주,걍 경상북도) : ', 44365 + 7383 + 2842)\n",
    "print('경북 영천(+경산) : ', 11237 + 4212)\n",
    "print('충북 영동(+옥천) : ', 4746 + 1237)\n",
    "print('--------------------------------------------------')\n",
    "print('경북 김천 비율 : ', a / Fin)\n",
    "print('경북 영천 비율 : ', b / Fin)\n",
    "print('충북 영동 비율 : ', c / Fin)"
   ]
  },
  {
   "cell_type": "markdown",
   "id": "7808b256",
   "metadata": {},
   "source": [
    "대파 지역 재배 비율 proof(4537의 90%는 4083)"
   ]
  },
  {
   "cell_type": "code",
   "execution_count": 69,
   "id": "b0c1437a",
   "metadata": {},
   "outputs": [
    {
     "data": {
      "text/plain": [
       "충청남도 천안시 동남구    1256\n",
       "전라남도 진도군         766\n",
       "충청북도 충주시         738\n",
       "충청남도 예산군         595\n",
       "충청남도 아산시         566\n",
       "전라남도 해남군         154\n",
       "전라북도 완주군          87\n",
       "Name: SAN_NM, dtype: int64"
      ]
     },
     "execution_count": 69,
     "metadata": {},
     "output_type": "execute_result"
    }
   ],
   "source": [
    "i = 1\n",
    "while sum(bigblue.SAN_NM.value_counts()[:i]) < (4537 * 0.9):\n",
    "    i += 1\n",
    "bigblue.SAN_NM.value_counts()[:i]"
   ]
  },
  {
   "cell_type": "code",
   "execution_count": 75,
   "id": "3e740eac",
   "metadata": {},
   "outputs": [
    {
     "name": "stdout",
     "output_type": "stream",
     "text": [
      "전국에 대한 비율 :  0.9047828961869077\n",
      "충남 천안(+예산,아산) :  2447\n",
      "전남 해남(+진도) :  918\n",
      "충북 충주 :  738\n",
      "--------------------------------------------------\n",
      "충남 천안 비율 :  0.5961023142509135\n",
      "전남 해남 비율 :  0.2241169305724726\n",
      "충북 충주 비율 :  0.17978075517661388\n"
     ]
    }
   ],
   "source": [
    "# 충청남도 : 천안 - 예산 - 아산 결합\n",
    "# 전라남도 : 진도 - 해남 결합\n",
    "a = 1256 + 595 + 596\n",
    "b = 766 + 154\n",
    "c = 738\n",
    "Fin = a + b + c\n",
    "print('전국에 대한 비율 : ', Fin / 4537)\n",
    "print('충남 천안(+예산,아산) : ', 1256 + 595 + 596)\n",
    "print('전남 해남(+진도) : ', 766 + 152)\n",
    "print('충북 충주 : ', 738)\n",
    "print('--------------------------------------------------')\n",
    "print('충남 천안 비율 : ', a / Fin)\n",
    "print('전남 해남 비율 : ', b / Fin)\n",
    "print('충북 충주 비율 : ', c / Fin)"
   ]
  },
  {
   "cell_type": "markdown",
   "id": "6e71172c",
   "metadata": {},
   "source": [
    "깻잎 지역 재배 비율 proof(70227의 90%는 63204)"
   ]
  },
  {
   "cell_type": "code",
   "execution_count": 73,
   "id": "ef2e7616",
   "metadata": {},
   "outputs": [
    {
     "data": {
      "text/plain": [
       "충청남도 금산군    33021\n",
       "경상남도 밀양시    30845\n",
       "Name: SAN_NM, dtype: int64"
      ]
     },
     "execution_count": 73,
     "metadata": {},
     "output_type": "execute_result"
    }
   ],
   "source": [
    "i = 1\n",
    "while sum(loveleaf.SAN_NM.value_counts()[:i]) < (70227 * 0.9):\n",
    "    i += 1\n",
    "loveleaf.SAN_NM.value_counts()[:i]"
   ]
  },
  {
   "cell_type": "code",
   "execution_count": 74,
   "id": "a53bd060",
   "metadata": {},
   "outputs": [
    {
     "name": "stdout",
     "output_type": "stream",
     "text": [
      "전국에 대한 비율 :  0.9094223019636323\n",
      "충남 금산 :  33021\n",
      "경남 밀양 :  30845\n",
      "--------------------------------------------------\n",
      "충남 금산 비율 :  0.517035668430777\n",
      "경남 밀양 비율 :  0.4829643315692231\n"
     ]
    }
   ],
   "source": [
    "# 개꿀\n",
    "a = 33021\n",
    "b = 30845\n",
    "Fin = a + b\n",
    "print('전국에 대한 비율 : ', Fin / 70227)\n",
    "print('충남 금산 : ', 33021)\n",
    "print('경남 밀양 : ', 30845)\n",
    "print('--------------------------------------------------')\n",
    "print('충남 금산 비율 : ', a / Fin)\n",
    "print('경남 밀양 비율 : ', b / Fin)"
   ]
  }
 ],
 "metadata": {
  "kernelspec": {
   "display_name": "Python 3 (ipykernel)",
   "language": "python",
   "name": "python3"
  },
  "language_info": {
   "codemirror_mode": {
    "name": "ipython",
    "version": 3
   },
   "file_extension": ".py",
   "mimetype": "text/x-python",
   "name": "python",
   "nbconvert_exporter": "python",
   "pygments_lexer": "ipython3",
   "version": "3.8.12"
  }
 },
 "nbformat": 4,
 "nbformat_minor": 5
}
