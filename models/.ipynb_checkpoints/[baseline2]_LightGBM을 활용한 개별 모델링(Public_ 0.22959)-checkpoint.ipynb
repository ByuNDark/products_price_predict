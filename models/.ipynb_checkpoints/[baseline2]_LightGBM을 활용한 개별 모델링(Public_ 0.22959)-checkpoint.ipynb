{
 "cells": [
  {
   "cell_type": "markdown",
   "metadata": {},
   "source": [
    "# Library Import & Settings"
   ]
  },
  {
   "cell_type": "code",
   "execution_count": 1,
   "metadata": {
    "ExecuteTime": {
     "end_time": "2022-10-04T10:17:38.585976Z",
     "start_time": "2022-10-04T10:17:38.177058Z"
    },
    "id": "xL_RCyaSlT9T"
   },
   "outputs": [],
   "source": [
    "import pandas as pd\n",
    "import numpy as np\n",
    "import lightgbm\n",
    "from tqdm import tqdm\n",
    "import warnings"
   ]
  },
  {
   "cell_type": "code",
   "execution_count": 2,
   "metadata": {
    "ExecuteTime": {
     "end_time": "2022-10-04T10:17:39.291856Z",
     "start_time": "2022-10-04T10:17:39.288755Z"
    }
   },
   "outputs": [],
   "source": [
    "# 경고 끄기\n",
    "pd.set_option('mode.chained_assignment', None)\n",
    "warnings.filterwarnings(action='ignore')"
   ]
  },
  {
   "cell_type": "markdown",
   "metadata": {},
   "source": [
    "# 전처리"
   ]
  },
  {
   "cell_type": "markdown",
   "metadata": {},
   "source": [
    "## lag_feature 추가 및 기타 전처리"
   ]
  },
  {
   "cell_type": "code",
   "execution_count": 3,
   "metadata": {
    "ExecuteTime": {
     "end_time": "2022-10-04T10:17:41.232454Z",
     "start_time": "2022-10-04T10:17:41.218839Z"
    }
   },
   "outputs": [],
   "source": [
    "def preprocessing(temp_df, pum, len_lag) :\n",
    "    # p_lag, q_lag 추가\n",
    "    for lag in range(1,len_lag+1) :\n",
    "      temp_df[f'p_lag_{lag}'] = -1\n",
    "      temp_df[f'q_lag_{lag}'] = -1\n",
    "      for index in range(lag, len(temp_df)) :\n",
    "        temp_df.loc[index, f'p_lag_{lag}'] = temp_df[f'{pum}_가격(원/kg)'][index-lag] #1일전, 2일전, ... 가격을 feature로 추가\n",
    "        temp_df.loc[index, f'q_lag_{lag}'] = temp_df[f'{pum}_거래량(kg)'][index-lag] #1일전, 2일전, ... 거래량을 feature로 추가\n",
    "\n",
    "    # month 추가\n",
    "    temp_df['date'] = pd.to_datetime(temp_df['date'])\n",
    "    temp_df['month'] = temp_df['date'].dt.month\n",
    "\n",
    "    # 예측 대상(1w,2w,4w) 추가\n",
    "    for week in ['1_week','2_week','4_week'] :\n",
    "      temp_df[week] = 0\n",
    "      n_week = int(week[0])\n",
    "      for index in range(len(temp_df)) :\n",
    "        try : temp_df[week][index] = temp_df[f'{pum}_가격(원/kg)'][index+7*n_week]\n",
    "        except : continue\n",
    "\n",
    "    # 불필요한 column 제거        \n",
    "    temp_df = temp_df.drop(['date',f'{pum}_거래량(kg)',f'{pum}_가격(원/kg)'], axis=1)\n",
    "    \n",
    "    return temp_df"
   ]
  },
  {
   "cell_type": "code",
   "execution_count": 6,
   "metadata": {
    "ExecuteTime": {
     "end_time": "2022-10-04T10:18:00.311922Z",
     "start_time": "2022-10-04T10:18:00.266355Z"
    }
   },
   "outputs": [
    {
     "name": "stdout",
     "output_type": "stream",
     "text": [
      "(1733, 44)\n",
      "(37, 44)\n",
      "(291, 44)\n",
      "(228, 22)\n"
     ]
    }
   ],
   "source": [
    "raw_path = '/Users/cge/Documents/yeardream/프로젝트/기업프로젝트/products_price_predict/data/raw/'\n",
    "processed_path = '/Users/cge/Documents/yeardream/프로젝트/기업프로젝트/products_price_predict/data/processed/'\n",
    "\n",
    "tomato = pd.read_csv(processed_path+'tomato.csv')\n",
    "grape = pd.read_csv(processed_path+'grape.csv')\n",
    "shinemuscat = pd.read_csv(processed_path+'shinemuscat.csv')\n",
    "\n",
    "train = pd.read_csv(raw_path+'train.csv')\n",
    "test = pd.read_csv(raw_path+'test.csv')\n",
    "private = pd.read_csv(raw_path+'private_data.csv')\n",
    "submission = pd.read_csv(raw_path+'sample_submission.csv')\n",
    "\n",
    "\n",
    "print(train.shape)\n",
    "print(test.shape)\n",
    "print(private.shape)\n",
    "print(submission.shape)"
   ]
  },
  {
   "cell_type": "code",
   "execution_count": 38,
   "metadata": {
    "ExecuteTime": {
     "end_time": "2022-10-04T10:29:38.868263Z",
     "start_time": "2022-10-04T10:29:38.865045Z"
    }
   },
   "outputs": [],
   "source": [
    "train = tomato.copy()\n",
    "\n",
    "unique_kind = ['토마토']"
   ]
  },
  {
   "cell_type": "code",
   "execution_count": 32,
   "metadata": {
    "ExecuteTime": {
     "end_time": "2022-10-04T10:28:25.853592Z",
     "start_time": "2022-10-04T10:28:22.889503Z"
    }
   },
   "outputs": [
    {
     "data": {
      "text/html": [
       "<div>\n",
       "<style scoped>\n",
       "    .dataframe tbody tr th:only-of-type {\n",
       "        vertical-align: middle;\n",
       "    }\n",
       "\n",
       "    .dataframe tbody tr th {\n",
       "        vertical-align: top;\n",
       "    }\n",
       "\n",
       "    .dataframe thead th {\n",
       "        text-align: right;\n",
       "    }\n",
       "</style>\n",
       "<table border=\"1\" class=\"dataframe\">\n",
       "  <thead>\n",
       "    <tr style=\"text-align: right;\">\n",
       "      <th></th>\n",
       "      <th>p_lag_1</th>\n",
       "      <th>q_lag_1</th>\n",
       "      <th>p_lag_2</th>\n",
       "      <th>q_lag_2</th>\n",
       "      <th>p_lag_3</th>\n",
       "      <th>q_lag_3</th>\n",
       "      <th>p_lag_4</th>\n",
       "      <th>q_lag_4</th>\n",
       "      <th>p_lag_5</th>\n",
       "      <th>q_lag_5</th>\n",
       "      <th>...</th>\n",
       "      <th>p_lag_26</th>\n",
       "      <th>q_lag_26</th>\n",
       "      <th>p_lag_27</th>\n",
       "      <th>q_lag_27</th>\n",
       "      <th>p_lag_28</th>\n",
       "      <th>q_lag_28</th>\n",
       "      <th>month</th>\n",
       "      <th>1_week</th>\n",
       "      <th>2_week</th>\n",
       "      <th>4_week</th>\n",
       "    </tr>\n",
       "  </thead>\n",
       "  <tbody>\n",
       "    <tr>\n",
       "      <th>0</th>\n",
       "      <td>-1</td>\n",
       "      <td>-1.0</td>\n",
       "      <td>-1</td>\n",
       "      <td>-1.0</td>\n",
       "      <td>-1</td>\n",
       "      <td>-1.0</td>\n",
       "      <td>-1</td>\n",
       "      <td>-1.0</td>\n",
       "      <td>-1</td>\n",
       "      <td>-1.0</td>\n",
       "      <td>...</td>\n",
       "      <td>-1</td>\n",
       "      <td>-1.0</td>\n",
       "      <td>-1</td>\n",
       "      <td>-1.0</td>\n",
       "      <td>-1</td>\n",
       "      <td>-1.0</td>\n",
       "      <td>1</td>\n",
       "      <td>2107</td>\n",
       "      <td>2436</td>\n",
       "      <td>2999</td>\n",
       "    </tr>\n",
       "    <tr>\n",
       "      <th>1</th>\n",
       "      <td>0</td>\n",
       "      <td>0.0</td>\n",
       "      <td>-1</td>\n",
       "      <td>-1.0</td>\n",
       "      <td>-1</td>\n",
       "      <td>-1.0</td>\n",
       "      <td>-1</td>\n",
       "      <td>-1.0</td>\n",
       "      <td>-1</td>\n",
       "      <td>-1.0</td>\n",
       "      <td>...</td>\n",
       "      <td>-1</td>\n",
       "      <td>-1.0</td>\n",
       "      <td>-1</td>\n",
       "      <td>-1.0</td>\n",
       "      <td>-1</td>\n",
       "      <td>-1.0</td>\n",
       "      <td>1</td>\n",
       "      <td>2111</td>\n",
       "      <td>2473</td>\n",
       "      <td>2966</td>\n",
       "    </tr>\n",
       "    <tr>\n",
       "      <th>2</th>\n",
       "      <td>1621</td>\n",
       "      <td>30950.0</td>\n",
       "      <td>0</td>\n",
       "      <td>0.0</td>\n",
       "      <td>-1</td>\n",
       "      <td>-1.0</td>\n",
       "      <td>-1</td>\n",
       "      <td>-1.0</td>\n",
       "      <td>-1</td>\n",
       "      <td>-1.0</td>\n",
       "      <td>...</td>\n",
       "      <td>-1</td>\n",
       "      <td>-1.0</td>\n",
       "      <td>-1</td>\n",
       "      <td>-1.0</td>\n",
       "      <td>-1</td>\n",
       "      <td>-1.0</td>\n",
       "      <td>1</td>\n",
       "      <td>0</td>\n",
       "      <td>0</td>\n",
       "      <td>0</td>\n",
       "    </tr>\n",
       "    <tr>\n",
       "      <th>3</th>\n",
       "      <td>0</td>\n",
       "      <td>0.0</td>\n",
       "      <td>1621</td>\n",
       "      <td>30950.0</td>\n",
       "      <td>0</td>\n",
       "      <td>0.0</td>\n",
       "      <td>-1</td>\n",
       "      <td>-1.0</td>\n",
       "      <td>-1</td>\n",
       "      <td>-1.0</td>\n",
       "      <td>...</td>\n",
       "      <td>-1</td>\n",
       "      <td>-1.0</td>\n",
       "      <td>-1</td>\n",
       "      <td>-1.0</td>\n",
       "      <td>-1</td>\n",
       "      <td>-1.0</td>\n",
       "      <td>1</td>\n",
       "      <td>2170</td>\n",
       "      <td>2513</td>\n",
       "      <td>3089</td>\n",
       "    </tr>\n",
       "    <tr>\n",
       "      <th>4</th>\n",
       "      <td>1834</td>\n",
       "      <td>291057.0</td>\n",
       "      <td>0</td>\n",
       "      <td>0.0</td>\n",
       "      <td>1621</td>\n",
       "      <td>30950.0</td>\n",
       "      <td>0</td>\n",
       "      <td>0.0</td>\n",
       "      <td>-1</td>\n",
       "      <td>-1.0</td>\n",
       "      <td>...</td>\n",
       "      <td>-1</td>\n",
       "      <td>-1.0</td>\n",
       "      <td>-1</td>\n",
       "      <td>-1.0</td>\n",
       "      <td>-1</td>\n",
       "      <td>-1.0</td>\n",
       "      <td>1</td>\n",
       "      <td>2281</td>\n",
       "      <td>2587</td>\n",
       "      <td>2892</td>\n",
       "    </tr>\n",
       "    <tr>\n",
       "      <th>...</th>\n",
       "      <td>...</td>\n",
       "      <td>...</td>\n",
       "      <td>...</td>\n",
       "      <td>...</td>\n",
       "      <td>...</td>\n",
       "      <td>...</td>\n",
       "      <td>...</td>\n",
       "      <td>...</td>\n",
       "      <td>...</td>\n",
       "      <td>...</td>\n",
       "      <td>...</td>\n",
       "      <td>...</td>\n",
       "      <td>...</td>\n",
       "      <td>...</td>\n",
       "      <td>...</td>\n",
       "      <td>...</td>\n",
       "      <td>...</td>\n",
       "      <td>...</td>\n",
       "      <td>...</td>\n",
       "      <td>...</td>\n",
       "      <td>...</td>\n",
       "    </tr>\n",
       "    <tr>\n",
       "      <th>1728</th>\n",
       "      <td>5529</td>\n",
       "      <td>88460.0</td>\n",
       "      <td>5536</td>\n",
       "      <td>108182.0</td>\n",
       "      <td>6004</td>\n",
       "      <td>228581.0</td>\n",
       "      <td>0</td>\n",
       "      <td>0.0</td>\n",
       "      <td>6299</td>\n",
       "      <td>169781.0</td>\n",
       "      <td>...</td>\n",
       "      <td>3140</td>\n",
       "      <td>333618.0</td>\n",
       "      <td>2664</td>\n",
       "      <td>240920.0</td>\n",
       "      <td>2268</td>\n",
       "      <td>280612.0</td>\n",
       "      <td>9</td>\n",
       "      <td>0</td>\n",
       "      <td>0</td>\n",
       "      <td>0</td>\n",
       "    </tr>\n",
       "    <tr>\n",
       "      <th>1729</th>\n",
       "      <td>5587</td>\n",
       "      <td>142487.0</td>\n",
       "      <td>5529</td>\n",
       "      <td>88460.0</td>\n",
       "      <td>5536</td>\n",
       "      <td>108182.0</td>\n",
       "      <td>6004</td>\n",
       "      <td>228581.0</td>\n",
       "      <td>0</td>\n",
       "      <td>0.0</td>\n",
       "      <td>...</td>\n",
       "      <td>0</td>\n",
       "      <td>0.0</td>\n",
       "      <td>3140</td>\n",
       "      <td>333618.0</td>\n",
       "      <td>2664</td>\n",
       "      <td>240920.0</td>\n",
       "      <td>9</td>\n",
       "      <td>0</td>\n",
       "      <td>0</td>\n",
       "      <td>0</td>\n",
       "    </tr>\n",
       "    <tr>\n",
       "      <th>1730</th>\n",
       "      <td>5596</td>\n",
       "      <td>152575.5</td>\n",
       "      <td>5587</td>\n",
       "      <td>142487.0</td>\n",
       "      <td>5529</td>\n",
       "      <td>88460.0</td>\n",
       "      <td>5536</td>\n",
       "      <td>108182.0</td>\n",
       "      <td>6004</td>\n",
       "      <td>228581.0</td>\n",
       "      <td>...</td>\n",
       "      <td>2970</td>\n",
       "      <td>430335.5</td>\n",
       "      <td>0</td>\n",
       "      <td>0.0</td>\n",
       "      <td>3140</td>\n",
       "      <td>333618.0</td>\n",
       "      <td>9</td>\n",
       "      <td>0</td>\n",
       "      <td>0</td>\n",
       "      <td>0</td>\n",
       "    </tr>\n",
       "    <tr>\n",
       "      <th>1731</th>\n",
       "      <td>5262</td>\n",
       "      <td>176807.0</td>\n",
       "      <td>5596</td>\n",
       "      <td>152575.5</td>\n",
       "      <td>5587</td>\n",
       "      <td>142487.0</td>\n",
       "      <td>5529</td>\n",
       "      <td>88460.0</td>\n",
       "      <td>5536</td>\n",
       "      <td>108182.0</td>\n",
       "      <td>...</td>\n",
       "      <td>3155</td>\n",
       "      <td>314110.0</td>\n",
       "      <td>2970</td>\n",
       "      <td>430335.5</td>\n",
       "      <td>0</td>\n",
       "      <td>0.0</td>\n",
       "      <td>9</td>\n",
       "      <td>0</td>\n",
       "      <td>0</td>\n",
       "      <td>0</td>\n",
       "    </tr>\n",
       "    <tr>\n",
       "      <th>1732</th>\n",
       "      <td>3781</td>\n",
       "      <td>910.0</td>\n",
       "      <td>5262</td>\n",
       "      <td>176807.0</td>\n",
       "      <td>5596</td>\n",
       "      <td>152575.5</td>\n",
       "      <td>5587</td>\n",
       "      <td>142487.0</td>\n",
       "      <td>5529</td>\n",
       "      <td>88460.0</td>\n",
       "      <td>...</td>\n",
       "      <td>3055</td>\n",
       "      <td>333594.0</td>\n",
       "      <td>3155</td>\n",
       "      <td>314110.0</td>\n",
       "      <td>2970</td>\n",
       "      <td>430335.5</td>\n",
       "      <td>9</td>\n",
       "      <td>0</td>\n",
       "      <td>0</td>\n",
       "      <td>0</td>\n",
       "    </tr>\n",
       "  </tbody>\n",
       "</table>\n",
       "<p>1733 rows × 60 columns</p>\n",
       "</div>"
      ],
      "text/plain": [
       "      p_lag_1   q_lag_1  p_lag_2   q_lag_2  p_lag_3   q_lag_3  p_lag_4  \\\n",
       "0          -1      -1.0       -1      -1.0       -1      -1.0       -1   \n",
       "1           0       0.0       -1      -1.0       -1      -1.0       -1   \n",
       "2        1621   30950.0        0       0.0       -1      -1.0       -1   \n",
       "3           0       0.0     1621   30950.0        0       0.0       -1   \n",
       "4        1834  291057.0        0       0.0     1621   30950.0        0   \n",
       "...       ...       ...      ...       ...      ...       ...      ...   \n",
       "1728     5529   88460.0     5536  108182.0     6004  228581.0        0   \n",
       "1729     5587  142487.0     5529   88460.0     5536  108182.0     6004   \n",
       "1730     5596  152575.5     5587  142487.0     5529   88460.0     5536   \n",
       "1731     5262  176807.0     5596  152575.5     5587  142487.0     5529   \n",
       "1732     3781     910.0     5262  176807.0     5596  152575.5     5587   \n",
       "\n",
       "       q_lag_4  p_lag_5   q_lag_5  ...  p_lag_26  q_lag_26  p_lag_27  \\\n",
       "0         -1.0       -1      -1.0  ...        -1      -1.0        -1   \n",
       "1         -1.0       -1      -1.0  ...        -1      -1.0        -1   \n",
       "2         -1.0       -1      -1.0  ...        -1      -1.0        -1   \n",
       "3         -1.0       -1      -1.0  ...        -1      -1.0        -1   \n",
       "4          0.0       -1      -1.0  ...        -1      -1.0        -1   \n",
       "...        ...      ...       ...  ...       ...       ...       ...   \n",
       "1728       0.0     6299  169781.0  ...      3140  333618.0      2664   \n",
       "1729  228581.0        0       0.0  ...         0       0.0      3140   \n",
       "1730  108182.0     6004  228581.0  ...      2970  430335.5         0   \n",
       "1731   88460.0     5536  108182.0  ...      3155  314110.0      2970   \n",
       "1732  142487.0     5529   88460.0  ...      3055  333594.0      3155   \n",
       "\n",
       "      q_lag_27  p_lag_28  q_lag_28  month  1_week  2_week  4_week  \n",
       "0         -1.0        -1      -1.0      1    2107    2436    2999  \n",
       "1         -1.0        -1      -1.0      1    2111    2473    2966  \n",
       "2         -1.0        -1      -1.0      1       0       0       0  \n",
       "3         -1.0        -1      -1.0      1    2170    2513    3089  \n",
       "4         -1.0        -1      -1.0      1    2281    2587    2892  \n",
       "...        ...       ...       ...    ...     ...     ...     ...  \n",
       "1728  240920.0      2268  280612.0      9       0       0       0  \n",
       "1729  333618.0      2664  240920.0      9       0       0       0  \n",
       "1730       0.0      3140  333618.0      9       0       0       0  \n",
       "1731  430335.5         0       0.0      9       0       0       0  \n",
       "1732  314110.0      2970  430335.5      9       0       0       0  \n",
       "\n",
       "[1733 rows x 60 columns]"
      ]
     },
     "execution_count": 32,
     "metadata": {},
     "output_type": "execute_result"
    }
   ],
   "source": [
    "# preprocessing 함수 예시\n",
    "pum = '토마토'\n",
    "temp_df = train[['date',f'{pum}_거래량(kg)', f'{pum}_가격(원/kg)']]\n",
    "preprocessing(temp_df, pum, len_lag=28)"
   ]
  },
  {
   "cell_type": "markdown",
   "metadata": {},
   "source": [
    "# 학습"
   ]
  },
  {
   "cell_type": "markdown",
   "metadata": {},
   "source": [
    "## metric 정의"
   ]
  },
  {
   "cell_type": "code",
   "execution_count": 33,
   "metadata": {
    "ExecuteTime": {
     "end_time": "2022-10-04T10:28:28.923452Z",
     "start_time": "2022-10-04T10:28:28.915716Z"
    }
   },
   "outputs": [],
   "source": [
    "from sklearn.metrics import mean_squared_error, r2_score, mean_absolute_error\n",
    "\n",
    "def rmse(week_answer, week_submission):\n",
    "    answer = week_answer.to_numpy()\n",
    "    target_idx = np.where(answer!=0)\n",
    "    true = answer[target_idx]\n",
    "    pred = week_submission[target_idx]\n",
    "    score = np.sqrt(mean_squared_error(true, pred))\n",
    "    \n",
    "    return score\n",
    "\n",
    "\n",
    "def at_rmse(pred, dataset):\n",
    "    y_true = dataset.get_label()\n",
    "    week_1_answer = y_true[0::3]\n",
    "    week_2_answer = y_true[1::3]\n",
    "    week_4_answer = y_true[2::3]\n",
    "    \n",
    "    week_1_submission = pred[0::3]\n",
    "    week_2_submission = pred[1::3]\n",
    "    week_4_submission = pred[2::3]\n",
    "    \n",
    "    score1 = rmse(week_1_answer, week_1_submission)\n",
    "    score2 = rmse(week_2_answer, week_2_submission)\n",
    "    score4 = rmse(week_4_answer, week_4_submission)\n",
    "    \n",
    "    score = (score1+score2+score4)/3\n",
    "    \n",
    "    return 'score', score, False"
   ]
  },
  {
   "cell_type": "markdown",
   "metadata": {},
   "source": [
    "## 학습 정의"
   ]
  },
  {
   "cell_type": "code",
   "execution_count": 34,
   "metadata": {
    "ExecuteTime": {
     "end_time": "2022-10-04T10:28:30.653600Z",
     "start_time": "2022-10-04T10:28:30.644799Z"
    }
   },
   "outputs": [],
   "source": [
    "def model_train(x_train, y_train, x_valid, y_valid) :\n",
    "    params = {'learning_rate': 0.01, \n",
    "              'max_depth': 6, \n",
    "              'boosting': 'gbdt', \n",
    "              'objective': 'regression',  \n",
    "              'is_training_metric': True, \n",
    "              'num_leaves': 100, \n",
    "              'feature_fraction': 0.8, \n",
    "              'bagging_fraction': 0.8, \n",
    "              'bagging_freq': 5, \n",
    "              'seed':42,\n",
    "              'num_threads':8\n",
    "             }\n",
    "\n",
    "    model = lightgbm.train(params, \n",
    "                   train_set = lightgbm.Dataset(data = x_train, label = y_train),\n",
    "                   num_boost_round = 10000, \n",
    "                   valid_sets = lightgbm.Dataset(data = x_valid, label = y_valid), \n",
    "                   init_model = None, \n",
    "                   early_stopping_rounds = 100,\n",
    "                   feval = at_rmse,\n",
    "                   verbose_eval = False\n",
    "                    )\n",
    "    \n",
    "    return model"
   ]
  },
  {
   "cell_type": "code",
   "execution_count": null,
   "metadata": {},
   "outputs": [],
   "source": [
    "model_train()"
   ]
  },
  {
   "cell_type": "markdown",
   "metadata": {},
   "source": [
    "## 품목 및 품종별 모델 학습"
   ]
  },
  {
   "cell_type": "code",
   "execution_count": 39,
   "metadata": {
    "ExecuteTime": {
     "end_time": "2022-10-04T10:29:43.863618Z",
     "start_time": "2022-10-04T10:29:40.907300Z"
    },
    "tags": []
   },
   "outputs": [
    {
     "name": "stderr",
     "output_type": "stream",
     "text": [
      "  0%|                                                               | 0/1 [00:02<?, ?it/s]"
     ]
    },
    {
     "name": "stdout",
     "output_type": "stream",
     "text": [
      "[LightGBM] [Warning] Auto-choosing col-wise multi-threading, the overhead of testing was 0.000687 seconds.\n",
      "You can set `force_col_wise=true` to remove the overhead.\n",
      "[LightGBM] [Info] Total Bins 14293\n",
      "[LightGBM] [Info] Number of data points in the train set: 1442, number of used features: 57\n",
      "[LightGBM] [Info] Start training from score 2141.410541\n",
      "[LightGBM] [Warning] No further splits with positive gain, best gain: -inf\n"
     ]
    },
    {
     "name": "stderr",
     "output_type": "stream",
     "text": [
      "\n"
     ]
    },
    {
     "ename": "AttributeError",
     "evalue": "'numpy.ndarray' object has no attribute 'to_numpy'",
     "output_type": "error",
     "traceback": [
      "\u001b[0;31m---------------------------------------------------------------------------\u001b[0m",
      "\u001b[0;31mAttributeError\u001b[0m                            Traceback (most recent call last)",
      "Input \u001b[0;32mIn [39]\u001b[0m, in \u001b[0;36m<cell line: 4>\u001b[0;34m()\u001b[0m\n\u001b[1;32m     17\u001b[0m x_valid \u001b[38;5;241m=\u001b[39m x[\u001b[38;5;241m-\u001b[39msplit:]\n\u001b[1;32m     18\u001b[0m y_valid \u001b[38;5;241m=\u001b[39m y[\u001b[38;5;241m-\u001b[39msplit:]\n\u001b[0;32m---> 20\u001b[0m model_dict[\u001b[38;5;124mf\u001b[39m\u001b[38;5;124m'\u001b[39m\u001b[38;5;132;01m{\u001b[39;00mpum\u001b[38;5;132;01m}\u001b[39;00m\u001b[38;5;124m_model_\u001b[39m\u001b[38;5;132;01m{\u001b[39;00mweek_num\u001b[38;5;132;01m}\u001b[39;00m\u001b[38;5;124m'\u001b[39m] \u001b[38;5;241m=\u001b[39m \u001b[43mmodel_train\u001b[49m\u001b[43m(\u001b[49m\u001b[43mx_train\u001b[49m\u001b[43m,\u001b[49m\u001b[43m \u001b[49m\u001b[43my_train\u001b[49m\u001b[43m,\u001b[49m\u001b[43m \u001b[49m\u001b[43mx_valid\u001b[49m\u001b[43m,\u001b[49m\u001b[43m \u001b[49m\u001b[43my_valid\u001b[49m\u001b[43m)\u001b[49m\n",
      "Input \u001b[0;32mIn [34]\u001b[0m, in \u001b[0;36mmodel_train\u001b[0;34m(x_train, y_train, x_valid, y_valid)\u001b[0m\n\u001b[1;32m      1\u001b[0m \u001b[38;5;28;01mdef\u001b[39;00m \u001b[38;5;21mmodel_train\u001b[39m(x_train, y_train, x_valid, y_valid) :\n\u001b[1;32m      2\u001b[0m     params \u001b[38;5;241m=\u001b[39m {\u001b[38;5;124m'\u001b[39m\u001b[38;5;124mlearning_rate\u001b[39m\u001b[38;5;124m'\u001b[39m: \u001b[38;5;241m0.01\u001b[39m, \n\u001b[1;32m      3\u001b[0m               \u001b[38;5;124m'\u001b[39m\u001b[38;5;124mmax_depth\u001b[39m\u001b[38;5;124m'\u001b[39m: \u001b[38;5;241m6\u001b[39m, \n\u001b[1;32m      4\u001b[0m               \u001b[38;5;124m'\u001b[39m\u001b[38;5;124mboosting\u001b[39m\u001b[38;5;124m'\u001b[39m: \u001b[38;5;124m'\u001b[39m\u001b[38;5;124mgbdt\u001b[39m\u001b[38;5;124m'\u001b[39m, \n\u001b[0;32m   (...)\u001b[0m\n\u001b[1;32m     12\u001b[0m               \u001b[38;5;124m'\u001b[39m\u001b[38;5;124mnum_threads\u001b[39m\u001b[38;5;124m'\u001b[39m:\u001b[38;5;241m8\u001b[39m\n\u001b[1;32m     13\u001b[0m              }\n\u001b[0;32m---> 15\u001b[0m     model \u001b[38;5;241m=\u001b[39m \u001b[43mlightgbm\u001b[49m\u001b[38;5;241;43m.\u001b[39;49m\u001b[43mtrain\u001b[49m\u001b[43m(\u001b[49m\u001b[43mparams\u001b[49m\u001b[43m,\u001b[49m\u001b[43m \u001b[49m\n\u001b[1;32m     16\u001b[0m \u001b[43m                   \u001b[49m\u001b[43mtrain_set\u001b[49m\u001b[43m \u001b[49m\u001b[38;5;241;43m=\u001b[39;49m\u001b[43m \u001b[49m\u001b[43mlightgbm\u001b[49m\u001b[38;5;241;43m.\u001b[39;49m\u001b[43mDataset\u001b[49m\u001b[43m(\u001b[49m\u001b[43mdata\u001b[49m\u001b[43m \u001b[49m\u001b[38;5;241;43m=\u001b[39;49m\u001b[43m \u001b[49m\u001b[43mx_train\u001b[49m\u001b[43m,\u001b[49m\u001b[43m \u001b[49m\u001b[43mlabel\u001b[49m\u001b[43m \u001b[49m\u001b[38;5;241;43m=\u001b[39;49m\u001b[43m \u001b[49m\u001b[43my_train\u001b[49m\u001b[43m)\u001b[49m\u001b[43m,\u001b[49m\n\u001b[1;32m     17\u001b[0m \u001b[43m                   \u001b[49m\u001b[43mnum_boost_round\u001b[49m\u001b[43m \u001b[49m\u001b[38;5;241;43m=\u001b[39;49m\u001b[43m \u001b[49m\u001b[38;5;241;43m10000\u001b[39;49m\u001b[43m,\u001b[49m\u001b[43m \u001b[49m\n\u001b[1;32m     18\u001b[0m \u001b[43m                   \u001b[49m\u001b[43mvalid_sets\u001b[49m\u001b[43m \u001b[49m\u001b[38;5;241;43m=\u001b[39;49m\u001b[43m \u001b[49m\u001b[43mlightgbm\u001b[49m\u001b[38;5;241;43m.\u001b[39;49m\u001b[43mDataset\u001b[49m\u001b[43m(\u001b[49m\u001b[43mdata\u001b[49m\u001b[43m \u001b[49m\u001b[38;5;241;43m=\u001b[39;49m\u001b[43m \u001b[49m\u001b[43mx_valid\u001b[49m\u001b[43m,\u001b[49m\u001b[43m \u001b[49m\u001b[43mlabel\u001b[49m\u001b[43m \u001b[49m\u001b[38;5;241;43m=\u001b[39;49m\u001b[43m \u001b[49m\u001b[43my_valid\u001b[49m\u001b[43m)\u001b[49m\u001b[43m,\u001b[49m\u001b[43m \u001b[49m\n\u001b[1;32m     19\u001b[0m \u001b[43m                   \u001b[49m\u001b[43minit_model\u001b[49m\u001b[43m \u001b[49m\u001b[38;5;241;43m=\u001b[39;49m\u001b[43m \u001b[49m\u001b[38;5;28;43;01mNone\u001b[39;49;00m\u001b[43m,\u001b[49m\u001b[43m \u001b[49m\n\u001b[1;32m     20\u001b[0m \u001b[43m                   \u001b[49m\u001b[43mearly_stopping_rounds\u001b[49m\u001b[43m \u001b[49m\u001b[38;5;241;43m=\u001b[39;49m\u001b[43m \u001b[49m\u001b[38;5;241;43m100\u001b[39;49m\u001b[43m,\u001b[49m\n\u001b[1;32m     21\u001b[0m \u001b[43m                   \u001b[49m\u001b[43mfeval\u001b[49m\u001b[43m \u001b[49m\u001b[38;5;241;43m=\u001b[39;49m\u001b[43m \u001b[49m\u001b[43mat_rmse\u001b[49m\u001b[43m,\u001b[49m\n\u001b[1;32m     22\u001b[0m \u001b[43m                   \u001b[49m\u001b[43mverbose_eval\u001b[49m\u001b[43m \u001b[49m\u001b[38;5;241;43m=\u001b[39;49m\u001b[43m \u001b[49m\u001b[38;5;28;43;01mFalse\u001b[39;49;00m\n\u001b[1;32m     23\u001b[0m \u001b[43m                    \u001b[49m\u001b[43m)\u001b[49m\n\u001b[1;32m     25\u001b[0m     \u001b[38;5;28;01mreturn\u001b[39;00m model\n",
      "File \u001b[0;32m~/miniforge3/envs/cge/lib/python3.8/site-packages/lightgbm/engine.py:299\u001b[0m, in \u001b[0;36mtrain\u001b[0;34m(params, train_set, num_boost_round, valid_sets, valid_names, fobj, feval, init_model, feature_name, categorical_feature, early_stopping_rounds, evals_result, verbose_eval, learning_rates, keep_training_booster, callbacks)\u001b[0m\n\u001b[1;32m    297\u001b[0m     \u001b[38;5;28;01mif\u001b[39;00m is_valid_contain_train:\n\u001b[1;32m    298\u001b[0m         evaluation_result_list\u001b[38;5;241m.\u001b[39mextend(booster\u001b[38;5;241m.\u001b[39meval_train(feval))\n\u001b[0;32m--> 299\u001b[0m     evaluation_result_list\u001b[38;5;241m.\u001b[39mextend(\u001b[43mbooster\u001b[49m\u001b[38;5;241;43m.\u001b[39;49m\u001b[43meval_valid\u001b[49m\u001b[43m(\u001b[49m\u001b[43mfeval\u001b[49m\u001b[43m)\u001b[49m)\n\u001b[1;32m    300\u001b[0m \u001b[38;5;28;01mtry\u001b[39;00m:\n\u001b[1;32m    301\u001b[0m     \u001b[38;5;28;01mfor\u001b[39;00m cb \u001b[38;5;129;01min\u001b[39;00m callbacks_after_iter:\n",
      "File \u001b[0;32m~/miniforge3/envs/cge/lib/python3.8/site-packages/lightgbm/basic.py:3271\u001b[0m, in \u001b[0;36mBooster.eval_valid\u001b[0;34m(self, feval)\u001b[0m\n\u001b[1;32m   3240\u001b[0m \u001b[38;5;28;01mdef\u001b[39;00m \u001b[38;5;21meval_valid\u001b[39m(\u001b[38;5;28mself\u001b[39m, feval\u001b[38;5;241m=\u001b[39m\u001b[38;5;28;01mNone\u001b[39;00m):\n\u001b[1;32m   3241\u001b[0m     \u001b[38;5;124;03m\"\"\"Evaluate for validation data.\u001b[39;00m\n\u001b[1;32m   3242\u001b[0m \n\u001b[1;32m   3243\u001b[0m \u001b[38;5;124;03m    Parameters\u001b[39;00m\n\u001b[0;32m   (...)\u001b[0m\n\u001b[1;32m   3269\u001b[0m \u001b[38;5;124;03m        List with evaluation results.\u001b[39;00m\n\u001b[1;32m   3270\u001b[0m \u001b[38;5;124;03m    \"\"\"\u001b[39;00m\n\u001b[0;32m-> 3271\u001b[0m     \u001b[38;5;28;01mreturn\u001b[39;00m [item \u001b[38;5;28;01mfor\u001b[39;00m i \u001b[38;5;129;01min\u001b[39;00m \u001b[38;5;28mrange\u001b[39m(\u001b[38;5;241m1\u001b[39m, \u001b[38;5;28mself\u001b[39m\u001b[38;5;241m.\u001b[39m__num_dataset)\n\u001b[1;32m   3272\u001b[0m             \u001b[38;5;28;01mfor\u001b[39;00m item \u001b[38;5;129;01min\u001b[39;00m \u001b[38;5;28mself\u001b[39m\u001b[38;5;241m.\u001b[39m__inner_eval(\u001b[38;5;28mself\u001b[39m\u001b[38;5;241m.\u001b[39mname_valid_sets[i \u001b[38;5;241m-\u001b[39m \u001b[38;5;241m1\u001b[39m], i, feval)]\n",
      "File \u001b[0;32m~/miniforge3/envs/cge/lib/python3.8/site-packages/lightgbm/basic.py:3272\u001b[0m, in \u001b[0;36m<listcomp>\u001b[0;34m(.0)\u001b[0m\n\u001b[1;32m   3240\u001b[0m \u001b[38;5;28;01mdef\u001b[39;00m \u001b[38;5;21meval_valid\u001b[39m(\u001b[38;5;28mself\u001b[39m, feval\u001b[38;5;241m=\u001b[39m\u001b[38;5;28;01mNone\u001b[39;00m):\n\u001b[1;32m   3241\u001b[0m     \u001b[38;5;124;03m\"\"\"Evaluate for validation data.\u001b[39;00m\n\u001b[1;32m   3242\u001b[0m \n\u001b[1;32m   3243\u001b[0m \u001b[38;5;124;03m    Parameters\u001b[39;00m\n\u001b[0;32m   (...)\u001b[0m\n\u001b[1;32m   3269\u001b[0m \u001b[38;5;124;03m        List with evaluation results.\u001b[39;00m\n\u001b[1;32m   3270\u001b[0m \u001b[38;5;124;03m    \"\"\"\u001b[39;00m\n\u001b[1;32m   3271\u001b[0m     \u001b[38;5;28;01mreturn\u001b[39;00m [item \u001b[38;5;28;01mfor\u001b[39;00m i \u001b[38;5;129;01min\u001b[39;00m \u001b[38;5;28mrange\u001b[39m(\u001b[38;5;241m1\u001b[39m, \u001b[38;5;28mself\u001b[39m\u001b[38;5;241m.\u001b[39m__num_dataset)\n\u001b[0;32m-> 3272\u001b[0m             \u001b[38;5;28;01mfor\u001b[39;00m item \u001b[38;5;129;01min\u001b[39;00m \u001b[38;5;28;43mself\u001b[39;49m\u001b[38;5;241;43m.\u001b[39;49m\u001b[43m__inner_eval\u001b[49m\u001b[43m(\u001b[49m\u001b[38;5;28;43mself\u001b[39;49m\u001b[38;5;241;43m.\u001b[39;49m\u001b[43mname_valid_sets\u001b[49m\u001b[43m[\u001b[49m\u001b[43mi\u001b[49m\u001b[43m \u001b[49m\u001b[38;5;241;43m-\u001b[39;49m\u001b[43m \u001b[49m\u001b[38;5;241;43m1\u001b[39;49m\u001b[43m]\u001b[49m\u001b[43m,\u001b[49m\u001b[43m \u001b[49m\u001b[43mi\u001b[49m\u001b[43m,\u001b[49m\u001b[43m \u001b[49m\u001b[43mfeval\u001b[49m\u001b[43m)\u001b[49m]\n",
      "File \u001b[0;32m~/miniforge3/envs/cge/lib/python3.8/site-packages/lightgbm/basic.py:3809\u001b[0m, in \u001b[0;36mBooster.__inner_eval\u001b[0;34m(self, data_name, data_idx, feval)\u001b[0m\n\u001b[1;32m   3807\u001b[0m \u001b[38;5;28;01mif\u001b[39;00m eval_function \u001b[38;5;129;01mis\u001b[39;00m \u001b[38;5;28;01mNone\u001b[39;00m:\n\u001b[1;32m   3808\u001b[0m     \u001b[38;5;28;01mcontinue\u001b[39;00m\n\u001b[0;32m-> 3809\u001b[0m feval_ret \u001b[38;5;241m=\u001b[39m \u001b[43meval_function\u001b[49m\u001b[43m(\u001b[49m\u001b[38;5;28;43mself\u001b[39;49m\u001b[38;5;241;43m.\u001b[39;49m\u001b[43m__inner_predict\u001b[49m\u001b[43m(\u001b[49m\u001b[43mdata_idx\u001b[49m\u001b[43m)\u001b[49m\u001b[43m,\u001b[49m\u001b[43m \u001b[49m\u001b[43mcur_data\u001b[49m\u001b[43m)\u001b[49m\n\u001b[1;32m   3810\u001b[0m \u001b[38;5;28;01mif\u001b[39;00m \u001b[38;5;28misinstance\u001b[39m(feval_ret, \u001b[38;5;28mlist\u001b[39m):\n\u001b[1;32m   3811\u001b[0m     \u001b[38;5;28;01mfor\u001b[39;00m eval_name, val, is_higher_better \u001b[38;5;129;01min\u001b[39;00m feval_ret:\n",
      "Input \u001b[0;32mIn [33]\u001b[0m, in \u001b[0;36mat_rmse\u001b[0;34m(pred, dataset)\u001b[0m\n\u001b[1;32m     20\u001b[0m week_2_submission \u001b[38;5;241m=\u001b[39m pred[\u001b[38;5;241m1\u001b[39m::\u001b[38;5;241m3\u001b[39m]\n\u001b[1;32m     21\u001b[0m week_4_submission \u001b[38;5;241m=\u001b[39m pred[\u001b[38;5;241m2\u001b[39m::\u001b[38;5;241m3\u001b[39m]\n\u001b[0;32m---> 23\u001b[0m score1 \u001b[38;5;241m=\u001b[39m \u001b[43mrmse\u001b[49m\u001b[43m(\u001b[49m\u001b[43mweek_1_answer\u001b[49m\u001b[43m,\u001b[49m\u001b[43m \u001b[49m\u001b[43mweek_1_submission\u001b[49m\u001b[43m)\u001b[49m\n\u001b[1;32m     24\u001b[0m score2 \u001b[38;5;241m=\u001b[39m rmse(week_2_answer, week_2_submission)\n\u001b[1;32m     25\u001b[0m score4 \u001b[38;5;241m=\u001b[39m rmse(week_4_answer, week_4_submission)\n",
      "Input \u001b[0;32mIn [33]\u001b[0m, in \u001b[0;36mrmse\u001b[0;34m(week_answer, week_submission)\u001b[0m\n\u001b[1;32m      3\u001b[0m \u001b[38;5;28;01mdef\u001b[39;00m \u001b[38;5;21mrmse\u001b[39m(week_answer, week_submission):\n\u001b[0;32m----> 4\u001b[0m     answer \u001b[38;5;241m=\u001b[39m \u001b[43mweek_answer\u001b[49m\u001b[38;5;241;43m.\u001b[39;49m\u001b[43mto_numpy\u001b[49m()\n\u001b[1;32m      5\u001b[0m     target_idx \u001b[38;5;241m=\u001b[39m np\u001b[38;5;241m.\u001b[39mwhere(answer\u001b[38;5;241m!=\u001b[39m\u001b[38;5;241m0\u001b[39m)\n\u001b[1;32m      6\u001b[0m     true \u001b[38;5;241m=\u001b[39m answer[target_idx]\n",
      "\u001b[0;31mAttributeError\u001b[0m: 'numpy.ndarray' object has no attribute 'to_numpy'"
     ]
    }
   ],
   "source": [
    "model_dict = {}\n",
    "split = 28 #validation\n",
    "\n",
    "for pum in tqdm(unique_kind):\n",
    "    # 품목 품종별 전처리\n",
    "    temp_df = train[['date',f'{pum}_거래량(kg)', f'{pum}_가격(원/kg)']]\n",
    "    temp_df = preprocessing(temp_df, pum, len_lag=28)\n",
    "    \n",
    "    # 주차별(1,2,4w) 학습\n",
    "    for week_num in [1,2,4] :\n",
    "        x = temp_df[temp_df[f'{week_num}_week']>0].iloc[:,:-3]\n",
    "        y = temp_df[temp_df[f'{week_num}_week']>0][f'{week_num}_week']\n",
    "        \n",
    "        #train, test split\n",
    "        x_train = x[:-split]\n",
    "        y_train = y[:-split]\n",
    "        x_valid = x[-split:]\n",
    "        y_valid = y[-split:]\n",
    "        \n",
    "        model_dict[f'{pum}_model_{week_num}'] = model_train(x_train, y_train, x_valid, y_valid)"
   ]
  },
  {
   "cell_type": "markdown",
   "metadata": {},
   "source": [
    "# 추론"
   ]
  },
  {
   "cell_type": "code",
   "execution_count": 68,
   "metadata": {},
   "outputs": [
    {
     "name": "stderr",
     "output_type": "stream",
     "text": [
      "100%|██████████| 38/38 [01:58<00:00,  3.13s/it]\n"
     ]
    }
   ],
   "source": [
    "public_date_list = submission[submission['예측대상일자'].str.contains('2020')]['예측대상일자'].str.split('+').str[0].unique()\n",
    "# ['2020-09-29', ...]\n",
    "\n",
    "for date in tqdm(public_date_list) :\n",
    "    test = pd.read_csv(f'./data/public_data/test_files/test_{date}.csv')\n",
    "    for pum in unique_pum + unique_kind:\n",
    "        # 예측기준일에 대해 전처리\n",
    "        temp_test = pd.DataFrame([{'date' : date}]) #예측기준일\n",
    "        alldata = pd.concat([train, test, temp_test], sort=False).reset_index(drop=True)\n",
    "        alldata = alldata[['date', f'{pum}_거래량(kg)', f'{pum}_가격(원/kg)']].fillna(0)\n",
    "        alldata = alldata.iloc[-28:].reset_index(drop=True)\n",
    "        alldata = preprocessing(alldata, pum, len_lag=28)\n",
    "        temp_test = alldata.iloc[-1].astype(float)\n",
    "        \n",
    "        # 개별 모델을 활용하여 1,2,4주 후 가격 예측\n",
    "        for week_num in [1,2,4] :\n",
    "            temp_model = model_dict[f'{pum}_model_{week_num}']\n",
    "            result = temp_model.predict(temp_test)\n",
    "            condition = (submission['예측대상일자']==f'{date}+{week_num}week')\n",
    "            idx = submission[condition].index\n",
    "            submission.loc[idx, f'{pum}_가격(원/kg)'] = result[0]"
   ]
  },
  {
   "cell_type": "code",
   "execution_count": 69,
   "metadata": {},
   "outputs": [],
   "source": [
    "submission.to_csv('baseline2_0920.csv',index=False)"
   ]
  }
 ],
 "metadata": {
  "colab": {
   "name": "Untitled0.ipynb",
   "provenance": [],
   "toc_visible": true
  },
  "kernelspec": {
   "display_name": "Python 3 (ipykernel)",
   "language": "python",
   "name": "python3"
  },
  "language_info": {
   "codemirror_mode": {
    "name": "ipython",
    "version": 3
   },
   "file_extension": ".py",
   "mimetype": "text/x-python",
   "name": "python",
   "nbconvert_exporter": "python",
   "pygments_lexer": "ipython3",
   "version": "3.8.13"
  },
  "toc": {
   "base_numbering": 1,
   "nav_menu": {},
   "number_sections": true,
   "sideBar": true,
   "skip_h1_title": false,
   "title_cell": "Table of Contents",
   "title_sidebar": "Contents",
   "toc_cell": false,
   "toc_position": {},
   "toc_section_display": true,
   "toc_window_display": false
  }
 },
 "nbformat": 4,
 "nbformat_minor": 4
}
